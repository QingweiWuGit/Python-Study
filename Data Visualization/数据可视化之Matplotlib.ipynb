{
 "cells": [
  {
   "cell_type": "code",
   "execution_count": 1,
   "id": "df23aa28",
   "metadata": {},
   "outputs": [],
   "source": [
    "import numpy as np\n",
    "import pandas as pd\n",
    "import matplotlib.pyplot as plt\n",
    "# 设置中文\n",
    "plt.rcParams['font.sans-serif'] = ['Arial Unicode MS']"
   ]
  },
  {
   "cell_type": "markdown",
   "id": "c477048e",
   "metadata": {},
   "source": [
    "## 2-3 绘制北京地区近10年总人口和在岗职工平均工资走势图"
   ]
  },
  {
   "cell_type": "code",
   "execution_count": 2,
   "id": "d4d768ca",
   "metadata": {},
   "outputs": [],
   "source": [
    "df_dict = {}\n",
    "total_population = [1397.40, 1375.80, 1359.20, 1362.86, 1345.20, 1333.40, 1316.34, 1297.46, 1277.92]\n",
    "df_dict['北京年末总人口（万人）'] = total_population\n",
    "avg_salary = [173205, 149843, 134994, 122749, 113073, 103400, 93997, 85306, 75835]\n",
    "df_dict['北京在岗职工平均工资（元）'] = avg_salary\n",
    "df = pd.DataFrame(df_dict)\n",
    "df.index = ['2019年', '2018年', '2017年', '2016年', '2015年', '2014年', '2013年', '2012年', '2011年']\n",
    "df = df.sort_index(ascending=True)"
   ]
  },
  {
   "cell_type": "code",
   "execution_count": 3,
   "id": "831023ec",
   "metadata": {},
   "outputs": [
    {
     "data": {
      "text/html": [
       "<div>\n",
       "<style scoped>\n",
       "    .dataframe tbody tr th:only-of-type {\n",
       "        vertical-align: middle;\n",
       "    }\n",
       "\n",
       "    .dataframe tbody tr th {\n",
       "        vertical-align: top;\n",
       "    }\n",
       "\n",
       "    .dataframe thead th {\n",
       "        text-align: right;\n",
       "    }\n",
       "</style>\n",
       "<table border=\"1\" class=\"dataframe\">\n",
       "  <thead>\n",
       "    <tr style=\"text-align: right;\">\n",
       "      <th></th>\n",
       "      <th>2011年</th>\n",
       "      <th>2012年</th>\n",
       "      <th>2013年</th>\n",
       "      <th>2014年</th>\n",
       "      <th>2015年</th>\n",
       "      <th>2016年</th>\n",
       "      <th>2017年</th>\n",
       "      <th>2018年</th>\n",
       "      <th>2019年</th>\n",
       "    </tr>\n",
       "  </thead>\n",
       "  <tbody>\n",
       "    <tr>\n",
       "      <th>北京年末总人口（万人）</th>\n",
       "      <td>1277.92</td>\n",
       "      <td>1297.46</td>\n",
       "      <td>1316.34</td>\n",
       "      <td>1333.4</td>\n",
       "      <td>1345.2</td>\n",
       "      <td>1362.86</td>\n",
       "      <td>1359.2</td>\n",
       "      <td>1375.8</td>\n",
       "      <td>1397.4</td>\n",
       "    </tr>\n",
       "    <tr>\n",
       "      <th>北京在岗职工平均工资（元）</th>\n",
       "      <td>75835.00</td>\n",
       "      <td>85306.00</td>\n",
       "      <td>93997.00</td>\n",
       "      <td>103400.0</td>\n",
       "      <td>113073.0</td>\n",
       "      <td>122749.00</td>\n",
       "      <td>134994.0</td>\n",
       "      <td>149843.0</td>\n",
       "      <td>173205.0</td>\n",
       "    </tr>\n",
       "  </tbody>\n",
       "</table>\n",
       "</div>"
      ],
      "text/plain": [
       "                  2011年     2012年     2013年     2014年     2015年      2016年  \\\n",
       "北京年末总人口（万人）     1277.92   1297.46   1316.34    1333.4    1345.2    1362.86   \n",
       "北京在岗职工平均工资（元）  75835.00  85306.00  93997.00  103400.0  113073.0  122749.00   \n",
       "\n",
       "                  2017年     2018年     2019年  \n",
       "北京年末总人口（万人）      1359.2    1375.8    1397.4  \n",
       "北京在岗职工平均工资（元）  134994.0  149843.0  173205.0  "
      ]
     },
     "execution_count": 3,
     "metadata": {},
     "output_type": "execute_result"
    }
   ],
   "source": [
    "df.T"
   ]
  },
  {
   "cell_type": "code",
   "execution_count": 4,
   "id": "57ffed69",
   "metadata": {},
   "outputs": [
    {
     "data": {
      "image/png": "[encoded data removed]",
      "text/plain": [
       "<Figure size 432x288 with 2 Axes>"
      ]
     },
     "metadata": {
      "needs_background": "light"
     },
     "output_type": "display_data"
    }
   ],
   "source": [
    "# 创建子图\n",
    "fig, axs = plt.subplots(2, 1)\n",
    "\n",
    "# 调整子图间距\n",
    "fig.tight_layout(pad=2)\n",
    "\n",
    "# 填充数据、绘制图标\n",
    "axs[0].plot(df['北京年末总人口（万人）'], color='red')\n",
    "axs[1].plot(df['北京在岗职工平均工资（元）'], color='green')\n",
    "\n",
    "# 参数设置\n",
    "axs[0].set_title('北京年末总人口（万人）')\n",
    "axs[1].set_title('北京在岗职工平均工资（元）')\n",
    "\n",
    "# 显示\n",
    "plt.show()"
   ]
  },
  {
   "cell_type": "markdown",
   "id": "b86e42bc",
   "metadata": {},
   "source": [
    "## 3-2 探索人均寿命和GDP的相关性"
   ]
  },
  {
   "cell_type": "code",
   "execution_count": 5,
   "id": "2b83dc3c",
   "metadata": {},
   "outputs": [
    {
     "data": {
      "text/html": [
       "<div>\n",
       "<style scoped>\n",
       "    .dataframe tbody tr th:only-of-type {\n",
       "        vertical-align: middle;\n",
       "    }\n",
       "\n",
       "    .dataframe tbody tr th {\n",
       "        vertical-align: top;\n",
       "    }\n",
       "\n",
       "    .dataframe thead th {\n",
       "        text-align: right;\n",
       "    }\n",
       "</style>\n",
       "<table border=\"1\" class=\"dataframe\">\n",
       "  <thead>\n",
       "    <tr style=\"text-align: right;\">\n",
       "      <th></th>\n",
       "      <th>Country</th>\n",
       "      <th>Continent</th>\n",
       "      <th>Life_expectancy</th>\n",
       "      <th>GDP_per_capita</th>\n",
       "      <th>Population</th>\n",
       "    </tr>\n",
       "  </thead>\n",
       "  <tbody>\n",
       "    <tr>\n",
       "      <th>0</th>\n",
       "      <td>Algeria</td>\n",
       "      <td>Africa</td>\n",
       "      <td>75.042537</td>\n",
       "      <td>4132.760292</td>\n",
       "      <td>39871528.0</td>\n",
       "    </tr>\n",
       "    <tr>\n",
       "      <th>1</th>\n",
       "      <td>Angola</td>\n",
       "      <td>Africa</td>\n",
       "      <td>52.666098</td>\n",
       "      <td>3695.793748</td>\n",
       "      <td>27859305.0</td>\n",
       "    </tr>\n",
       "    <tr>\n",
       "      <th>2</th>\n",
       "      <td>Benin</td>\n",
       "      <td>Africa</td>\n",
       "      <td>59.720707</td>\n",
       "      <td>783.947091</td>\n",
       "      <td>10575952.0</td>\n",
       "    </tr>\n",
       "    <tr>\n",
       "      <th>3</th>\n",
       "      <td>Botswana</td>\n",
       "      <td>Africa</td>\n",
       "      <td>64.487415</td>\n",
       "      <td>6532.060501</td>\n",
       "      <td>2209197.0</td>\n",
       "    </tr>\n",
       "    <tr>\n",
       "      <th>4</th>\n",
       "      <td>Burundi</td>\n",
       "      <td>Africa</td>\n",
       "      <td>57.107049</td>\n",
       "      <td>303.681022</td>\n",
       "      <td>10199270.0</td>\n",
       "    </tr>\n",
       "    <tr>\n",
       "      <th>...</th>\n",
       "      <td>...</td>\n",
       "      <td>...</td>\n",
       "      <td>...</td>\n",
       "      <td>...</td>\n",
       "      <td>...</td>\n",
       "    </tr>\n",
       "    <tr>\n",
       "      <th>159</th>\n",
       "      <td>Guyana</td>\n",
       "      <td>South America</td>\n",
       "      <td>66.507512</td>\n",
       "      <td>4136.689919</td>\n",
       "      <td>768514.0</td>\n",
       "    </tr>\n",
       "    <tr>\n",
       "      <th>160</th>\n",
       "      <td>Paraguay</td>\n",
       "      <td>South America</td>\n",
       "      <td>73.025634</td>\n",
       "      <td>4109.367724</td>\n",
       "      <td>6639119.0</td>\n",
       "    </tr>\n",
       "    <tr>\n",
       "      <th>161</th>\n",
       "      <td>Peru</td>\n",
       "      <td>South America</td>\n",
       "      <td>74.780732</td>\n",
       "      <td>6030.343259</td>\n",
       "      <td>31376671.0</td>\n",
       "    </tr>\n",
       "    <tr>\n",
       "      <th>162</th>\n",
       "      <td>Suriname</td>\n",
       "      <td>South America</td>\n",
       "      <td>71.294171</td>\n",
       "      <td>8818.982566</td>\n",
       "      <td>553208.0</td>\n",
       "    </tr>\n",
       "    <tr>\n",
       "      <th>163</th>\n",
       "      <td>Uruguay</td>\n",
       "      <td>South America</td>\n",
       "      <td>77.138220</td>\n",
       "      <td>15524.842470</td>\n",
       "      <td>3431552.0</td>\n",
       "    </tr>\n",
       "  </tbody>\n",
       "</table>\n",
       "<p>164 rows × 5 columns</p>\n",
       "</div>"
      ],
      "text/plain": [
       "      Country      Continent  Life_expectancy  GDP_per_capita  Population\n",
       "0     Algeria         Africa        75.042537     4132.760292  39871528.0\n",
       "1      Angola         Africa        52.666098     3695.793748  27859305.0\n",
       "2       Benin         Africa        59.720707      783.947091  10575952.0\n",
       "3    Botswana         Africa        64.487415     6532.060501   2209197.0\n",
       "4     Burundi         Africa        57.107049      303.681022  10199270.0\n",
       "..        ...            ...              ...             ...         ...\n",
       "159    Guyana  South America        66.507512     4136.689919    768514.0\n",
       "160  Paraguay  South America        73.025634     4109.367724   6639119.0\n",
       "161      Peru  South America        74.780732     6030.343259  31376671.0\n",
       "162  Suriname  South America        71.294171     8818.982566    553208.0\n",
       "163   Uruguay  South America        77.138220    15524.842470   3431552.0\n",
       "\n",
       "[164 rows x 5 columns]"
      ]
     },
     "execution_count": 5,
     "metadata": {},
     "output_type": "execute_result"
    }
   ],
   "source": [
    "# 探索人均寿命和GDP的相关性\n",
    "data = pd.read_csv('WorldBank.csv')\n",
    "data"
   ]
  },
  {
   "cell_type": "code",
   "execution_count": 6,
   "id": "014bdb34",
   "metadata": {},
   "outputs": [
    {
     "data": {
      "image/png": "[encoded data removed]",
      "text/plain": [
       "<Figure size 432x288 with 1 Axes>"
      ]
     },
     "metadata": {
      "needs_background": "light"
     },
     "output_type": "display_data"
    }
   ],
   "source": [
    "# 绘制散点图\n",
    "plt.scatter(data['GDP_per_capita'], data['Life_expectancy'], color='green',marker='*')\n",
    "\n",
    "plt.title('GDP vs life')\n",
    "plt.xlabel('GDP')\n",
    "plt.ylabel('life')\n",
    "\n",
    "plt.grid()"
   ]
  },
  {
   "cell_type": "markdown",
   "id": "6e6f8c6b",
   "metadata": {},
   "source": [
    "## 3-4 绘制天气热力图"
   ]
  },
  {
   "cell_type": "code",
   "execution_count": 7,
   "id": "e3b80d7f",
   "metadata": {},
   "outputs": [],
   "source": [
    "# 绘制天气热力图\n",
    "\n",
    "days = ['星期一', '星期二', '星期三', '星期四', '星期五', '星期六', '星期日']\n",
    "weeks = ['第1周', '第2周', '第3周', '第4周', '第5周']\n",
    "tempeture = np.array([[np.NaN, np.NaN, 20, 20, 19, 19, 19], \n",
    "          [20, 19, 19, 19, 20, 20, 18], \n",
    "          [19, 19, 19, 19, 17, 19, 19],\n",
    "          [19, 19, 18, 19, 20, 19, 14],\n",
    "          [12, 12, 12, 11, 11, np.NaN, np.NaN]])"
   ]
  },
  {
   "cell_type": "code",
   "execution_count": 8,
   "id": "cc7a35f9",
   "metadata": {},
   "outputs": [
    {
     "data": {
      "text/plain": [
       "Text(0.5, 1.0, '海南省海口市2020年1月最低气温')"
      ]
     },
     "execution_count": 8,
     "metadata": {},
     "output_type": "execute_result"
    },
    {
     "data": {
      "image/png": "[encoded data removed]",
      "text/plain": [
       "<Figure size 432x288 with 1 Axes>"
      ]
     },
     "metadata": {
      "needs_background": "light"
     },
     "output_type": "display_data"
    }
   ],
   "source": [
    "plt.rcParams['font.sans-serif'] = ['Arial Unicode MS']\n",
    "\n",
    "fig, ax = plt.subplots(1, 1)\n",
    "\n",
    "ax.imshow(tempeture)\n",
    "\n",
    "for week in np.arange(len(weeks)):\n",
    "    for day in np.arange(len(days)):\n",
    "        plt.text(day, week, tempeture[week][day], color='b', ha='center', va='center')\n",
    "\n",
    "# 设置坐标轴的类别数据标签 \n",
    "ax.set_xticks(np.arange(len(days)))\n",
    "ax.set_yticks(np.arange(len(weeks)))\n",
    "ax.set_xticklabels(days)\n",
    "ax.set_yticklabels(weeks)\n",
    "\n",
    "# 添加标题\n",
    "ax.set_title('海南省海口市2020年1月最低气温')"
   ]
  },
  {
   "cell_type": "markdown",
   "id": "e59df6ca",
   "metadata": {},
   "source": [
    "## 3-6 绘制人均GDP直方图和人均寿命箱型图"
   ]
  },
  {
   "cell_type": "code",
   "execution_count": 9,
   "id": "689e5a57",
   "metadata": {},
   "outputs": [],
   "source": [
    "world_bank = pd.read_csv(\"WorldBank.csv\")"
   ]
  },
  {
   "cell_type": "code",
   "execution_count": 10,
   "id": "7129f801",
   "metadata": {},
   "outputs": [
    {
     "data": {
      "text/html": [
       "<div>\n",
       "<style scoped>\n",
       "    .dataframe tbody tr th:only-of-type {\n",
       "        vertical-align: middle;\n",
       "    }\n",
       "\n",
       "    .dataframe tbody tr th {\n",
       "        vertical-align: top;\n",
       "    }\n",
       "\n",
       "    .dataframe thead th {\n",
       "        text-align: right;\n",
       "    }\n",
       "</style>\n",
       "<table border=\"1\" class=\"dataframe\">\n",
       "  <thead>\n",
       "    <tr style=\"text-align: right;\">\n",
       "      <th></th>\n",
       "      <th>Country</th>\n",
       "      <th>Continent</th>\n",
       "      <th>Life_expectancy</th>\n",
       "      <th>GDP_per_capita</th>\n",
       "      <th>Population</th>\n",
       "    </tr>\n",
       "  </thead>\n",
       "  <tbody>\n",
       "    <tr>\n",
       "      <th>0</th>\n",
       "      <td>Algeria</td>\n",
       "      <td>Africa</td>\n",
       "      <td>75.042537</td>\n",
       "      <td>4132.760292</td>\n",
       "      <td>39871528.0</td>\n",
       "    </tr>\n",
       "    <tr>\n",
       "      <th>1</th>\n",
       "      <td>Angola</td>\n",
       "      <td>Africa</td>\n",
       "      <td>52.666098</td>\n",
       "      <td>3695.793748</td>\n",
       "      <td>27859305.0</td>\n",
       "    </tr>\n",
       "    <tr>\n",
       "      <th>2</th>\n",
       "      <td>Benin</td>\n",
       "      <td>Africa</td>\n",
       "      <td>59.720707</td>\n",
       "      <td>783.947091</td>\n",
       "      <td>10575952.0</td>\n",
       "    </tr>\n",
       "    <tr>\n",
       "      <th>3</th>\n",
       "      <td>Botswana</td>\n",
       "      <td>Africa</td>\n",
       "      <td>64.487415</td>\n",
       "      <td>6532.060501</td>\n",
       "      <td>2209197.0</td>\n",
       "    </tr>\n",
       "    <tr>\n",
       "      <th>4</th>\n",
       "      <td>Burundi</td>\n",
       "      <td>Africa</td>\n",
       "      <td>57.107049</td>\n",
       "      <td>303.681022</td>\n",
       "      <td>10199270.0</td>\n",
       "    </tr>\n",
       "    <tr>\n",
       "      <th>...</th>\n",
       "      <td>...</td>\n",
       "      <td>...</td>\n",
       "      <td>...</td>\n",
       "      <td>...</td>\n",
       "      <td>...</td>\n",
       "    </tr>\n",
       "    <tr>\n",
       "      <th>159</th>\n",
       "      <td>Guyana</td>\n",
       "      <td>South America</td>\n",
       "      <td>66.507512</td>\n",
       "      <td>4136.689919</td>\n",
       "      <td>768514.0</td>\n",
       "    </tr>\n",
       "    <tr>\n",
       "      <th>160</th>\n",
       "      <td>Paraguay</td>\n",
       "      <td>South America</td>\n",
       "      <td>73.025634</td>\n",
       "      <td>4109.367724</td>\n",
       "      <td>6639119.0</td>\n",
       "    </tr>\n",
       "    <tr>\n",
       "      <th>161</th>\n",
       "      <td>Peru</td>\n",
       "      <td>South America</td>\n",
       "      <td>74.780732</td>\n",
       "      <td>6030.343259</td>\n",
       "      <td>31376671.0</td>\n",
       "    </tr>\n",
       "    <tr>\n",
       "      <th>162</th>\n",
       "      <td>Suriname</td>\n",
       "      <td>South America</td>\n",
       "      <td>71.294171</td>\n",
       "      <td>8818.982566</td>\n",
       "      <td>553208.0</td>\n",
       "    </tr>\n",
       "    <tr>\n",
       "      <th>163</th>\n",
       "      <td>Uruguay</td>\n",
       "      <td>South America</td>\n",
       "      <td>77.138220</td>\n",
       "      <td>15524.842470</td>\n",
       "      <td>3431552.0</td>\n",
       "    </tr>\n",
       "  </tbody>\n",
       "</table>\n",
       "<p>164 rows × 5 columns</p>\n",
       "</div>"
      ],
      "text/plain": [
       "      Country      Continent  Life_expectancy  GDP_per_capita  Population\n",
       "0     Algeria         Africa        75.042537     4132.760292  39871528.0\n",
       "1      Angola         Africa        52.666098     3695.793748  27859305.0\n",
       "2       Benin         Africa        59.720707      783.947091  10575952.0\n",
       "3    Botswana         Africa        64.487415     6532.060501   2209197.0\n",
       "4     Burundi         Africa        57.107049      303.681022  10199270.0\n",
       "..        ...            ...              ...             ...         ...\n",
       "159    Guyana  South America        66.507512     4136.689919    768514.0\n",
       "160  Paraguay  South America        73.025634     4109.367724   6639119.0\n",
       "161      Peru  South America        74.780732     6030.343259  31376671.0\n",
       "162  Suriname  South America        71.294171     8818.982566    553208.0\n",
       "163   Uruguay  South America        77.138220    15524.842470   3431552.0\n",
       "\n",
       "[164 rows x 5 columns]"
      ]
     },
     "execution_count": 10,
     "metadata": {},
     "output_type": "execute_result"
    }
   ],
   "source": [
    "world_bank"
   ]
  },
  {
   "cell_type": "code",
   "execution_count": 11,
   "id": "a2a3da0f",
   "metadata": {},
   "outputs": [],
   "source": [
    "gdp_per_capita = world_bank['GDP_per_capita']\n",
    "#gdp_per_capita"
   ]
  },
  {
   "cell_type": "code",
   "execution_count": 12,
   "id": "4af7ce9a",
   "metadata": {},
   "outputs": [
    {
     "data": {
      "text/plain": [
       "Text(0.5, 1.0, '人均GDP')"
      ]
     },
     "execution_count": 12,
     "metadata": {},
     "output_type": "execute_result"
    },
    {
     "data": {
      "image/png": "[encoded data removed]",
      "text/plain": [
       "<Figure size 432x288 with 1 Axes>"
      ]
     },
     "metadata": {
      "needs_background": "light"
     },
     "output_type": "display_data"
    }
   ],
   "source": [
    "plt.rcParams['font.sans-serif'] = ['Arial Unicode MS']\n",
    "plt.hist(gdp_per_capita, bins=100, color='green')\n",
    "plt.xlim(gdp_per_capita.min(), 50000)\n",
    "plt.title('人均GDP')"
   ]
  },
  {
   "cell_type": "code",
   "execution_count": 13,
   "id": "fd0ec0bd",
   "metadata": {},
   "outputs": [
    {
     "data": {
      "text/plain": [
       "Text(0.5, 1.0, '人均寿命')"
      ]
     },
     "execution_count": 13,
     "metadata": {},
     "output_type": "execute_result"
    },
    {
     "data": {
      "image/png": "[encoded data removed]",
      "text/plain": [
       "<Figure size 432x288 with 1 Axes>"
      ]
     },
     "metadata": {
      "needs_background": "light"
     },
     "output_type": "display_data"
    }
   ],
   "source": [
    "life_expectancy = world_bank['Life_expectancy']\n",
    "plt.boxplot(life_expectancy)\n",
    "plt.xlabel('年龄')\n",
    "plt.title('人均寿命')"
   ]
  },
  {
   "cell_type": "markdown",
   "id": "965b8ce6",
   "metadata": {},
   "source": [
    "## 3-8 观察我国近30年人口的变化"
   ]
  },
  {
   "cell_type": "code",
   "execution_count": 14,
   "id": "d61a60a1",
   "metadata": {},
   "outputs": [],
   "source": [
    "# 1991~2020\n",
    "years = pd.date_range('19911231','20201231',freq='Y')\n",
    "\n",
    "# 年末总人口(万人)\n",
    "population_total = np.array([115823,117171,118517,119850,121121,122389,123626,124761,125786,126743,127627,128453,129227,129988,130756,131448,132129,132802,133450,134091,134916,135922,136726,137646,138326,139232,140011,140541,141008,141178])\n",
    "\n",
    "# 男性人口(万人)\n",
    "male_total = np.array([59466,59811,60472,61246,61808,62200,63131,63940,64692,65437,65672,66115,66556,66976,67375,67728,68048,68357,68647,68748,69161,69660,70063,70522,70857,71307,71650,71864,72039,72334])\n",
    "\n",
    "# 女性人口(万人)\n",
    "female_total = np.array([56357,57360,58045,58604,59313,60189,60495,60821,61094,61306,61955,62338,62671,63012,63381,63720,64081,64445,64803,65343,65755,66262,66663,67124,67469,67925,68361,68677,68969,68844])\n",
    "\n",
    "# 城镇人口(万人)\n",
    "town_popu = np.array([31203,32175,33173,34169,35174,37304,39449,41608,43748,45906,48064,50212,52376,54283,56212,58288,60633,62403,64512,66978,69927,72175,74502,76738,79302,81924,84343,86433,88426,90199])\n",
    "\n",
    "# 乡村人口(万人)\n",
    "country_popu = np.array([84620,84996,85344,85681,85947,85085,84177,83153,82038,80837,79563,78241,76851,75705,74544,73160,71496,70399,68938,67113,64989,63747,62224,60908,59024,57308,55668,54108,52582,50979])\n"
   ]
  },
  {
   "cell_type": "code",
   "execution_count": 15,
   "id": "3316b832",
   "metadata": {},
   "outputs": [
    {
     "data": {
      "image/png": "[encoded data removed]",
      "text/plain": [
       "<Figure size 432x288 with 1 Axes>"
      ]
     },
     "metadata": {
      "needs_background": "light"
     },
     "output_type": "display_data"
    }
   ],
   "source": [
    "fig,ax = plt.subplots(1,1)\n",
    "\n",
    "ax.plot(years,population_total)\n",
    "ax.plot(years,male_total)\n",
    "ax.plot(years,female_total)\n",
    "\n",
    "fig.autofmt_xdate() # 自动调整x轴标签显示方式，以完整显示"
   ]
  },
  {
   "cell_type": "code",
   "execution_count": 16,
   "id": "7c609c29",
   "metadata": {},
   "outputs": [
    {
     "data": {
      "text/plain": [
       "<AxesSubplot:>"
      ]
     },
     "execution_count": 16,
     "metadata": {},
     "output_type": "execute_result"
    },
    {
     "data": {
      "image/png": "[encoded data removed]",
      "text/plain": [
       "<Figure size 432x288 with 1 Axes>"
      ]
     },
     "metadata": {
      "needs_background": "light"
     },
     "output_type": "display_data"
    }
   ],
   "source": [
    "data = pd.DataFrame([population_total, male_total, female_total]).T\n",
    "data.columns = ['年末总人口(万人)', '男性人口(万人)', '女性人口(万人)']\n",
    "data.index = years\n",
    "data.plot()"
   ]
  },
  {
   "cell_type": "code",
   "execution_count": 17,
   "id": "152b14e6",
   "metadata": {},
   "outputs": [
    {
     "data": {
      "text/plain": [
       "<AxesSubplot:>"
      ]
     },
     "execution_count": 17,
     "metadata": {},
     "output_type": "execute_result"
    },
    {
     "data": {
      "image/png": "[encoded data removed]",
      "text/plain": [
       "<Figure size 432x288 with 1 Axes>"
      ]
     },
     "metadata": {
      "needs_background": "light"
     },
     "output_type": "display_data"
    }
   ],
   "source": [
    "data = pd.DataFrame([town_popu, country_popu]).T\n",
    "data.columns = ['城镇人口(万人)', '乡村人口(万人)']\n",
    "data.index = years\n",
    "data.plot()"
   ]
  },
  {
   "cell_type": "markdown",
   "id": "e307f099",
   "metadata": {},
   "source": [
    "## 3-10 分析自己过去一个月内的财务支出数据"
   ]
  },
  {
   "cell_type": "code",
   "execution_count": 18,
   "id": "be75d0ca",
   "metadata": {},
   "outputs": [
    {
     "data": {
      "text/plain": [
       "array([134,  45, 627, 526, 578, 894])"
      ]
     },
     "execution_count": 18,
     "metadata": {},
     "output_type": "execute_result"
    }
   ],
   "source": [
    "np.random.seed(seed=222)\n",
    "# 随机生成消费\n",
    "payments = np.random.randint(0, 1000, size=6)\n",
    "payments"
   ]
  },
  {
   "cell_type": "code",
   "execution_count": 19,
   "id": "184473ae",
   "metadata": {},
   "outputs": [
    {
     "data": {
      "text/plain": [
       "array([0.04778887, 0.0160485 , 0.22360913, 0.18758916, 0.20613409,\n",
       "       0.31883024])"
      ]
     },
     "execution_count": 19,
     "metadata": {},
     "output_type": "execute_result"
    }
   ],
   "source": [
    "# 计算各个消费占比\n",
    "payments_ratio = payments/np.sum(payments)\n",
    "#payments_ratio = payments_ratio.tolist()\n",
    "payments_ratio"
   ]
  },
  {
   "cell_type": "code",
   "execution_count": 20,
   "id": "f97453ab",
   "metadata": {},
   "outputs": [
    {
     "data": {
      "text/plain": [
       "([<matplotlib.patches.Wedge at 0x7fb7fad2d2b0>,\n",
       "  <matplotlib.patches.Wedge at 0x7fb7fad2d9d0>,\n",
       "  <matplotlib.patches.Wedge at 0x7fb7fad390a0>,\n",
       "  <matplotlib.patches.Wedge at 0x7fb7fad39730>,\n",
       "  <matplotlib.patches.Wedge at 0x7fb7fad39dc0>,\n",
       "  <matplotlib.patches.Wedge at 0x7fb7fad48490>],\n",
       " [Text(1.0876262847939306, 0.16452678999285236, '住房'),\n",
       "  Text(1.3147930336978548, 0.4809566285431485, '饮食'),\n",
       "  Text(0.4954322894736094, 0.9821134591007996, '应酬'),\n",
       "  Text(-0.8077129428625478, 0.746726055479734, '日用品'),\n",
       "  Text(-0.9701859982611665, -0.5184005485895865, '交通'),\n",
       "  Text(0.5928186293626655, -0.926588405215914, '着装')],\n",
       " [Text(0.5932507007966893, 0.08974188545064674, '4.8%'),\n",
       "  Text(0.8452240930914778, 0.3091864040634526, '1.6%'),\n",
       "  Text(0.2702357942583324, 0.5356982504186178, '22.4%'),\n",
       "  Text(-0.4405706961068442, 0.40730512117076395, '18.8%'),\n",
       "  Text(-0.5291923626879089, -0.28276393559431984, '20.6%'),\n",
       "  Text(0.3233556160159993, -0.5054118573904984, '31.9%')])"
      ]
     },
     "execution_count": 20,
     "metadata": {},
     "output_type": "execute_result"
    },
    {
     "data": {
      "image/png": "[encoded data removed]",
      "text/plain": [
       "<Figure size 432x288 with 1 Axes>"
      ]
     },
     "metadata": {},
     "output_type": "display_data"
    }
   ],
   "source": [
    "plt.pie(payments_ratio, labels=['住房', '饮食', '应酬', '日用品', '交通', '着装'], \n",
    "        explode=[0, 0.3, 0, 0, 0, 0], autopct='%.1f%%')"
   ]
  },
  {
   "cell_type": "markdown",
   "id": "fa33a8a1",
   "metadata": {},
   "source": [
    "## 3-12 根据5个国家的疫情数据制作分组条形图"
   ]
  },
  {
   "cell_type": "code",
   "execution_count": 21,
   "id": "2aed66a2",
   "metadata": {},
   "outputs": [],
   "source": [
    "areas=['印度','俄罗斯','美国','中国','英国']\n",
    "# 累计确诊人数\n",
    "total=[33984479,7804774,45313353,125089,8193769]\n",
    "# 治愈人数\n",
    "healthy_confirm=[33312451,6873579,34797165,116889,6686695]"
   ]
  },
  {
   "cell_type": "code",
   "execution_count": 22,
   "id": "1b5527d4",
   "metadata": {},
   "outputs": [
    {
     "data": {
      "text/plain": [
       "[Text(0.1, 0, '印度'),\n",
       " Text(1.1, 0, '俄罗斯'),\n",
       " Text(2.1, 0, '美国'),\n",
       " Text(3.1, 0, '中国'),\n",
       " Text(4.1, 0, '英国')]"
      ]
     },
     "execution_count": 22,
     "metadata": {},
     "output_type": "execute_result"
    },
    {
     "data": {
      "image/png": "[encoded data removed]",
      "text/plain": [
       "<Figure size 720x432 with 1 Axes>"
      ]
     },
     "metadata": {
      "needs_background": "light"
     },
     "output_type": "display_data"
    }
   ],
   "source": [
    "fig, ax = plt.subplots(figsize=(10, 6))\n",
    "axis1 = [i for i in range(0,len(total))]\n",
    "axis2 = [i+0.2 for i in range(0, len(healthy_confirm))]\n",
    "plt.bar(axis1, total, width=0.2)\n",
    "plt.bar(axis2, healthy_confirm, width=0.2)\n",
    "fig.tight_layout()\n",
    "ax.legend(labels=['累计确诊人数', '治愈人数'])\n",
    "ax.set_xticks([0.1,1.1,2.1,3.1,4.1])\n",
    "ax.set_xticklabels(areas)"
   ]
  },
  {
   "cell_type": "markdown",
   "id": "2c3cefed",
   "metadata": {},
   "source": [
    "## 3-14 绘制每个大洲的国家个数条形图"
   ]
  },
  {
   "cell_type": "code",
   "execution_count": 23,
   "id": "176d15ed",
   "metadata": {},
   "outputs": [
    {
     "data": {
      "text/html": [
       "<div>\n",
       "<style scoped>\n",
       "    .dataframe tbody tr th:only-of-type {\n",
       "        vertical-align: middle;\n",
       "    }\n",
       "\n",
       "    .dataframe tbody tr th {\n",
       "        vertical-align: top;\n",
       "    }\n",
       "\n",
       "    .dataframe thead th {\n",
       "        text-align: right;\n",
       "    }\n",
       "</style>\n",
       "<table border=\"1\" class=\"dataframe\">\n",
       "  <thead>\n",
       "    <tr style=\"text-align: right;\">\n",
       "      <th></th>\n",
       "      <th>Country</th>\n",
       "      <th>Continent</th>\n",
       "      <th>Life_expectancy</th>\n",
       "      <th>GDP_per_capita</th>\n",
       "      <th>Population</th>\n",
       "    </tr>\n",
       "  </thead>\n",
       "  <tbody>\n",
       "    <tr>\n",
       "      <th>0</th>\n",
       "      <td>Algeria</td>\n",
       "      <td>Africa</td>\n",
       "      <td>75.042537</td>\n",
       "      <td>4132.760292</td>\n",
       "      <td>39871528.0</td>\n",
       "    </tr>\n",
       "    <tr>\n",
       "      <th>1</th>\n",
       "      <td>Angola</td>\n",
       "      <td>Africa</td>\n",
       "      <td>52.666098</td>\n",
       "      <td>3695.793748</td>\n",
       "      <td>27859305.0</td>\n",
       "    </tr>\n",
       "    <tr>\n",
       "      <th>2</th>\n",
       "      <td>Benin</td>\n",
       "      <td>Africa</td>\n",
       "      <td>59.720707</td>\n",
       "      <td>783.947091</td>\n",
       "      <td>10575952.0</td>\n",
       "    </tr>\n",
       "    <tr>\n",
       "      <th>3</th>\n",
       "      <td>Botswana</td>\n",
       "      <td>Africa</td>\n",
       "      <td>64.487415</td>\n",
       "      <td>6532.060501</td>\n",
       "      <td>2209197.0</td>\n",
       "    </tr>\n",
       "    <tr>\n",
       "      <th>4</th>\n",
       "      <td>Burundi</td>\n",
       "      <td>Africa</td>\n",
       "      <td>57.107049</td>\n",
       "      <td>303.681022</td>\n",
       "      <td>10199270.0</td>\n",
       "    </tr>\n",
       "    <tr>\n",
       "      <th>...</th>\n",
       "      <td>...</td>\n",
       "      <td>...</td>\n",
       "      <td>...</td>\n",
       "      <td>...</td>\n",
       "      <td>...</td>\n",
       "    </tr>\n",
       "    <tr>\n",
       "      <th>159</th>\n",
       "      <td>Guyana</td>\n",
       "      <td>South America</td>\n",
       "      <td>66.507512</td>\n",
       "      <td>4136.689919</td>\n",
       "      <td>768514.0</td>\n",
       "    </tr>\n",
       "    <tr>\n",
       "      <th>160</th>\n",
       "      <td>Paraguay</td>\n",
       "      <td>South America</td>\n",
       "      <td>73.025634</td>\n",
       "      <td>4109.367724</td>\n",
       "      <td>6639119.0</td>\n",
       "    </tr>\n",
       "    <tr>\n",
       "      <th>161</th>\n",
       "      <td>Peru</td>\n",
       "      <td>South America</td>\n",
       "      <td>74.780732</td>\n",
       "      <td>6030.343259</td>\n",
       "      <td>31376671.0</td>\n",
       "    </tr>\n",
       "    <tr>\n",
       "      <th>162</th>\n",
       "      <td>Suriname</td>\n",
       "      <td>South America</td>\n",
       "      <td>71.294171</td>\n",
       "      <td>8818.982566</td>\n",
       "      <td>553208.0</td>\n",
       "    </tr>\n",
       "    <tr>\n",
       "      <th>163</th>\n",
       "      <td>Uruguay</td>\n",
       "      <td>South America</td>\n",
       "      <td>77.138220</td>\n",
       "      <td>15524.842470</td>\n",
       "      <td>3431552.0</td>\n",
       "    </tr>\n",
       "  </tbody>\n",
       "</table>\n",
       "<p>164 rows × 5 columns</p>\n",
       "</div>"
      ],
      "text/plain": [
       "      Country      Continent  Life_expectancy  GDP_per_capita  Population\n",
       "0     Algeria         Africa        75.042537     4132.760292  39871528.0\n",
       "1      Angola         Africa        52.666098     3695.793748  27859305.0\n",
       "2       Benin         Africa        59.720707      783.947091  10575952.0\n",
       "3    Botswana         Africa        64.487415     6532.060501   2209197.0\n",
       "4     Burundi         Africa        57.107049      303.681022  10199270.0\n",
       "..        ...            ...              ...             ...         ...\n",
       "159    Guyana  South America        66.507512     4136.689919    768514.0\n",
       "160  Paraguay  South America        73.025634     4109.367724   6639119.0\n",
       "161      Peru  South America        74.780732     6030.343259  31376671.0\n",
       "162  Suriname  South America        71.294171     8818.982566    553208.0\n",
       "163   Uruguay  South America        77.138220    15524.842470   3431552.0\n",
       "\n",
       "[164 rows x 5 columns]"
      ]
     },
     "execution_count": 23,
     "metadata": {},
     "output_type": "execute_result"
    }
   ],
   "source": [
    "world_bank = pd.read_csv(\"WorldBank.csv\")\n",
    "#world_bank"
   ]
  },
  {
   "cell_type": "code",
   "execution_count": 24,
   "id": "dbdd2519",
   "metadata": {},
   "outputs": [],
   "source": [
    "country_num_continent = world_bank.loc[:, ['Country', 'Continent']].groupby(by='Continent').count()\n",
    "country_num_continent.index=['非洲', '亚洲', '欧洲', '北美洲', '大洋洲', '南美洲']\n",
    "country_num_continent = country_num_continent.sort_values(by='Country')"
   ]
  },
  {
   "cell_type": "code",
   "execution_count": 25,
   "id": "4e3a9fbf",
   "metadata": {},
   "outputs": [
    {
     "data": {
      "text/plain": [
       "<matplotlib.collections.LineCollection at 0x7fb7faf55c10>"
      ]
     },
     "execution_count": 25,
     "metadata": {},
     "output_type": "execute_result"
    },
    {
     "data": {
      "image/png": "[encoded data removed]",
      "text/plain": [
       "<Figure size 432x288 with 1 Axes>"
      ]
     },
     "metadata": {
      "needs_background": "light"
     },
     "output_type": "display_data"
    }
   ],
   "source": [
    "plt.rcParams['font.sans-serif'] = ['Arial Unicode MS']\n",
    "plt.hlines(y=country_num_continent.index, xmin=0, xmax=country_num_continent['Country'],colors='blue', lw=10)"
   ]
  },
  {
   "cell_type": "code",
   "execution_count": null,
   "id": "2f9e5373",
   "metadata": {},
   "outputs": [],
   "source": []
  }
 ],
 "metadata": {
  "kernelspec": {
   "display_name": "Python 3",
   "language": "python",
   "name": "python3"
  },
  "language_info": {
   "codemirror_mode": {
    "name": "ipython",
    "version": 3
   },
   "file_extension": ".py",
   "mimetype": "text/x-python",
   "name": "python",
   "nbconvert_exporter": "python",
   "pygments_lexer": "ipython3",
   "version": "3.8.8"
  }
 },
 "nbformat": 4,
 "nbformat_minor": 5
}
