{
 "cells": [
  {
   "cell_type": "code",
   "execution_count": 1,
   "id": "1eca9a7d",
   "metadata": {},
   "outputs": [],
   "source": [
    "import pandas as pd\n",
    "import numpy as np"
   ]
  },
  {
   "cell_type": "markdown",
   "id": "b3e527b6",
   "metadata": {},
   "source": [
    "# 利用explode展开操作"
   ]
  },
  {
   "cell_type": "code",
   "execution_count": 2,
   "id": "d4a5e928",
   "metadata": {},
   "outputs": [
    {
     "data": {
      "text/html": [
       "<div>\n",
       "<style scoped>\n",
       "    .dataframe tbody tr th:only-of-type {\n",
       "        vertical-align: middle;\n",
       "    }\n",
       "\n",
       "    .dataframe tbody tr th {\n",
       "        vertical-align: top;\n",
       "    }\n",
       "\n",
       "    .dataframe thead th {\n",
       "        text-align: right;\n",
       "    }\n",
       "</style>\n",
       "<table border=\"1\" class=\"dataframe\">\n",
       "  <thead>\n",
       "    <tr style=\"text-align: right;\">\n",
       "      <th></th>\n",
       "      <th>A</th>\n",
       "    </tr>\n",
       "  </thead>\n",
       "  <tbody>\n",
       "    <tr>\n",
       "      <th>0</th>\n",
       "      <td>[1, 2]</td>\n",
       "    </tr>\n",
       "    <tr>\n",
       "      <th>1</th>\n",
       "      <td>[3]</td>\n",
       "    </tr>\n",
       "    <tr>\n",
       "      <th>2</th>\n",
       "      <td>[4, 5, 6]</td>\n",
       "    </tr>\n",
       "  </tbody>\n",
       "</table>\n",
       "</div>"
      ],
      "text/plain": [
       "           A\n",
       "0     [1, 2]\n",
       "1        [3]\n",
       "2  [4, 5, 6]"
      ]
     },
     "execution_count": 2,
     "metadata": {},
     "output_type": "execute_result"
    }
   ],
   "source": [
    "# 创建一个 DataFrame，包含列表类型的列  \n",
    "df = pd.DataFrame({'A': [[1, 2], [3], [4, 5, 6]]})  \n",
    "df"
   ]
  },
  {
   "cell_type": "code",
   "execution_count": 3,
   "id": "0da6f5a2",
   "metadata": {},
   "outputs": [
    {
     "data": {
      "text/html": [
       "<div>\n",
       "<style scoped>\n",
       "    .dataframe tbody tr th:only-of-type {\n",
       "        vertical-align: middle;\n",
       "    }\n",
       "\n",
       "    .dataframe tbody tr th {\n",
       "        vertical-align: top;\n",
       "    }\n",
       "\n",
       "    .dataframe thead th {\n",
       "        text-align: right;\n",
       "    }\n",
       "</style>\n",
       "<table border=\"1\" class=\"dataframe\">\n",
       "  <thead>\n",
       "    <tr style=\"text-align: right;\">\n",
       "      <th></th>\n",
       "      <th>A</th>\n",
       "    </tr>\n",
       "  </thead>\n",
       "  <tbody>\n",
       "    <tr>\n",
       "      <th>0</th>\n",
       "      <td>1</td>\n",
       "    </tr>\n",
       "    <tr>\n",
       "      <th>0</th>\n",
       "      <td>2</td>\n",
       "    </tr>\n",
       "    <tr>\n",
       "      <th>1</th>\n",
       "      <td>3</td>\n",
       "    </tr>\n",
       "    <tr>\n",
       "      <th>2</th>\n",
       "      <td>4</td>\n",
       "    </tr>\n",
       "    <tr>\n",
       "      <th>2</th>\n",
       "      <td>5</td>\n",
       "    </tr>\n",
       "    <tr>\n",
       "      <th>2</th>\n",
       "      <td>6</td>\n",
       "    </tr>\n",
       "  </tbody>\n",
       "</table>\n",
       "</div>"
      ],
      "text/plain": [
       "   A\n",
       "0  1\n",
       "0  2\n",
       "1  3\n",
       "2  4\n",
       "2  5\n",
       "2  6"
      ]
     },
     "execution_count": 3,
     "metadata": {},
     "output_type": "execute_result"
    }
   ],
   "source": [
    "# 使用 explode 进行爆炸操作，将列表拆分成多行  \n",
    "result = df.explode('A')  \n",
    "result"
   ]
  },
  {
   "cell_type": "markdown",
   "id": "04da2071",
   "metadata": {},
   "source": [
    "# 使用 squeeze 压缩 Series"
   ]
  },
  {
   "cell_type": "code",
   "execution_count": 4,
   "id": "ac40147f",
   "metadata": {},
   "outputs": [
    {
     "data": {
      "text/html": [
       "<div>\n",
       "<style scoped>\n",
       "    .dataframe tbody tr th:only-of-type {\n",
       "        vertical-align: middle;\n",
       "    }\n",
       "\n",
       "    .dataframe tbody tr th {\n",
       "        vertical-align: top;\n",
       "    }\n",
       "\n",
       "    .dataframe thead th {\n",
       "        text-align: right;\n",
       "    }\n",
       "</style>\n",
       "<table border=\"1\" class=\"dataframe\">\n",
       "  <thead>\n",
       "    <tr style=\"text-align: right;\">\n",
       "      <th></th>\n",
       "      <th>A</th>\n",
       "      <th>B</th>\n",
       "    </tr>\n",
       "  </thead>\n",
       "  <tbody>\n",
       "    <tr>\n",
       "      <th>0</th>\n",
       "      <td>1</td>\n",
       "      <td>4</td>\n",
       "    </tr>\n",
       "    <tr>\n",
       "      <th>1</th>\n",
       "      <td>2</td>\n",
       "      <td>5</td>\n",
       "    </tr>\n",
       "    <tr>\n",
       "      <th>2</th>\n",
       "      <td>3</td>\n",
       "      <td>6</td>\n",
       "    </tr>\n",
       "  </tbody>\n",
       "</table>\n",
       "</div>"
      ],
      "text/plain": [
       "   A  B\n",
       "0  1  4\n",
       "1  2  5\n",
       "2  3  6"
      ]
     },
     "execution_count": 4,
     "metadata": {},
     "output_type": "execute_result"
    }
   ],
   "source": [
    "# 创建一个 DataFrame  \n",
    "df = pd.DataFrame({'A': [1, 2, 3], 'B': [4, 5, 6]})  \n",
    "df"
   ]
  },
  {
   "cell_type": "code",
   "execution_count": 5,
   "id": "0847b8d9",
   "metadata": {},
   "outputs": [
    {
     "data": {
      "text/plain": [
       "0    4\n",
       "Name: B, dtype: int64"
      ]
     },
     "execution_count": 5,
     "metadata": {},
     "output_type": "execute_result"
    }
   ],
   "source": [
    "# 使用 .loc 筛选数据，返回结果为 Series 类型  \n",
    "result = df.loc[df['A'] == 1, 'B']  \n",
    "result"
   ]
  },
  {
   "cell_type": "code",
   "execution_count": 6,
   "id": "1b83aee6",
   "metadata": {},
   "outputs": [
    {
     "data": {
      "text/plain": [
       "4"
      ]
     },
     "execution_count": 6,
     "metadata": {},
     "output_type": "execute_result"
    }
   ],
   "source": [
    "# 使用 squeeze 方法压缩 Series，返回单个值  \n",
    "value = result.squeeze()  \n",
    "value"
   ]
  },
  {
   "cell_type": "code",
   "execution_count": 8,
   "id": "c7f2a21c",
   "metadata": {},
   "outputs": [
    {
     "data": {
      "text/plain": [
       "1"
      ]
     },
     "execution_count": 8,
     "metadata": {},
     "output_type": "execute_result"
    }
   ],
   "source": [
    "df.loc[df['A'] == 1, 'A'].squeeze()"
   ]
  },
  {
   "cell_type": "markdown",
   "id": "5bbf8672",
   "metadata": {},
   "source": [
    "# 使用 between 筛选数值范围"
   ]
  },
  {
   "cell_type": "code",
   "execution_count": 9,
   "id": "220b1b2e",
   "metadata": {},
   "outputs": [
    {
     "data": {
      "text/html": [
       "<div>\n",
       "<style scoped>\n",
       "    .dataframe tbody tr th:only-of-type {\n",
       "        vertical-align: middle;\n",
       "    }\n",
       "\n",
       "    .dataframe tbody tr th {\n",
       "        vertical-align: top;\n",
       "    }\n",
       "\n",
       "    .dataframe thead th {\n",
       "        text-align: right;\n",
       "    }\n",
       "</style>\n",
       "<table border=\"1\" class=\"dataframe\">\n",
       "  <thead>\n",
       "    <tr style=\"text-align: right;\">\n",
       "      <th></th>\n",
       "      <th>A</th>\n",
       "    </tr>\n",
       "  </thead>\n",
       "  <tbody>\n",
       "    <tr>\n",
       "      <th>0</th>\n",
       "      <td>1</td>\n",
       "    </tr>\n",
       "    <tr>\n",
       "      <th>1</th>\n",
       "      <td>2</td>\n",
       "    </tr>\n",
       "    <tr>\n",
       "      <th>2</th>\n",
       "      <td>3</td>\n",
       "    </tr>\n",
       "    <tr>\n",
       "      <th>3</th>\n",
       "      <td>4</td>\n",
       "    </tr>\n",
       "    <tr>\n",
       "      <th>4</th>\n",
       "      <td>5</td>\n",
       "    </tr>\n",
       "  </tbody>\n",
       "</table>\n",
       "</div>"
      ],
      "text/plain": [
       "   A\n",
       "0  1\n",
       "1  2\n",
       "2  3\n",
       "3  4\n",
       "4  5"
      ]
     },
     "execution_count": 9,
     "metadata": {},
     "output_type": "execute_result"
    }
   ],
   "source": [
    "# 创建一个 DataFrame  \n",
    "df = pd.DataFrame({'A': [1, 2, 3, 4, 5]}) \n",
    "df"
   ]
  },
  {
   "cell_type": "code",
   "execution_count": 10,
   "id": "b4aed66a",
   "metadata": {},
   "outputs": [
    {
     "data": {
      "text/html": [
       "<div>\n",
       "<style scoped>\n",
       "    .dataframe tbody tr th:only-of-type {\n",
       "        vertical-align: middle;\n",
       "    }\n",
       "\n",
       "    .dataframe tbody tr th {\n",
       "        vertical-align: top;\n",
       "    }\n",
       "\n",
       "    .dataframe thead th {\n",
       "        text-align: right;\n",
       "    }\n",
       "</style>\n",
       "<table border=\"1\" class=\"dataframe\">\n",
       "  <thead>\n",
       "    <tr style=\"text-align: right;\">\n",
       "      <th></th>\n",
       "      <th>A</th>\n",
       "    </tr>\n",
       "  </thead>\n",
       "  <tbody>\n",
       "    <tr>\n",
       "      <th>1</th>\n",
       "      <td>2</td>\n",
       "    </tr>\n",
       "    <tr>\n",
       "      <th>2</th>\n",
       "      <td>3</td>\n",
       "    </tr>\n",
       "    <tr>\n",
       "      <th>3</th>\n",
       "      <td>4</td>\n",
       "    </tr>\n",
       "  </tbody>\n",
       "</table>\n",
       "</div>"
      ],
      "text/plain": [
       "   A\n",
       "1  2\n",
       "2  3\n",
       "3  4"
      ]
     },
     "execution_count": 10,
     "metadata": {},
     "output_type": "execute_result"
    }
   ],
   "source": [
    "# 使用 between 方法筛选数值范围  \n",
    "result = df[df['A'].between(2, 4)] \n",
    "result"
   ]
  },
  {
   "cell_type": "code",
   "execution_count": 11,
   "id": "51260735",
   "metadata": {},
   "outputs": [
    {
     "data": {
      "text/html": [
       "<div>\n",
       "<style scoped>\n",
       "    .dataframe tbody tr th:only-of-type {\n",
       "        vertical-align: middle;\n",
       "    }\n",
       "\n",
       "    .dataframe tbody tr th {\n",
       "        vertical-align: top;\n",
       "    }\n",
       "\n",
       "    .dataframe thead th {\n",
       "        text-align: right;\n",
       "    }\n",
       "</style>\n",
       "<table border=\"1\" class=\"dataframe\">\n",
       "  <thead>\n",
       "    <tr style=\"text-align: right;\">\n",
       "      <th></th>\n",
       "      <th>A</th>\n",
       "    </tr>\n",
       "  </thead>\n",
       "  <tbody>\n",
       "    <tr>\n",
       "      <th>1</th>\n",
       "      <td>2</td>\n",
       "    </tr>\n",
       "    <tr>\n",
       "      <th>2</th>\n",
       "      <td>3</td>\n",
       "    </tr>\n",
       "    <tr>\n",
       "      <th>3</th>\n",
       "      <td>4</td>\n",
       "    </tr>\n",
       "  </tbody>\n",
       "</table>\n",
       "</div>"
      ],
      "text/plain": [
       "   A\n",
       "1  2\n",
       "2  3\n",
       "3  4"
      ]
     },
     "execution_count": 11,
     "metadata": {},
     "output_type": "execute_result"
    }
   ],
   "source": [
    "# 使用 between 方法筛选数值范围  \n",
    "result = df[df.A.between(2, 4)] \n",
    "result"
   ]
  },
  {
   "cell_type": "markdown",
   "id": "ff80e76d",
   "metadata": {},
   "source": [
    "# 使用 assign 添加新列\n",
    "在 Pandas 中，可以使用 assign 方法方便地添加新列，而无需使用 loc 或 iloc 方法。"
   ]
  },
  {
   "cell_type": "code",
   "execution_count": 12,
   "id": "331ccc63",
   "metadata": {},
   "outputs": [
    {
     "data": {
      "text/html": [
       "<div>\n",
       "<style scoped>\n",
       "    .dataframe tbody tr th:only-of-type {\n",
       "        vertical-align: middle;\n",
       "    }\n",
       "\n",
       "    .dataframe tbody tr th {\n",
       "        vertical-align: top;\n",
       "    }\n",
       "\n",
       "    .dataframe thead th {\n",
       "        text-align: right;\n",
       "    }\n",
       "</style>\n",
       "<table border=\"1\" class=\"dataframe\">\n",
       "  <thead>\n",
       "    <tr style=\"text-align: right;\">\n",
       "      <th></th>\n",
       "      <th>A</th>\n",
       "      <th>B</th>\n",
       "    </tr>\n",
       "  </thead>\n",
       "  <tbody>\n",
       "    <tr>\n",
       "      <th>0</th>\n",
       "      <td>1</td>\n",
       "      <td>4</td>\n",
       "    </tr>\n",
       "    <tr>\n",
       "      <th>1</th>\n",
       "      <td>2</td>\n",
       "      <td>5</td>\n",
       "    </tr>\n",
       "    <tr>\n",
       "      <th>2</th>\n",
       "      <td>3</td>\n",
       "      <td>6</td>\n",
       "    </tr>\n",
       "  </tbody>\n",
       "</table>\n",
       "</div>"
      ],
      "text/plain": [
       "   A  B\n",
       "0  1  4\n",
       "1  2  5\n",
       "2  3  6"
      ]
     },
     "execution_count": 12,
     "metadata": {},
     "output_type": "execute_result"
    }
   ],
   "source": [
    "# 创建一个 DataFrame  \n",
    "df = pd.DataFrame({'A': [1, 2, 3], 'B': [4, 5, 6]})  \n",
    "df"
   ]
  },
  {
   "cell_type": "code",
   "execution_count": 13,
   "id": "57e3b5c7",
   "metadata": {},
   "outputs": [
    {
     "data": {
      "text/html": [
       "<div>\n",
       "<style scoped>\n",
       "    .dataframe tbody tr th:only-of-type {\n",
       "        vertical-align: middle;\n",
       "    }\n",
       "\n",
       "    .dataframe tbody tr th {\n",
       "        vertical-align: top;\n",
       "    }\n",
       "\n",
       "    .dataframe thead th {\n",
       "        text-align: right;\n",
       "    }\n",
       "</style>\n",
       "<table border=\"1\" class=\"dataframe\">\n",
       "  <thead>\n",
       "    <tr style=\"text-align: right;\">\n",
       "      <th></th>\n",
       "      <th>A</th>\n",
       "      <th>B</th>\n",
       "      <th>C</th>\n",
       "    </tr>\n",
       "  </thead>\n",
       "  <tbody>\n",
       "    <tr>\n",
       "      <th>0</th>\n",
       "      <td>1</td>\n",
       "      <td>4</td>\n",
       "      <td>5</td>\n",
       "    </tr>\n",
       "    <tr>\n",
       "      <th>1</th>\n",
       "      <td>2</td>\n",
       "      <td>5</td>\n",
       "      <td>7</td>\n",
       "    </tr>\n",
       "    <tr>\n",
       "      <th>2</th>\n",
       "      <td>3</td>\n",
       "      <td>6</td>\n",
       "      <td>9</td>\n",
       "    </tr>\n",
       "  </tbody>\n",
       "</table>\n",
       "</div>"
      ],
      "text/plain": [
       "   A  B  C\n",
       "0  1  4  5\n",
       "1  2  5  7\n",
       "2  3  6  9"
      ]
     },
     "execution_count": 13,
     "metadata": {},
     "output_type": "execute_result"
    }
   ],
   "source": [
    "# 使用 assign 添加新列  \n",
    "result = df.assign(C=df['A'] + df['B']) \n",
    "result"
   ]
  },
  {
   "cell_type": "markdown",
   "id": "c236ba38",
   "metadata": {},
   "source": [
    "# 使用 map 进行字典映射\n",
    "\n",
    "在 Pandas 中，可以使用 map 方法将 Series 中的每个元素映射到字典中的对应值。"
   ]
  },
  {
   "cell_type": "code",
   "execution_count": 14,
   "id": "53d6b1ea",
   "metadata": {},
   "outputs": [
    {
     "data": {
      "text/plain": [
       "0    1\n",
       "1    2\n",
       "2    3\n",
       "dtype: int64"
      ]
     },
     "execution_count": 14,
     "metadata": {},
     "output_type": "execute_result"
    }
   ],
   "source": [
    "# 创建一个 Series  \n",
    "s = pd.Series(['foo', 'bar', 'baz'])  \n",
    "\n",
    "# 创建一个字典  \n",
    "mapping = {'foo': 1, 'bar': 2, 'baz': 3}  \n",
    "\n",
    "# 使用 map 进行字典映射  \n",
    "result = s.map(mapping)\n",
    "result"
   ]
  },
  {
   "cell_type": "markdown",
   "id": "2d498bd7",
   "metadata": {},
   "source": [
    "# 使用 apply 进行自定义函数应用\n",
    "\n",
    "在 Pandas 中，可以使用 apply 方法将自定义函数应用到 Series 或 DataFrame 的每个元素上"
   ]
  },
  {
   "cell_type": "code",
   "execution_count": 18,
   "id": "ad9ecb0e",
   "metadata": {},
   "outputs": [
    {
     "data": {
      "text/plain": [
       "0    (1, squared)\n",
       "1    (4, squared)\n",
       "2    (9, squared)\n",
       "Name: A, dtype: object"
      ]
     },
     "execution_count": 18,
     "metadata": {},
     "output_type": "execute_result"
    }
   ],
   "source": [
    "# 创建一个 DataFrame  \n",
    "df = pd.DataFrame({'A': [1, 2, 3], 'B': [4, 5, 6]})  \n",
    "\n",
    "# 定义一个自定义函数，计算平方值并返回新列名  \n",
    "def square_and_rename(x):  \n",
    "    return x ** 2, 'squared'\n",
    "\n",
    "# 使用 apply 进行自定义函数应用，将函数应用到 A 列上，并将结果存储在新列中  \n",
    "result = df['A'].apply(square_and_rename)  \n",
    "result"
   ]
  },
  {
   "cell_type": "code",
   "execution_count": 19,
   "id": "90da3db6",
   "metadata": {},
   "outputs": [
    {
     "data": {
      "text/html": [
       "<div>\n",
       "<style scoped>\n",
       "    .dataframe tbody tr th:only-of-type {\n",
       "        vertical-align: middle;\n",
       "    }\n",
       "\n",
       "    .dataframe tbody tr th {\n",
       "        vertical-align: top;\n",
       "    }\n",
       "\n",
       "    .dataframe thead th {\n",
       "        text-align: right;\n",
       "    }\n",
       "</style>\n",
       "<table border=\"1\" class=\"dataframe\">\n",
       "  <thead>\n",
       "    <tr style=\"text-align: right;\">\n",
       "      <th></th>\n",
       "      <th>A</th>\n",
       "      <th>B</th>\n",
       "      <th>A</th>\n",
       "    </tr>\n",
       "  </thead>\n",
       "  <tbody>\n",
       "    <tr>\n",
       "      <th>0</th>\n",
       "      <td>1</td>\n",
       "      <td>4</td>\n",
       "      <td>(1, squared)</td>\n",
       "    </tr>\n",
       "    <tr>\n",
       "      <th>1</th>\n",
       "      <td>2</td>\n",
       "      <td>5</td>\n",
       "      <td>(4, squared)</td>\n",
       "    </tr>\n",
       "    <tr>\n",
       "      <th>2</th>\n",
       "      <td>3</td>\n",
       "      <td>6</td>\n",
       "      <td>(9, squared)</td>\n",
       "    </tr>\n",
       "  </tbody>\n",
       "</table>\n",
       "</div>"
      ],
      "text/plain": [
       "   A  B             A\n",
       "0  1  4  (1, squared)\n",
       "1  2  5  (4, squared)\n",
       "2  3  6  (9, squared)"
      ]
     },
     "execution_count": 19,
     "metadata": {},
     "output_type": "execute_result"
    }
   ],
   "source": [
    "df = pd.concat([df, result], axis=1)  \n",
    "df"
   ]
  },
  {
   "cell_type": "markdown",
   "id": "53ee3ba5",
   "metadata": {},
   "source": [
    "# 使用apply和lambda函数进行自定义操作"
   ]
  },
  {
   "cell_type": "code",
   "execution_count": 21,
   "id": "6b57f1f1",
   "metadata": {},
   "outputs": [
    {
     "data": {
      "text/html": [
       "<div>\n",
       "<style scoped>\n",
       "    .dataframe tbody tr th:only-of-type {\n",
       "        vertical-align: middle;\n",
       "    }\n",
       "\n",
       "    .dataframe tbody tr th {\n",
       "        vertical-align: top;\n",
       "    }\n",
       "\n",
       "    .dataframe thead th {\n",
       "        text-align: right;\n",
       "    }\n",
       "</style>\n",
       "<table border=\"1\" class=\"dataframe\">\n",
       "  <thead>\n",
       "    <tr style=\"text-align: right;\">\n",
       "      <th></th>\n",
       "      <th>A</th>\n",
       "      <th>B</th>\n",
       "      <th>C</th>\n",
       "    </tr>\n",
       "  </thead>\n",
       "  <tbody>\n",
       "    <tr>\n",
       "      <th>0</th>\n",
       "      <td>1</td>\n",
       "      <td>10</td>\n",
       "      <td>10</td>\n",
       "    </tr>\n",
       "    <tr>\n",
       "      <th>1</th>\n",
       "      <td>2</td>\n",
       "      <td>20</td>\n",
       "      <td>40</td>\n",
       "    </tr>\n",
       "    <tr>\n",
       "      <th>2</th>\n",
       "      <td>3</td>\n",
       "      <td>30</td>\n",
       "      <td>90</td>\n",
       "    </tr>\n",
       "    <tr>\n",
       "      <th>3</th>\n",
       "      <td>4</td>\n",
       "      <td>40</td>\n",
       "      <td>160</td>\n",
       "    </tr>\n",
       "    <tr>\n",
       "      <th>4</th>\n",
       "      <td>5</td>\n",
       "      <td>50</td>\n",
       "      <td>250</td>\n",
       "    </tr>\n",
       "  </tbody>\n",
       "</table>\n",
       "</div>"
      ],
      "text/plain": [
       "   A   B    C\n",
       "0  1  10   10\n",
       "1  2  20   40\n",
       "2  3  30   90\n",
       "3  4  40  160\n",
       "4  5  50  250"
      ]
     },
     "execution_count": 21,
     "metadata": {},
     "output_type": "execute_result"
    }
   ],
   "source": [
    "# 创建一个DataFrame\n",
    "data = {'A': [1, 2, 3, 4, 5],\n",
    "        'B': [10, 20, 30, 40, 50]}\n",
    "df = pd.DataFrame(data)\n",
    "\n",
    "# 使用apply和lambda函数对A列和B列进行自定义操作，例如将A列的值乘以B列的值\n",
    "df['C'] = df.apply(lambda row: row['A'] * row['B'], axis=1)\n",
    "df"
   ]
  },
  {
   "cell_type": "markdown",
   "id": "340d712b",
   "metadata": {},
   "source": [
    "# 使用 groupby 和 transform 进行组内转换\n",
    "\n",
    "在 Pandas 中，可以使用 groupby 方法将数据分组，并使用 transform 方法对每个组的元素进行转换，并返回与原始数据相同大小的结果。"
   ]
  },
  {
   "cell_type": "code",
   "execution_count": 22,
   "id": "6ffa1fff",
   "metadata": {},
   "outputs": [
    {
     "data": {
      "text/html": [
       "<div>\n",
       "<style scoped>\n",
       "    .dataframe tbody tr th:only-of-type {\n",
       "        vertical-align: middle;\n",
       "    }\n",
       "\n",
       "    .dataframe tbody tr th {\n",
       "        vertical-align: top;\n",
       "    }\n",
       "\n",
       "    .dataframe thead th {\n",
       "        text-align: right;\n",
       "    }\n",
       "</style>\n",
       "<table border=\"1\" class=\"dataframe\">\n",
       "  <thead>\n",
       "    <tr style=\"text-align: right;\">\n",
       "      <th></th>\n",
       "      <th>A</th>\n",
       "      <th>B</th>\n",
       "      <th>B_mean</th>\n",
       "    </tr>\n",
       "  </thead>\n",
       "  <tbody>\n",
       "    <tr>\n",
       "      <th>0</th>\n",
       "      <td>foo</td>\n",
       "      <td>1</td>\n",
       "      <td>2</td>\n",
       "    </tr>\n",
       "    <tr>\n",
       "      <th>1</th>\n",
       "      <td>bar</td>\n",
       "      <td>2</td>\n",
       "      <td>3</td>\n",
       "    </tr>\n",
       "    <tr>\n",
       "      <th>2</th>\n",
       "      <td>foo</td>\n",
       "      <td>3</td>\n",
       "      <td>2</td>\n",
       "    </tr>\n",
       "    <tr>\n",
       "      <th>3</th>\n",
       "      <td>bar</td>\n",
       "      <td>4</td>\n",
       "      <td>3</td>\n",
       "    </tr>\n",
       "  </tbody>\n",
       "</table>\n",
       "</div>"
      ],
      "text/plain": [
       "     A  B  B_mean\n",
       "0  foo  1       2\n",
       "1  bar  2       3\n",
       "2  foo  3       2\n",
       "3  bar  4       3"
      ]
     },
     "execution_count": 22,
     "metadata": {},
     "output_type": "execute_result"
    }
   ],
   "source": [
    "# 创建一个 DataFrame  \n",
    "df = pd.DataFrame({'A': ['foo', 'bar', 'foo', 'bar'], 'B': [1, 2, 3, 4]})  \n",
    "  \n",
    "# 使用 groupby 和 transform 进行组内转换，计算每个组的 B 列的平均值，并将结果存储在新列中  \n",
    "result = df.groupby('A')['B'].transform('mean')  \n",
    "df['B_mean'] = result \n",
    "df"
   ]
  },
  {
   "cell_type": "markdown",
   "id": "a18be56c",
   "metadata": {},
   "source": [
    "# 使用 pipe 进行流式操作\n",
    "\n",
    "Pandas 中的 pipe 方法可以将多个操作连接在一起，实现流式操作，使代码更加简洁和易于阅读。"
   ]
  },
  {
   "cell_type": "code",
   "execution_count": 23,
   "id": "14bfb451",
   "metadata": {},
   "outputs": [
    {
     "data": {
      "text/html": [
       "<div>\n",
       "<style scoped>\n",
       "    .dataframe tbody tr th:only-of-type {\n",
       "        vertical-align: middle;\n",
       "    }\n",
       "\n",
       "    .dataframe tbody tr th {\n",
       "        vertical-align: top;\n",
       "    }\n",
       "\n",
       "    .dataframe thead th {\n",
       "        text-align: right;\n",
       "    }\n",
       "</style>\n",
       "<table border=\"1\" class=\"dataframe\">\n",
       "  <thead>\n",
       "    <tr style=\"text-align: right;\">\n",
       "      <th></th>\n",
       "      <th>B</th>\n",
       "      <th>A_1</th>\n",
       "      <th>A_2</th>\n",
       "      <th>A_3</th>\n",
       "    </tr>\n",
       "  </thead>\n",
       "  <tbody>\n",
       "    <tr>\n",
       "      <th>0</th>\n",
       "      <td>4</td>\n",
       "      <td>1</td>\n",
       "      <td>0</td>\n",
       "      <td>0</td>\n",
       "    </tr>\n",
       "    <tr>\n",
       "      <th>1</th>\n",
       "      <td>5</td>\n",
       "      <td>0</td>\n",
       "      <td>1</td>\n",
       "      <td>0</td>\n",
       "    </tr>\n",
       "    <tr>\n",
       "      <th>2</th>\n",
       "      <td>6</td>\n",
       "      <td>0</td>\n",
       "      <td>0</td>\n",
       "      <td>1</td>\n",
       "    </tr>\n",
       "  </tbody>\n",
       "</table>\n",
       "</div>"
      ],
      "text/plain": [
       "   B  A_1  A_2  A_3\n",
       "0  4    1    0    0\n",
       "1  5    0    1    0\n",
       "2  6    0    0    1"
      ]
     },
     "execution_count": 23,
     "metadata": {},
     "output_type": "execute_result"
    }
   ],
   "source": [
    "# 创建一个 DataFrame  \n",
    "df = pd.DataFrame({'A': [1, 2, 3], 'B': [4, 5, 6]})  \n",
    "\n",
    "# 定义三个自定义函数，分别用于去重、去异常值和编码转换  \n",
    "def drop_duplicates(df):  \n",
    "    return df.drop_duplicates()  \n",
    "  \n",
    "def remove_outliers(df, columns):  \n",
    "    return df[(np.abs(df[columns] - df[columns].mean()) <= 3 * df[columns].std()).all(axis=1)]  \n",
    "  \n",
    "def encode_categoricals(df, columns):  \n",
    "    return pd.get_dummies(df, columns=columns)  \n",
    "  \n",
    "# 使用 pipe 进行流式操作，将三个自定义函数连接在一起  \n",
    "result = (df.pipe(drop_duplicates)  \n",
    "          .pipe(remove_outliers, ['A', 'B'])  \n",
    "          .pipe(encode_categoricals, ['A']))  \n",
    "result"
   ]
  },
  {
   "cell_type": "markdown",
   "id": "a01fd721",
   "metadata": {},
   "source": [
    "# 使用 factorize 进行标签编码\n",
    "        \n",
    "Pandas 中的 factorize 方法可以将分类变量转换为数值型变量，实现类别型变量的标签编码。"
   ]
  },
  {
   "cell_type": "code",
   "execution_count": 24,
   "id": "434fc568",
   "metadata": {},
   "outputs": [
    {
     "data": {
      "text/plain": [
       "array([0, 1, 2, 0, 1])"
      ]
     },
     "execution_count": 24,
     "metadata": {},
     "output_type": "execute_result"
    }
   ],
   "source": [
    "# 创建一个 Series  \n",
    "s = pd.Series(['foo', 'bar', 'baz', 'foo', 'bar'])  \n",
    "\n",
    "# 使用 factorize 进行标签编码  \n",
    "labels, uniques = s.factorize() \n",
    "\n",
    "labels"
   ]
  },
  {
   "cell_type": "code",
   "execution_count": 25,
   "id": "0b9e824c",
   "metadata": {},
   "outputs": [
    {
     "data": {
      "text/plain": [
       "Index(['foo', 'bar', 'baz'], dtype='object')"
      ]
     },
     "execution_count": 25,
     "metadata": {},
     "output_type": "execute_result"
    }
   ],
   "source": [
    "uniques"
   ]
  },
  {
   "cell_type": "markdown",
   "id": "1e2ae1c5",
   "metadata": {},
   "source": [
    "# 链式操作"
   ]
  },
  {
   "cell_type": "code",
   "execution_count": 26,
   "id": "fd2e585d",
   "metadata": {},
   "outputs": [
    {
     "data": {
      "text/html": [
       "<div>\n",
       "<style scoped>\n",
       "    .dataframe tbody tr th:only-of-type {\n",
       "        vertical-align: middle;\n",
       "    }\n",
       "\n",
       "    .dataframe tbody tr th {\n",
       "        vertical-align: top;\n",
       "    }\n",
       "\n",
       "    .dataframe thead th {\n",
       "        text-align: right;\n",
       "    }\n",
       "</style>\n",
       "<table border=\"1\" class=\"dataframe\">\n",
       "  <thead>\n",
       "    <tr style=\"text-align: right;\">\n",
       "      <th></th>\n",
       "      <th>A</th>\n",
       "      <th>B</th>\n",
       "    </tr>\n",
       "  </thead>\n",
       "  <tbody>\n",
       "    <tr>\n",
       "      <th>0</th>\n",
       "      <td>4</td>\n",
       "      <td>13</td>\n",
       "    </tr>\n",
       "    <tr>\n",
       "      <th>1</th>\n",
       "      <td>7</td>\n",
       "      <td>16</td>\n",
       "    </tr>\n",
       "    <tr>\n",
       "      <th>2</th>\n",
       "      <td>10</td>\n",
       "      <td>19</td>\n",
       "    </tr>\n",
       "  </tbody>\n",
       "</table>\n",
       "</div>"
      ],
      "text/plain": [
       "    A   B\n",
       "0   4  13\n",
       "1   7  16\n",
       "2  10  19"
      ]
     },
     "execution_count": 26,
     "metadata": {},
     "output_type": "execute_result"
    }
   ],
   "source": [
    "# 创建一个DataFrame\n",
    "df = pd.DataFrame({'A': [1, 2, 3], 'B': [4, 5, 6]})\n",
    "\n",
    "# 链式操作\n",
    "result = (df.mul(2) + df.add(1)).dropna()\n",
    "result"
   ]
  },
  {
   "cell_type": "markdown",
   "id": "1cc793b0",
   "metadata": {},
   "source": [
    "# 使用query方法进行筛选"
   ]
  },
  {
   "cell_type": "code",
   "execution_count": 27,
   "id": "abb8b597",
   "metadata": {},
   "outputs": [
    {
     "data": {
      "text/html": [
       "<div>\n",
       "<style scoped>\n",
       "    .dataframe tbody tr th:only-of-type {\n",
       "        vertical-align: middle;\n",
       "    }\n",
       "\n",
       "    .dataframe tbody tr th {\n",
       "        vertical-align: top;\n",
       "    }\n",
       "\n",
       "    .dataframe thead th {\n",
       "        text-align: right;\n",
       "    }\n",
       "</style>\n",
       "<table border=\"1\" class=\"dataframe\">\n",
       "  <thead>\n",
       "    <tr style=\"text-align: right;\">\n",
       "      <th></th>\n",
       "      <th>A</th>\n",
       "      <th>B</th>\n",
       "    </tr>\n",
       "  </thead>\n",
       "  <tbody>\n",
       "    <tr>\n",
       "      <th>2</th>\n",
       "      <td>3</td>\n",
       "      <td>30</td>\n",
       "    </tr>\n",
       "    <tr>\n",
       "      <th>3</th>\n",
       "      <td>4</td>\n",
       "      <td>40</td>\n",
       "    </tr>\n",
       "    <tr>\n",
       "      <th>4</th>\n",
       "      <td>5</td>\n",
       "      <td>50</td>\n",
       "    </tr>\n",
       "  </tbody>\n",
       "</table>\n",
       "</div>"
      ],
      "text/plain": [
       "   A   B\n",
       "2  3  30\n",
       "3  4  40\n",
       "4  5  50"
      ]
     },
     "execution_count": 27,
     "metadata": {},
     "output_type": "execute_result"
    }
   ],
   "source": [
    "# 创建一个DataFrame\n",
    "data = {'A': [1, 2, 3, 4, 5], 'B': [10, 20, 30, 40, 50]}\n",
    "df = pd.DataFrame(data)\n",
    "\n",
    "# 使用query方法筛选出A列大于2的行\n",
    "result = df.query('A > 2')\n",
    "\n",
    "result"
   ]
  },
  {
   "cell_type": "markdown",
   "id": "672eb0c9",
   "metadata": {},
   "source": [
    "# 使用shift进行位移操作\n",
    "\n",
    "DataFrame中的shift方法可以将数据向上或向下位移指定的行数。"
   ]
  },
  {
   "cell_type": "code",
   "execution_count": 28,
   "id": "dc759bbc",
   "metadata": {},
   "outputs": [
    {
     "name": "stdout",
     "output_type": "stream",
     "text": [
      "     A\n",
      "0  1.0\n",
      "1  2.0\n",
      "2  NaN\n",
      "3  4.0\n"
     ]
    },
    {
     "data": {
      "text/plain": [
       "0    2.0\n",
       "1    NaN\n",
       "2    4.0\n",
       "3    NaN\n",
       "Name: A, dtype: float64"
      ]
     },
     "execution_count": 28,
     "metadata": {},
     "output_type": "execute_result"
    }
   ],
   "source": [
    "# 创建一个包含NaN值的DataFrame  \n",
    "df = pd.DataFrame({'A': [1, 2, np.nan, 4]})  \n",
    "print(df)  \n",
    "  \n",
    "# 使用shift方法向上位移一行，将NaN值填充到第一行  \n",
    "result = df['A'].shift(-1) \n",
    "result"
   ]
  },
  {
   "cell_type": "markdown",
   "id": "4202ecff",
   "metadata": {},
   "source": [
    "# 使用resample对数据重采样\n",
    "\n",
    "DataFrame中的resample方法可以按照指定的时间间隔对数据进行重采样，常用于时间序列数据的处理。"
   ]
  },
  {
   "cell_type": "code",
   "execution_count": 29,
   "id": "453b28c7",
   "metadata": {},
   "outputs": [
    {
     "data": {
      "text/html": [
       "<div>\n",
       "<style scoped>\n",
       "    .dataframe tbody tr th:only-of-type {\n",
       "        vertical-align: middle;\n",
       "    }\n",
       "\n",
       "    .dataframe tbody tr th {\n",
       "        vertical-align: top;\n",
       "    }\n",
       "\n",
       "    .dataframe thead th {\n",
       "        text-align: right;\n",
       "    }\n",
       "</style>\n",
       "<table border=\"1\" class=\"dataframe\">\n",
       "  <thead>\n",
       "    <tr style=\"text-align: right;\">\n",
       "      <th></th>\n",
       "      <th>A</th>\n",
       "    </tr>\n",
       "  </thead>\n",
       "  <tbody>\n",
       "    <tr>\n",
       "      <th>2023-01-01</th>\n",
       "      <td>1</td>\n",
       "    </tr>\n",
       "    <tr>\n",
       "      <th>2023-01-02</th>\n",
       "      <td>2</td>\n",
       "    </tr>\n",
       "    <tr>\n",
       "      <th>2023-01-03</th>\n",
       "      <td>3</td>\n",
       "    </tr>\n",
       "    <tr>\n",
       "      <th>2023-01-04</th>\n",
       "      <td>4</td>\n",
       "    </tr>\n",
       "    <tr>\n",
       "      <th>2023-01-05</th>\n",
       "      <td>5</td>\n",
       "    </tr>\n",
       "  </tbody>\n",
       "</table>\n",
       "</div>"
      ],
      "text/plain": [
       "            A\n",
       "2023-01-01  1\n",
       "2023-01-02  2\n",
       "2023-01-03  3\n",
       "2023-01-04  4\n",
       "2023-01-05  5"
      ]
     },
     "execution_count": 29,
     "metadata": {},
     "output_type": "execute_result"
    }
   ],
   "source": [
    "# 创建一个时间序列DataFrame  \n",
    "df = pd.DataFrame({'A': [1, 2, 3, 4, 5]}, index=pd.date_range('2023-01-01', periods=5))  \n",
    "df"
   ]
  },
  {
   "cell_type": "code",
   "execution_count": 33,
   "id": "c8c35fea",
   "metadata": {},
   "outputs": [
    {
     "data": {
      "text/html": [
       "<div>\n",
       "<style scoped>\n",
       "    .dataframe tbody tr th:only-of-type {\n",
       "        vertical-align: middle;\n",
       "    }\n",
       "\n",
       "    .dataframe tbody tr th {\n",
       "        vertical-align: top;\n",
       "    }\n",
       "\n",
       "    .dataframe thead th {\n",
       "        text-align: right;\n",
       "    }\n",
       "</style>\n",
       "<table border=\"1\" class=\"dataframe\">\n",
       "  <thead>\n",
       "    <tr style=\"text-align: right;\">\n",
       "      <th></th>\n",
       "      <th>A</th>\n",
       "    </tr>\n",
       "  </thead>\n",
       "  <tbody>\n",
       "    <tr>\n",
       "      <th>2023-01-01</th>\n",
       "      <td>1</td>\n",
       "    </tr>\n",
       "    <tr>\n",
       "      <th>2023-01-02</th>\n",
       "      <td>2</td>\n",
       "    </tr>\n",
       "    <tr>\n",
       "      <th>2023-01-03</th>\n",
       "      <td>3</td>\n",
       "    </tr>\n",
       "    <tr>\n",
       "      <th>2023-01-04</th>\n",
       "      <td>4</td>\n",
       "    </tr>\n",
       "    <tr>\n",
       "      <th>2023-01-05</th>\n",
       "      <td>5</td>\n",
       "    </tr>\n",
       "  </tbody>\n",
       "</table>\n",
       "</div>"
      ],
      "text/plain": [
       "            A\n",
       "2023-01-01  1\n",
       "2023-01-02  2\n",
       "2023-01-03  3\n",
       "2023-01-04  4\n",
       "2023-01-05  5"
      ]
     },
     "execution_count": 33,
     "metadata": {},
     "output_type": "execute_result"
    }
   ],
   "source": [
    "# 使用resample方法按天进行重采样，采用平均值作为采样值  \n",
    "result = df.resample('D').mean()\n",
    "result"
   ]
  },
  {
   "cell_type": "markdown",
   "id": "28fec304",
   "metadata": {},
   "source": [
    "# 使用nlargest和nsmallest进行最大最小值操作\n",
    "\n",
    "DataFrame中的nlargest和nsmallest方法可以找出最大的N个值和最小的N个值。"
   ]
  },
  {
   "cell_type": "code",
   "execution_count": 34,
   "id": "623c0a05",
   "metadata": {},
   "outputs": [
    {
     "data": {
      "text/plain": [
       "0    6\n",
       "2    5\n",
       "Name: B, dtype: int64"
      ]
     },
     "execution_count": 34,
     "metadata": {},
     "output_type": "execute_result"
    }
   ],
   "source": [
    "# 创建一个DataFrame  \n",
    "df = pd.DataFrame({'A': [3, 1, 2], 'B': [6, 4, 5]})  \n",
    "\n",
    "  \n",
    "# 使用nlargest方法找出B列最大的2个值  \n",
    "result = df['B'].nlargest(2)  \n",
    "# 输出Series([6, 5]) \n",
    "result"
   ]
  },
  {
   "cell_type": "code",
   "execution_count": 35,
   "id": "9a293800",
   "metadata": {},
   "outputs": [
    {
     "data": {
      "text/plain": [
       "1    1\n",
       "2    2\n",
       "Name: A, dtype: int64"
      ]
     },
     "execution_count": 35,
     "metadata": {},
     "output_type": "execute_result"
    }
   ],
   "source": [
    "# 使用nsmallest方法找出A列最小的2个值  \n",
    "result = df['A'].nsmallest(2)  \n",
    "result"
   ]
  },
  {
   "cell_type": "markdown",
   "id": "dba136b9",
   "metadata": {},
   "source": [
    "# 使用map和applymap进行映射操作\n",
    "\n",
    "DataFrame中的map方法可以对一列进行映射，而applymap方法可以对整个DataFrame进行映射。"
   ]
  },
  {
   "cell_type": "code",
   "execution_count": 36,
   "id": "268a6929",
   "metadata": {},
   "outputs": [
    {
     "data": {
      "text/plain": [
       "0      one\n",
       "1      two\n",
       "2    three\n",
       "Name: A, dtype: object"
      ]
     },
     "execution_count": 36,
     "metadata": {},
     "output_type": "execute_result"
    }
   ],
   "source": [
    "# 创建一个DataFrame  \n",
    "df = pd.DataFrame({'A': [1, 2, 3], 'B': [4, 5, 6]})  \n",
    "  \n",
    "# 使用map方法将A列的值映射为新的值  \n",
    "mapping_dict = {1: 'one', 2: 'two', 3: 'three'}  \n",
    "result = df['A'].map(mapping_dict)  \n",
    "result "
   ]
  },
  {
   "cell_type": "code",
   "execution_count": 37,
   "id": "b6c0e99c",
   "metadata": {},
   "outputs": [
    {
     "data": {
      "text/html": [
       "<div>\n",
       "<style scoped>\n",
       "    .dataframe tbody tr th:only-of-type {\n",
       "        vertical-align: middle;\n",
       "    }\n",
       "\n",
       "    .dataframe tbody tr th {\n",
       "        vertical-align: top;\n",
       "    }\n",
       "\n",
       "    .dataframe thead th {\n",
       "        text-align: right;\n",
       "    }\n",
       "</style>\n",
       "<table border=\"1\" class=\"dataframe\">\n",
       "  <thead>\n",
       "    <tr style=\"text-align: right;\">\n",
       "      <th></th>\n",
       "      <th>A</th>\n",
       "      <th>B</th>\n",
       "    </tr>\n",
       "  </thead>\n",
       "  <tbody>\n",
       "    <tr>\n",
       "      <th>0</th>\n",
       "      <td>2</td>\n",
       "      <td>8</td>\n",
       "    </tr>\n",
       "    <tr>\n",
       "      <th>1</th>\n",
       "      <td>4</td>\n",
       "      <td>10</td>\n",
       "    </tr>\n",
       "    <tr>\n",
       "      <th>2</th>\n",
       "      <td>6</td>\n",
       "      <td>12</td>\n",
       "    </tr>\n",
       "  </tbody>\n",
       "</table>\n",
       "</div>"
      ],
      "text/plain": [
       "   A   B\n",
       "0  2   8\n",
       "1  4  10\n",
       "2  6  12"
      ]
     },
     "execution_count": 37,
     "metadata": {},
     "output_type": "execute_result"
    }
   ],
   "source": [
    "# 使用applymap方法将整个DataFrame的值映射为新的值  \n",
    "mapping_func = lambda x: x * 2  \n",
    "result = df.applymap(mapping_func)  \n",
    "result"
   ]
  },
  {
   "cell_type": "markdown",
   "id": "f849ef29",
   "metadata": {},
   "source": [
    "# 使用stack和unstack进行堆叠和解堆叠操作\n",
    "\n",
    "DataFrame中的stack方法可以将数据的列转换为行，而unstack方法可以将数据的行转换为列。"
   ]
  },
  {
   "cell_type": "code",
   "execution_count": 41,
   "id": "c69f9bed",
   "metadata": {},
   "outputs": [
    {
     "data": {
      "text/html": [
       "<div>\n",
       "<style scoped>\n",
       "    .dataframe tbody tr th:only-of-type {\n",
       "        vertical-align: middle;\n",
       "    }\n",
       "\n",
       "    .dataframe tbody tr th {\n",
       "        vertical-align: top;\n",
       "    }\n",
       "\n",
       "    .dataframe thead th {\n",
       "        text-align: right;\n",
       "    }\n",
       "</style>\n",
       "<table border=\"1\" class=\"dataframe\">\n",
       "  <thead>\n",
       "    <tr style=\"text-align: right;\">\n",
       "      <th></th>\n",
       "      <th>A</th>\n",
       "      <th>B</th>\n",
       "    </tr>\n",
       "  </thead>\n",
       "  <tbody>\n",
       "    <tr>\n",
       "      <th>0</th>\n",
       "      <td>1</td>\n",
       "      <td>4</td>\n",
       "    </tr>\n",
       "    <tr>\n",
       "      <th>1</th>\n",
       "      <td>2</td>\n",
       "      <td>5</td>\n",
       "    </tr>\n",
       "    <tr>\n",
       "      <th>2</th>\n",
       "      <td>3</td>\n",
       "      <td>6</td>\n",
       "    </tr>\n",
       "  </tbody>\n",
       "</table>\n",
       "</div>"
      ],
      "text/plain": [
       "   A  B\n",
       "0  1  4\n",
       "1  2  5\n",
       "2  3  6"
      ]
     },
     "execution_count": 41,
     "metadata": {},
     "output_type": "execute_result"
    }
   ],
   "source": [
    "# 创建一个多重索引的DataFrame  \n",
    "df = pd.DataFrame({'A': [1, 2, 3], 'B': [4, 5, 6]})  \n",
    "df"
   ]
  },
  {
   "cell_type": "code",
   "execution_count": 42,
   "id": "5a0ab95c",
   "metadata": {},
   "outputs": [
    {
     "data": {
      "text/plain": [
       "0  A    1\n",
       "   B    4\n",
       "1  A    2\n",
       "   B    5\n",
       "2  A    3\n",
       "   B    6\n",
       "dtype: int64"
      ]
     },
     "execution_count": 42,
     "metadata": {},
     "output_type": "execute_result"
    }
   ],
   "source": [
    "# 使用stack方法将数据的列转换为行  \n",
    "result = df.stack()  \n",
    "# 输出Series([1, 4, 2, 5, 3, 6], index=MultiIndex([('a', 'x'), ('a', 'y'), ('b', 'x'), ('b', 'y'), ('c', 'x'), ('c', 'y')], names=['index', 'columns']))  \n",
    "result  "
   ]
  },
  {
   "cell_type": "code",
   "execution_count": 43,
   "id": "b0862d7c",
   "metadata": {},
   "outputs": [
    {
     "data": {
      "text/plain": [
       "A  0    1\n",
       "   1    2\n",
       "   2    3\n",
       "B  0    4\n",
       "   1    5\n",
       "   2    6\n",
       "dtype: int64"
      ]
     },
     "execution_count": 43,
     "metadata": {},
     "output_type": "execute_result"
    }
   ],
   "source": [
    "# 使用unstack方法将数据的行转换为列  \n",
    "result = df.unstack()  \n",
    "# 输出DataFrame({'x': [1, 2, 3], 'y': [4, 5, 6]})\n",
    "result"
   ]
  },
  {
   "cell_type": "markdown",
   "id": "71a0ccca",
   "metadata": {},
   "source": [
    "# 使用rolling进行滑动窗口操作\n",
    "        \n",
    "DataFrame中的rolling方法可以进行滑动窗口操作，常用于数据处理和分析。"
   ]
  },
  {
   "cell_type": "code",
   "execution_count": 44,
   "id": "e9c1e39d",
   "metadata": {},
   "outputs": [
    {
     "data": {
      "text/html": [
       "<div>\n",
       "<style scoped>\n",
       "    .dataframe tbody tr th:only-of-type {\n",
       "        vertical-align: middle;\n",
       "    }\n",
       "\n",
       "    .dataframe tbody tr th {\n",
       "        vertical-align: top;\n",
       "    }\n",
       "\n",
       "    .dataframe thead th {\n",
       "        text-align: right;\n",
       "    }\n",
       "</style>\n",
       "<table border=\"1\" class=\"dataframe\">\n",
       "  <thead>\n",
       "    <tr style=\"text-align: right;\">\n",
       "      <th></th>\n",
       "      <th>A</th>\n",
       "    </tr>\n",
       "  </thead>\n",
       "  <tbody>\n",
       "    <tr>\n",
       "      <th>0</th>\n",
       "      <td>1</td>\n",
       "    </tr>\n",
       "    <tr>\n",
       "      <th>1</th>\n",
       "      <td>2</td>\n",
       "    </tr>\n",
       "    <tr>\n",
       "      <th>2</th>\n",
       "      <td>3</td>\n",
       "    </tr>\n",
       "    <tr>\n",
       "      <th>3</th>\n",
       "      <td>4</td>\n",
       "    </tr>\n",
       "    <tr>\n",
       "      <th>4</th>\n",
       "      <td>5</td>\n",
       "    </tr>\n",
       "  </tbody>\n",
       "</table>\n",
       "</div>"
      ],
      "text/plain": [
       "   A\n",
       "0  1\n",
       "1  2\n",
       "2  3\n",
       "3  4\n",
       "4  5"
      ]
     },
     "execution_count": 44,
     "metadata": {},
     "output_type": "execute_result"
    }
   ],
   "source": [
    "# 创建一个DataFrame  \n",
    "df = pd.DataFrame({'A': [1, 2, 3, 4, 5]})  \n",
    "df"
   ]
  },
  {
   "cell_type": "code",
   "execution_count": 45,
   "id": "af3180e5",
   "metadata": {},
   "outputs": [
    {
     "data": {
      "text/html": [
       "<div>\n",
       "<style scoped>\n",
       "    .dataframe tbody tr th:only-of-type {\n",
       "        vertical-align: middle;\n",
       "    }\n",
       "\n",
       "    .dataframe tbody tr th {\n",
       "        vertical-align: top;\n",
       "    }\n",
       "\n",
       "    .dataframe thead th {\n",
       "        text-align: right;\n",
       "    }\n",
       "</style>\n",
       "<table border=\"1\" class=\"dataframe\">\n",
       "  <thead>\n",
       "    <tr style=\"text-align: right;\">\n",
       "      <th></th>\n",
       "      <th>A</th>\n",
       "    </tr>\n",
       "  </thead>\n",
       "  <tbody>\n",
       "    <tr>\n",
       "      <th>0</th>\n",
       "      <td>NaN</td>\n",
       "    </tr>\n",
       "    <tr>\n",
       "      <th>1</th>\n",
       "      <td>NaN</td>\n",
       "    </tr>\n",
       "    <tr>\n",
       "      <th>2</th>\n",
       "      <td>2.0</td>\n",
       "    </tr>\n",
       "    <tr>\n",
       "      <th>3</th>\n",
       "      <td>3.0</td>\n",
       "    </tr>\n",
       "    <tr>\n",
       "      <th>4</th>\n",
       "      <td>4.0</td>\n",
       "    </tr>\n",
       "  </tbody>\n",
       "</table>\n",
       "</div>"
      ],
      "text/plain": [
       "     A\n",
       "0  NaN\n",
       "1  NaN\n",
       "2  2.0\n",
       "3  3.0\n",
       "4  4.0"
      ]
     },
     "execution_count": 45,
     "metadata": {},
     "output_type": "execute_result"
    }
   ],
   "source": [
    "# 使用rolling方法进行滑动窗口操作，窗口大小为3，并计算每个窗口内的平均值  \n",
    "result = df.rolling(window=3).mean() \n",
    "result"
   ]
  },
  {
   "cell_type": "markdown",
   "id": "eba4e05e",
   "metadata": {},
   "source": [
    "# 使用replace进行替换操作\n",
    "\n",
    "DataFrame中的replace方法可以对指定的值进行替换操作。"
   ]
  },
  {
   "cell_type": "code",
   "execution_count": 46,
   "id": "c0cd0a74",
   "metadata": {},
   "outputs": [
    {
     "data": {
      "text/html": [
       "<div>\n",
       "<style scoped>\n",
       "    .dataframe tbody tr th:only-of-type {\n",
       "        vertical-align: middle;\n",
       "    }\n",
       "\n",
       "    .dataframe tbody tr th {\n",
       "        vertical-align: top;\n",
       "    }\n",
       "\n",
       "    .dataframe thead th {\n",
       "        text-align: right;\n",
       "    }\n",
       "</style>\n",
       "<table border=\"1\" class=\"dataframe\">\n",
       "  <thead>\n",
       "    <tr style=\"text-align: right;\">\n",
       "      <th></th>\n",
       "      <th>A</th>\n",
       "      <th>B</th>\n",
       "    </tr>\n",
       "  </thead>\n",
       "  <tbody>\n",
       "    <tr>\n",
       "      <th>0</th>\n",
       "      <td>1</td>\n",
       "      <td>foo</td>\n",
       "    </tr>\n",
       "    <tr>\n",
       "      <th>1</th>\n",
       "      <td>2</td>\n",
       "      <td>bar</td>\n",
       "    </tr>\n",
       "    <tr>\n",
       "      <th>2</th>\n",
       "      <td>3</td>\n",
       "      <td>foo</td>\n",
       "    </tr>\n",
       "    <tr>\n",
       "      <th>3</th>\n",
       "      <td>4</td>\n",
       "      <td>bar</td>\n",
       "    </tr>\n",
       "    <tr>\n",
       "      <th>4</th>\n",
       "      <td>5</td>\n",
       "      <td>foo</td>\n",
       "    </tr>\n",
       "  </tbody>\n",
       "</table>\n",
       "</div>"
      ],
      "text/plain": [
       "   A    B\n",
       "0  1  foo\n",
       "1  2  bar\n",
       "2  3  foo\n",
       "3  4  bar\n",
       "4  5  foo"
      ]
     },
     "execution_count": 46,
     "metadata": {},
     "output_type": "execute_result"
    }
   ],
   "source": [
    "# 创建一个DataFrame  \n",
    "df = pd.DataFrame({'A': [1, 2, 3, 4, 5], 'B': ['foo', 'bar', 'foo', 'bar', 'foo']})  \n",
    "df"
   ]
  },
  {
   "cell_type": "code",
   "execution_count": 47,
   "id": "e2bd5dd2",
   "metadata": {},
   "outputs": [
    {
     "data": {
      "text/html": [
       "<div>\n",
       "<style scoped>\n",
       "    .dataframe tbody tr th:only-of-type {\n",
       "        vertical-align: middle;\n",
       "    }\n",
       "\n",
       "    .dataframe tbody tr th {\n",
       "        vertical-align: top;\n",
       "    }\n",
       "\n",
       "    .dataframe thead th {\n",
       "        text-align: right;\n",
       "    }\n",
       "</style>\n",
       "<table border=\"1\" class=\"dataframe\">\n",
       "  <thead>\n",
       "    <tr style=\"text-align: right;\">\n",
       "      <th></th>\n",
       "      <th>A</th>\n",
       "      <th>B</th>\n",
       "    </tr>\n",
       "  </thead>\n",
       "  <tbody>\n",
       "    <tr>\n",
       "      <th>0</th>\n",
       "      <td>1</td>\n",
       "      <td>baz</td>\n",
       "    </tr>\n",
       "    <tr>\n",
       "      <th>1</th>\n",
       "      <td>2</td>\n",
       "      <td>bar</td>\n",
       "    </tr>\n",
       "    <tr>\n",
       "      <th>2</th>\n",
       "      <td>3</td>\n",
       "      <td>baz</td>\n",
       "    </tr>\n",
       "    <tr>\n",
       "      <th>3</th>\n",
       "      <td>4</td>\n",
       "      <td>bar</td>\n",
       "    </tr>\n",
       "    <tr>\n",
       "      <th>4</th>\n",
       "      <td>5</td>\n",
       "      <td>baz</td>\n",
       "    </tr>\n",
       "  </tbody>\n",
       "</table>\n",
       "</div>"
      ],
      "text/plain": [
       "   A    B\n",
       "0  1  baz\n",
       "1  2  bar\n",
       "2  3  baz\n",
       "3  4  bar\n",
       "4  5  baz"
      ]
     },
     "execution_count": 47,
     "metadata": {},
     "output_type": "execute_result"
    }
   ],
   "source": [
    "# 使用replace方法将B列中的'foo'替换为'baz'  \n",
    "result = df.replace({'B': {'foo': 'baz'}})\n",
    "result"
   ]
  },
  {
   "cell_type": "markdown",
   "id": "22c4a30e",
   "metadata": {},
   "source": [
    "# 使用melt进行重塑操作\n",
    "        \n",
    "DataFrame中的melt方法可以对数据进行重塑操作，将宽格式的数据转换为长格式，常用于数据处理和分析。"
   ]
  },
  {
   "cell_type": "code",
   "execution_count": 48,
   "id": "141de425",
   "metadata": {},
   "outputs": [
    {
     "data": {
      "text/html": [
       "<div>\n",
       "<style scoped>\n",
       "    .dataframe tbody tr th:only-of-type {\n",
       "        vertical-align: middle;\n",
       "    }\n",
       "\n",
       "    .dataframe tbody tr th {\n",
       "        vertical-align: top;\n",
       "    }\n",
       "\n",
       "    .dataframe thead th {\n",
       "        text-align: right;\n",
       "    }\n",
       "</style>\n",
       "<table border=\"1\" class=\"dataframe\">\n",
       "  <thead>\n",
       "    <tr style=\"text-align: right;\">\n",
       "      <th></th>\n",
       "      <th>A</th>\n",
       "      <th>B</th>\n",
       "      <th>C</th>\n",
       "    </tr>\n",
       "  </thead>\n",
       "  <tbody>\n",
       "    <tr>\n",
       "      <th>0</th>\n",
       "      <td>1</td>\n",
       "      <td>4</td>\n",
       "      <td>7</td>\n",
       "    </tr>\n",
       "    <tr>\n",
       "      <th>1</th>\n",
       "      <td>2</td>\n",
       "      <td>5</td>\n",
       "      <td>8</td>\n",
       "    </tr>\n",
       "    <tr>\n",
       "      <th>2</th>\n",
       "      <td>3</td>\n",
       "      <td>6</td>\n",
       "      <td>9</td>\n",
       "    </tr>\n",
       "  </tbody>\n",
       "</table>\n",
       "</div>"
      ],
      "text/plain": [
       "   A  B  C\n",
       "0  1  4  7\n",
       "1  2  5  8\n",
       "2  3  6  9"
      ]
     },
     "execution_count": 48,
     "metadata": {},
     "output_type": "execute_result"
    }
   ],
   "source": [
    "# 创建一个宽格式的DataFrame  \n",
    "df = pd.DataFrame({'A': [1, 2, 3], 'B': [4, 5, 6], 'C': [7, 8, 9]})  \n",
    "df"
   ]
  },
  {
   "cell_type": "code",
   "execution_count": 49,
   "id": "03c40489",
   "metadata": {},
   "outputs": [
    {
     "data": {
      "text/html": [
       "<div>\n",
       "<style scoped>\n",
       "    .dataframe tbody tr th:only-of-type {\n",
       "        vertical-align: middle;\n",
       "    }\n",
       "\n",
       "    .dataframe tbody tr th {\n",
       "        vertical-align: top;\n",
       "    }\n",
       "\n",
       "    .dataframe thead th {\n",
       "        text-align: right;\n",
       "    }\n",
       "</style>\n",
       "<table border=\"1\" class=\"dataframe\">\n",
       "  <thead>\n",
       "    <tr style=\"text-align: right;\">\n",
       "      <th></th>\n",
       "      <th>variable</th>\n",
       "      <th>value</th>\n",
       "    </tr>\n",
       "  </thead>\n",
       "  <tbody>\n",
       "    <tr>\n",
       "      <th>0</th>\n",
       "      <td>A</td>\n",
       "      <td>1</td>\n",
       "    </tr>\n",
       "    <tr>\n",
       "      <th>1</th>\n",
       "      <td>A</td>\n",
       "      <td>2</td>\n",
       "    </tr>\n",
       "    <tr>\n",
       "      <th>2</th>\n",
       "      <td>A</td>\n",
       "      <td>3</td>\n",
       "    </tr>\n",
       "    <tr>\n",
       "      <th>3</th>\n",
       "      <td>B</td>\n",
       "      <td>4</td>\n",
       "    </tr>\n",
       "    <tr>\n",
       "      <th>4</th>\n",
       "      <td>B</td>\n",
       "      <td>5</td>\n",
       "    </tr>\n",
       "    <tr>\n",
       "      <th>5</th>\n",
       "      <td>B</td>\n",
       "      <td>6</td>\n",
       "    </tr>\n",
       "    <tr>\n",
       "      <th>6</th>\n",
       "      <td>C</td>\n",
       "      <td>7</td>\n",
       "    </tr>\n",
       "    <tr>\n",
       "      <th>7</th>\n",
       "      <td>C</td>\n",
       "      <td>8</td>\n",
       "    </tr>\n",
       "    <tr>\n",
       "      <th>8</th>\n",
       "      <td>C</td>\n",
       "      <td>9</td>\n",
       "    </tr>\n",
       "  </tbody>\n",
       "</table>\n",
       "</div>"
      ],
      "text/plain": [
       "  variable  value\n",
       "0        A      1\n",
       "1        A      2\n",
       "2        A      3\n",
       "3        B      4\n",
       "4        B      5\n",
       "5        B      6\n",
       "6        C      7\n",
       "7        C      8\n",
       "8        C      9"
      ]
     },
     "execution_count": 49,
     "metadata": {},
     "output_type": "execute_result"
    }
   ],
   "source": [
    "# 使用melt方法将数据进行重塑操作，将宽格式的数据转换为长格式  \n",
    "result = df.melt()  \n",
    "result"
   ]
  },
  {
   "cell_type": "markdown",
   "id": "bd90247b",
   "metadata": {},
   "source": [
    "# 使用agg进行聚合操作\n",
    "\n",
    "DataFrame中的agg方法可以对指定的列进行聚合操作，将多个值合并为一个值，常用于数据处理和分析"
   ]
  },
  {
   "cell_type": "code",
   "execution_count": 50,
   "id": "c51bae43",
   "metadata": {},
   "outputs": [
    {
     "data": {
      "text/html": [
       "<div>\n",
       "<style scoped>\n",
       "    .dataframe tbody tr th:only-of-type {\n",
       "        vertical-align: middle;\n",
       "    }\n",
       "\n",
       "    .dataframe tbody tr th {\n",
       "        vertical-align: top;\n",
       "    }\n",
       "\n",
       "    .dataframe thead th {\n",
       "        text-align: right;\n",
       "    }\n",
       "</style>\n",
       "<table border=\"1\" class=\"dataframe\">\n",
       "  <thead>\n",
       "    <tr style=\"text-align: right;\">\n",
       "      <th></th>\n",
       "      <th>A</th>\n",
       "      <th>B</th>\n",
       "    </tr>\n",
       "  </thead>\n",
       "  <tbody>\n",
       "    <tr>\n",
       "      <th>0</th>\n",
       "      <td>1</td>\n",
       "      <td>10</td>\n",
       "    </tr>\n",
       "    <tr>\n",
       "      <th>1</th>\n",
       "      <td>2</td>\n",
       "      <td>20</td>\n",
       "    </tr>\n",
       "    <tr>\n",
       "      <th>2</th>\n",
       "      <td>3</td>\n",
       "      <td>30</td>\n",
       "    </tr>\n",
       "    <tr>\n",
       "      <th>3</th>\n",
       "      <td>4</td>\n",
       "      <td>40</td>\n",
       "    </tr>\n",
       "    <tr>\n",
       "      <th>4</th>\n",
       "      <td>5</td>\n",
       "      <td>50</td>\n",
       "    </tr>\n",
       "  </tbody>\n",
       "</table>\n",
       "</div>"
      ],
      "text/plain": [
       "   A   B\n",
       "0  1  10\n",
       "1  2  20\n",
       "2  3  30\n",
       "3  4  40\n",
       "4  5  50"
      ]
     },
     "execution_count": 50,
     "metadata": {},
     "output_type": "execute_result"
    }
   ],
   "source": [
    "# 创建一个DataFrame  \n",
    "df = pd.DataFrame({'A': [1, 2, 3, 4, 5], 'B': [10, 20, 30, 40, 50]})  \n",
    "df"
   ]
  },
  {
   "cell_type": "code",
   "execution_count": 51,
   "id": "ea757f4e",
   "metadata": {},
   "outputs": [
    {
     "data": {
      "text/plain": [
       "A    15.0\n",
       "B    30.0\n",
       "dtype: float64"
      ]
     },
     "execution_count": 51,
     "metadata": {},
     "output_type": "execute_result"
    }
   ],
   "source": [
    "# 使用agg方法将A列和B列分别进行求和和平均值操作  \n",
    "result = df.agg({'A': 'sum', 'B': 'mean'}) \n",
    "result"
   ]
  },
  {
   "cell_type": "markdown",
   "id": "a70c2fed",
   "metadata": {},
   "source": [
    "# 使用diff计算某列/行的变化值\n",
    "\n",
    "DataFrame的diff()方法计算（时间）序列的变化值，可用于数据分析和特征开发，同时diff提供periods、axis两个参数，可以自行设置diff步长、以及行/列计算"
   ]
  },
  {
   "cell_type": "code",
   "execution_count": 55,
   "id": "e8292823",
   "metadata": {},
   "outputs": [
    {
     "data": {
      "text/html": [
       "<div>\n",
       "<style scoped>\n",
       "    .dataframe tbody tr th:only-of-type {\n",
       "        vertical-align: middle;\n",
       "    }\n",
       "\n",
       "    .dataframe tbody tr th {\n",
       "        vertical-align: top;\n",
       "    }\n",
       "\n",
       "    .dataframe thead th {\n",
       "        text-align: right;\n",
       "    }\n",
       "</style>\n",
       "<table border=\"1\" class=\"dataframe\">\n",
       "  <thead>\n",
       "    <tr style=\"text-align: right;\">\n",
       "      <th></th>\n",
       "      <th>A</th>\n",
       "      <th>B</th>\n",
       "    </tr>\n",
       "  </thead>\n",
       "  <tbody>\n",
       "    <tr>\n",
       "      <th>0</th>\n",
       "      <td>NaN</td>\n",
       "      <td>NaN</td>\n",
       "    </tr>\n",
       "    <tr>\n",
       "      <th>1</th>\n",
       "      <td>1.0</td>\n",
       "      <td>-1.0</td>\n",
       "    </tr>\n",
       "    <tr>\n",
       "      <th>2</th>\n",
       "      <td>38.0</td>\n",
       "      <td>-1.0</td>\n",
       "    </tr>\n",
       "    <tr>\n",
       "      <th>3</th>\n",
       "      <td>-36.0</td>\n",
       "      <td>-1.0</td>\n",
       "    </tr>\n",
       "    <tr>\n",
       "      <th>4</th>\n",
       "      <td>1.0</td>\n",
       "      <td>-1.0</td>\n",
       "    </tr>\n",
       "  </tbody>\n",
       "</table>\n",
       "</div>"
      ],
      "text/plain": [
       "      A    B\n",
       "0   NaN  NaN\n",
       "1   1.0 -1.0\n",
       "2  38.0 -1.0\n",
       "3 -36.0 -1.0\n",
       "4   1.0 -1.0"
      ]
     },
     "execution_count": 55,
     "metadata": {},
     "output_type": "execute_result"
    }
   ],
   "source": [
    "# 创建一个 DataFrame  \n",
    "df = pd.DataFrame({'A': [1, 2, 40, 4, 5], 'B': [5, 4, 3, 2, 1]})  \n",
    "# 计算相邻元素之间的差异\n",
    "diff_df = df.diff(periods=1,axis=0)  \n",
    "''' 参数\n",
    "  periods：指定计算百分比变化的周期数/步长;可为负数,periods=-1时计算b-c,a-b\n",
    "  axis：指定计算的轴，0表示按列计算，1表示按行计算。默认为0。\n",
    "'''\n",
    "diff_df"
   ]
  },
  {
   "cell_type": "markdown",
   "id": "5e7c8c07",
   "metadata": {},
   "source": [
    "# 使用pct_change计算某列/行的变化率\n",
    "\n",
    "DataFrame的pct_change()方法可以用来计算数据的百分比变化，与diff()方法配套"
   ]
  },
  {
   "cell_type": "code",
   "execution_count": 56,
   "id": "4031830a",
   "metadata": {},
   "outputs": [
    {
     "data": {
      "text/html": [
       "<div>\n",
       "<style scoped>\n",
       "    .dataframe tbody tr th:only-of-type {\n",
       "        vertical-align: middle;\n",
       "    }\n",
       "\n",
       "    .dataframe tbody tr th {\n",
       "        vertical-align: top;\n",
       "    }\n",
       "\n",
       "    .dataframe thead th {\n",
       "        text-align: right;\n",
       "    }\n",
       "</style>\n",
       "<table border=\"1\" class=\"dataframe\">\n",
       "  <thead>\n",
       "    <tr style=\"text-align: right;\">\n",
       "      <th></th>\n",
       "      <th>A</th>\n",
       "      <th>B</th>\n",
       "    </tr>\n",
       "  </thead>\n",
       "  <tbody>\n",
       "    <tr>\n",
       "      <th>2023-01-01</th>\n",
       "      <td>NaN</td>\n",
       "      <td>NaN</td>\n",
       "    </tr>\n",
       "    <tr>\n",
       "      <th>2023-01-02</th>\n",
       "      <td>0.500000</td>\n",
       "      <td>0.400000</td>\n",
       "    </tr>\n",
       "    <tr>\n",
       "      <th>2023-01-03</th>\n",
       "      <td>0.333333</td>\n",
       "      <td>0.428571</td>\n",
       "    </tr>\n",
       "    <tr>\n",
       "      <th>2023-01-04</th>\n",
       "      <td>0.250000</td>\n",
       "      <td>0.500000</td>\n",
       "    </tr>\n",
       "  </tbody>\n",
       "</table>\n",
       "</div>"
      ],
      "text/plain": [
       "                   A         B\n",
       "2023-01-01       NaN       NaN\n",
       "2023-01-02  0.500000  0.400000\n",
       "2023-01-03  0.333333  0.428571\n",
       "2023-01-04  0.250000  0.500000"
      ]
     },
     "execution_count": 56,
     "metadata": {},
     "output_type": "execute_result"
    }
   ],
   "source": [
    "# 创建一个包含时间序列数据的DataFrame  \n",
    "df = pd.DataFrame({'A': [10, 15, 20, 25], 'B': [5, 7, 10, 15]}, index=pd.date_range('2023-01-01', periods=4))  \n",
    "  \n",
    "# 计算DataFrame的百分比变化  \n",
    "pct_change_df = df.pct_change(periods=1, fill_method='bfill', axis=0)  \n",
    "''' 参数\n",
    "  periods：指定计算百分比变化的周期数，默认为1。\n",
    "  fill_method：指定如何填充缺失值，可选参数包括backfill、bfill、pad、ffill、\n",
    "               nearest等。默认为pad。\n",
    "  limit：指定连续缺失值的最大填充数量。默认为None。\n",
    "  freq：指定时间频率，用于计算时间序列数据的百分比变化。默认为None。\n",
    "  axis：指定计算的轴，0表示按列计算，1表示按行计算。默认为0。\n",
    "'''\n",
    "pct_change_df"
   ]
  },
  {
   "cell_type": "markdown",
   "id": "d8f2e001",
   "metadata": {},
   "source": [
    "# 使用rank对数据进行排名操作\n",
    "        \n",
    "DataFrame的rank()方法可以对数据进行排名操作，返回一个新的DataFrame，其中每个元素表示该元素在原始DataFrame中的排名"
   ]
  },
  {
   "cell_type": "code",
   "execution_count": 57,
   "id": "13395919",
   "metadata": {},
   "outputs": [
    {
     "data": {
      "text/html": [
       "<div>\n",
       "<style scoped>\n",
       "    .dataframe tbody tr th:only-of-type {\n",
       "        vertical-align: middle;\n",
       "    }\n",
       "\n",
       "    .dataframe tbody tr th {\n",
       "        vertical-align: top;\n",
       "    }\n",
       "\n",
       "    .dataframe thead th {\n",
       "        text-align: right;\n",
       "    }\n",
       "</style>\n",
       "<table border=\"1\" class=\"dataframe\">\n",
       "  <thead>\n",
       "    <tr style=\"text-align: right;\">\n",
       "      <th></th>\n",
       "      <th>A</th>\n",
       "      <th>B</th>\n",
       "      <th>D</th>\n",
       "    </tr>\n",
       "  </thead>\n",
       "  <tbody>\n",
       "    <tr>\n",
       "      <th>0</th>\n",
       "      <td>4.0</td>\n",
       "      <td>1.0</td>\n",
       "      <td>4.0</td>\n",
       "    </tr>\n",
       "    <tr>\n",
       "      <th>1</th>\n",
       "      <td>3.0</td>\n",
       "      <td>2.0</td>\n",
       "      <td>3.0</td>\n",
       "    </tr>\n",
       "    <tr>\n",
       "      <th>2</th>\n",
       "      <td>2.0</td>\n",
       "      <td>3.0</td>\n",
       "      <td>2.0</td>\n",
       "    </tr>\n",
       "    <tr>\n",
       "      <th>3</th>\n",
       "      <td>1.0</td>\n",
       "      <td>4.0</td>\n",
       "      <td>1.0</td>\n",
       "    </tr>\n",
       "  </tbody>\n",
       "</table>\n",
       "</div>"
      ],
      "text/plain": [
       "     A    B    D\n",
       "0  4.0  1.0  4.0\n",
       "1  3.0  2.0  3.0\n",
       "2  2.0  3.0  2.0\n",
       "3  1.0  4.0  1.0"
      ]
     },
     "execution_count": 57,
     "metadata": {},
     "output_type": "execute_result"
    }
   ],
   "source": [
    "# 创建一个包含不同类型数据的DataFrame  \n",
    "df = pd.DataFrame({'A': [1, 2, 3, 4], 'B': [5, 4, 3, 2], 'C': ['a', 'b', 'c', 'd'], 'D': [np.nan, 2, 3, 4]})  \n",
    "  \n",
    "# 对DataFrame进行排名操作  \n",
    "ranked_df = df.rank(axis=0, method='min', ascending=False, numeric_only=True, na_option='bottom', pct=False)  \n",
    "''' 参数\n",
    "  method：指定排名的方式，可选参数包括average、min、max、first、dense。默认值为average。\n",
    "  ascending：指定排名的顺序，True表示升序排名，False表示降序排名。默认值为True。\n",
    "  axis：指定排名的轴，0表示按列排名，1表示按行排名。默认值为0。\n",
    "  numeric_only：指定是否只对数值类型的数据进行排名。默认值为True。\n",
    "  na_option：指定如何对NaN值进行排名，可选参数包括keep、top、bottom。默认值为keep。\n",
    "  pct：是否以百分位形式显示返回的排名。默认为False。\n",
    "'''\n",
    "ranked_df"
   ]
  },
  {
   "cell_type": "markdown",
   "id": "39e64e91",
   "metadata": {},
   "source": [
    "# 使用pivot_table创建数据透视表\n",
    "\n",
    "DataFrame的pivot_table()方法可以用来创建一个数据透视表，功能基本同excel"
   ]
  },
  {
   "cell_type": "code",
   "execution_count": 58,
   "id": "031e9b56",
   "metadata": {},
   "outputs": [
    {
     "data": {
      "text/html": [
       "<div>\n",
       "<style scoped>\n",
       "    .dataframe tbody tr th:only-of-type {\n",
       "        vertical-align: middle;\n",
       "    }\n",
       "\n",
       "    .dataframe tbody tr th {\n",
       "        vertical-align: top;\n",
       "    }\n",
       "\n",
       "    .dataframe thead th {\n",
       "        text-align: right;\n",
       "    }\n",
       "</style>\n",
       "<table border=\"1\" class=\"dataframe\">\n",
       "  <thead>\n",
       "    <tr style=\"text-align: right;\">\n",
       "      <th></th>\n",
       "      <th>Product</th>\n",
       "      <th>Date</th>\n",
       "      <th>Sales</th>\n",
       "      <th>Discounts</th>\n",
       "    </tr>\n",
       "  </thead>\n",
       "  <tbody>\n",
       "    <tr>\n",
       "      <th>0</th>\n",
       "      <td>A</td>\n",
       "      <td>2023-01-01</td>\n",
       "      <td>10</td>\n",
       "      <td>0.1</td>\n",
       "    </tr>\n",
       "    <tr>\n",
       "      <th>1</th>\n",
       "      <td>B</td>\n",
       "      <td>2023-01-02</td>\n",
       "      <td>20</td>\n",
       "      <td>0.2</td>\n",
       "    </tr>\n",
       "    <tr>\n",
       "      <th>2</th>\n",
       "      <td>C</td>\n",
       "      <td>2023-01-03</td>\n",
       "      <td>30</td>\n",
       "      <td>0.3</td>\n",
       "    </tr>\n",
       "    <tr>\n",
       "      <th>3</th>\n",
       "      <td>A</td>\n",
       "      <td>2023-01-04</td>\n",
       "      <td>40</td>\n",
       "      <td>0.1</td>\n",
       "    </tr>\n",
       "    <tr>\n",
       "      <th>4</th>\n",
       "      <td>B</td>\n",
       "      <td>2023-01-05</td>\n",
       "      <td>50</td>\n",
       "      <td>0.2</td>\n",
       "    </tr>\n",
       "    <tr>\n",
       "      <th>5</th>\n",
       "      <td>C</td>\n",
       "      <td>2023-01-06</td>\n",
       "      <td>60</td>\n",
       "      <td>0.3</td>\n",
       "    </tr>\n",
       "  </tbody>\n",
       "</table>\n",
       "</div>"
      ],
      "text/plain": [
       "  Product       Date  Sales  Discounts\n",
       "0       A 2023-01-01     10        0.1\n",
       "1       B 2023-01-02     20        0.2\n",
       "2       C 2023-01-03     30        0.3\n",
       "3       A 2023-01-04     40        0.1\n",
       "4       B 2023-01-05     50        0.2\n",
       "5       C 2023-01-06     60        0.3"
      ]
     },
     "execution_count": 58,
     "metadata": {},
     "output_type": "execute_result"
    }
   ],
   "source": [
    "# 创建一个包含销售数据的DataFrame  \n",
    "df = pd.DataFrame({'Product': ['A', 'B', 'C', 'A', 'B', 'C'],  \n",
    "                   'Date': pd.date_range('2023-01-01', periods=6),  \n",
    "                   'Sales': [10, 20, 30, 40, 50, 60],  \n",
    "                   'Discounts': [0.1, 0.2, 0.3, 0.1, 0.2, 0.3]})  \n",
    "df"
   ]
  },
  {
   "cell_type": "code",
   "execution_count": 59,
   "id": "e2653d4c",
   "metadata": {},
   "outputs": [
    {
     "data": {
      "text/html": [
       "<div>\n",
       "<style scoped>\n",
       "    .dataframe tbody tr th:only-of-type {\n",
       "        vertical-align: middle;\n",
       "    }\n",
       "\n",
       "    .dataframe tbody tr th {\n",
       "        vertical-align: top;\n",
       "    }\n",
       "\n",
       "    .dataframe thead tr th {\n",
       "        text-align: left;\n",
       "    }\n",
       "\n",
       "    .dataframe thead tr:last-of-type th {\n",
       "        text-align: right;\n",
       "    }\n",
       "</style>\n",
       "<table border=\"1\" class=\"dataframe\">\n",
       "  <thead>\n",
       "    <tr>\n",
       "      <th></th>\n",
       "      <th colspan=\"6\" halign=\"left\">Discounts</th>\n",
       "      <th colspan=\"6\" halign=\"left\">Sales</th>\n",
       "    </tr>\n",
       "    <tr>\n",
       "      <th>Date</th>\n",
       "      <th>2023-01-01</th>\n",
       "      <th>2023-01-02</th>\n",
       "      <th>2023-01-03</th>\n",
       "      <th>2023-01-04</th>\n",
       "      <th>2023-01-05</th>\n",
       "      <th>2023-01-06</th>\n",
       "      <th>2023-01-01</th>\n",
       "      <th>2023-01-02</th>\n",
       "      <th>2023-01-03</th>\n",
       "      <th>2023-01-04</th>\n",
       "      <th>2023-01-05</th>\n",
       "      <th>2023-01-06</th>\n",
       "    </tr>\n",
       "    <tr>\n",
       "      <th>Product</th>\n",
       "      <th></th>\n",
       "      <th></th>\n",
       "      <th></th>\n",
       "      <th></th>\n",
       "      <th></th>\n",
       "      <th></th>\n",
       "      <th></th>\n",
       "      <th></th>\n",
       "      <th></th>\n",
       "      <th></th>\n",
       "      <th></th>\n",
       "      <th></th>\n",
       "    </tr>\n",
       "  </thead>\n",
       "  <tbody>\n",
       "    <tr>\n",
       "      <th>A</th>\n",
       "      <td>0.1</td>\n",
       "      <td>NaN</td>\n",
       "      <td>NaN</td>\n",
       "      <td>0.1</td>\n",
       "      <td>NaN</td>\n",
       "      <td>NaN</td>\n",
       "      <td>10.0</td>\n",
       "      <td>NaN</td>\n",
       "      <td>NaN</td>\n",
       "      <td>40.0</td>\n",
       "      <td>NaN</td>\n",
       "      <td>NaN</td>\n",
       "    </tr>\n",
       "    <tr>\n",
       "      <th>B</th>\n",
       "      <td>NaN</td>\n",
       "      <td>0.2</td>\n",
       "      <td>NaN</td>\n",
       "      <td>NaN</td>\n",
       "      <td>0.2</td>\n",
       "      <td>NaN</td>\n",
       "      <td>NaN</td>\n",
       "      <td>20.0</td>\n",
       "      <td>NaN</td>\n",
       "      <td>NaN</td>\n",
       "      <td>50.0</td>\n",
       "      <td>NaN</td>\n",
       "    </tr>\n",
       "    <tr>\n",
       "      <th>C</th>\n",
       "      <td>NaN</td>\n",
       "      <td>NaN</td>\n",
       "      <td>0.3</td>\n",
       "      <td>NaN</td>\n",
       "      <td>NaN</td>\n",
       "      <td>0.3</td>\n",
       "      <td>NaN</td>\n",
       "      <td>NaN</td>\n",
       "      <td>30.0</td>\n",
       "      <td>NaN</td>\n",
       "      <td>NaN</td>\n",
       "      <td>60.0</td>\n",
       "    </tr>\n",
       "  </tbody>\n",
       "</table>\n",
       "</div>"
      ],
      "text/plain": [
       "         Discounts                                                         \\\n",
       "Date    2023-01-01 2023-01-02 2023-01-03 2023-01-04 2023-01-05 2023-01-06   \n",
       "Product                                                                     \n",
       "A              0.1        NaN        NaN        0.1        NaN        NaN   \n",
       "B              NaN        0.2        NaN        NaN        0.2        NaN   \n",
       "C              NaN        NaN        0.3        NaN        NaN        0.3   \n",
       "\n",
       "             Sales                                                         \n",
       "Date    2023-01-01 2023-01-02 2023-01-03 2023-01-04 2023-01-05 2023-01-06  \n",
       "Product                                                                    \n",
       "A             10.0        NaN        NaN       40.0        NaN        NaN  \n",
       "B              NaN       20.0        NaN        NaN       50.0        NaN  \n",
       "C              NaN        NaN       30.0        NaN        NaN       60.0  "
      ]
     },
     "execution_count": 59,
     "metadata": {},
     "output_type": "execute_result"
    }
   ],
   "source": [
    "# 创建一个数据透视表，按产品和销售日期汇总销售额和折扣额  \n",
    "pivot_table = df.pivot_table(values=['Sales', 'Discounts'], index='Product', columns='Date', aggfunc=np.sum)  \n",
    "''' 参数\n",
    "  values：需要进行汇总的列名，或者是一个列名的列表。如果不指定，则使用所有数值列进行汇总。\n",
    "  index：透视表的行索引，可以是一个列名或者一个列名的列表。如果不指定，则使用DataFrame的索引作为行索引。\n",
    "  columns：透视表的列索引，可以是一个列名或者一个列名的列表。如果不指定，则不使用列索引。\n",
    "  aggfunc：指定汇总函数，可以是一个字符串（如'mean'、'sum'等）或者一个函数（如np.sum、np.mean等）。默认为'mean'。\n",
    "  fill_value：指定用于填充缺失值的值。默认为None。\n",
    "  margins：是否添加行/列小计和总计。默认为False。\n",
    "  dropna：是否删除包含缺失值的行和列。默认为True。\n",
    "  margins_name：指定行/列小计和总计的名称。默认为'All'。\n",
    "'''\n",
    "pivot_table"
   ]
  },
  {
   "cell_type": "markdown",
   "id": "89859b39",
   "metadata": {},
   "source": [
    "# 使用pivot构建二维交叉表\n",
    "\n",
    "DataFrame的pivot()方法可以用来根据指定索引/列值重塑数据，生成一个二维交叉表"
   ]
  },
  {
   "cell_type": "code",
   "execution_count": 60,
   "id": "894c1003",
   "metadata": {},
   "outputs": [
    {
     "data": {
      "text/html": [
       "<div>\n",
       "<style scoped>\n",
       "    .dataframe tbody tr th:only-of-type {\n",
       "        vertical-align: middle;\n",
       "    }\n",
       "\n",
       "    .dataframe tbody tr th {\n",
       "        vertical-align: top;\n",
       "    }\n",
       "\n",
       "    .dataframe thead th {\n",
       "        text-align: right;\n",
       "    }\n",
       "</style>\n",
       "<table border=\"1\" class=\"dataframe\">\n",
       "  <thead>\n",
       "    <tr style=\"text-align: right;\">\n",
       "      <th></th>\n",
       "      <th>Product</th>\n",
       "      <th>Date</th>\n",
       "      <th>Sales</th>\n",
       "    </tr>\n",
       "  </thead>\n",
       "  <tbody>\n",
       "    <tr>\n",
       "      <th>0</th>\n",
       "      <td>A</td>\n",
       "      <td>2023-01-01</td>\n",
       "      <td>10</td>\n",
       "    </tr>\n",
       "    <tr>\n",
       "      <th>1</th>\n",
       "      <td>B</td>\n",
       "      <td>2023-01-02</td>\n",
       "      <td>20</td>\n",
       "    </tr>\n",
       "    <tr>\n",
       "      <th>2</th>\n",
       "      <td>C</td>\n",
       "      <td>2023-01-03</td>\n",
       "      <td>30</td>\n",
       "    </tr>\n",
       "    <tr>\n",
       "      <th>3</th>\n",
       "      <td>A</td>\n",
       "      <td>2023-01-04</td>\n",
       "      <td>40</td>\n",
       "    </tr>\n",
       "    <tr>\n",
       "      <th>4</th>\n",
       "      <td>B</td>\n",
       "      <td>2023-01-05</td>\n",
       "      <td>50</td>\n",
       "    </tr>\n",
       "    <tr>\n",
       "      <th>5</th>\n",
       "      <td>C</td>\n",
       "      <td>2023-01-06</td>\n",
       "      <td>60</td>\n",
       "    </tr>\n",
       "  </tbody>\n",
       "</table>\n",
       "</div>"
      ],
      "text/plain": [
       "  Product       Date  Sales\n",
       "0       A 2023-01-01     10\n",
       "1       B 2023-01-02     20\n",
       "2       C 2023-01-03     30\n",
       "3       A 2023-01-04     40\n",
       "4       B 2023-01-05     50\n",
       "5       C 2023-01-06     60"
      ]
     },
     "execution_count": 60,
     "metadata": {},
     "output_type": "execute_result"
    }
   ],
   "source": [
    "# 创建一个包含销售数据的DataFrame  \n",
    "df = pd.DataFrame({'Product': ['A', 'B', 'C', 'A', 'B', 'C'],  \n",
    "                   'Date': pd.date_range('2023-01-01', periods=6),  \n",
    "                   'Sales': [10, 20, 30, 40, 50, 60]})  \n",
    "df"
   ]
  },
  {
   "cell_type": "code",
   "execution_count": 61,
   "id": "5fb615a2",
   "metadata": {},
   "outputs": [
    {
     "data": {
      "text/html": [
       "<div>\n",
       "<style scoped>\n",
       "    .dataframe tbody tr th:only-of-type {\n",
       "        vertical-align: middle;\n",
       "    }\n",
       "\n",
       "    .dataframe tbody tr th {\n",
       "        vertical-align: top;\n",
       "    }\n",
       "\n",
       "    .dataframe thead th {\n",
       "        text-align: right;\n",
       "    }\n",
       "</style>\n",
       "<table border=\"1\" class=\"dataframe\">\n",
       "  <thead>\n",
       "    <tr style=\"text-align: right;\">\n",
       "      <th>Date</th>\n",
       "      <th>2023-01-01</th>\n",
       "      <th>2023-01-02</th>\n",
       "      <th>2023-01-03</th>\n",
       "      <th>2023-01-04</th>\n",
       "      <th>2023-01-05</th>\n",
       "      <th>2023-01-06</th>\n",
       "    </tr>\n",
       "    <tr>\n",
       "      <th>Product</th>\n",
       "      <th></th>\n",
       "      <th></th>\n",
       "      <th></th>\n",
       "      <th></th>\n",
       "      <th></th>\n",
       "      <th></th>\n",
       "    </tr>\n",
       "  </thead>\n",
       "  <tbody>\n",
       "    <tr>\n",
       "      <th>A</th>\n",
       "      <td>10.0</td>\n",
       "      <td>NaN</td>\n",
       "      <td>NaN</td>\n",
       "      <td>40.0</td>\n",
       "      <td>NaN</td>\n",
       "      <td>NaN</td>\n",
       "    </tr>\n",
       "    <tr>\n",
       "      <th>B</th>\n",
       "      <td>NaN</td>\n",
       "      <td>20.0</td>\n",
       "      <td>NaN</td>\n",
       "      <td>NaN</td>\n",
       "      <td>50.0</td>\n",
       "      <td>NaN</td>\n",
       "    </tr>\n",
       "    <tr>\n",
       "      <th>C</th>\n",
       "      <td>NaN</td>\n",
       "      <td>NaN</td>\n",
       "      <td>30.0</td>\n",
       "      <td>NaN</td>\n",
       "      <td>NaN</td>\n",
       "      <td>60.0</td>\n",
       "    </tr>\n",
       "  </tbody>\n",
       "</table>\n",
       "</div>"
      ],
      "text/plain": [
       "Date     2023-01-01  2023-01-02  2023-01-03  2023-01-04  2023-01-05  \\\n",
       "Product                                                               \n",
       "A              10.0         NaN         NaN        40.0         NaN   \n",
       "B               NaN        20.0         NaN         NaN        50.0   \n",
       "C               NaN         NaN        30.0         NaN         NaN   \n",
       "\n",
       "Date     2023-01-06  \n",
       "Product              \n",
       "A               NaN  \n",
       "B               NaN  \n",
       "C              60.0  "
      ]
     },
     "execution_count": 61,
     "metadata": {},
     "output_type": "execute_result"
    }
   ],
   "source": [
    "# 使用pivot方法创建一个新的DataFrame，按产品进行汇总，以销售日期作为列索引  \n",
    "pivot_df = df.pivot(index='Product', columns='Date', values='Sales')  \n",
    "''' 参数\n",
    "  index：新DataFrame的行索引，可以是一个列名或者一个列名的列表。如果不指定，则使用DataFrame的索引作为行索引。\n",
    "  columns：新DataFrame的列索引，可以是一个列名或者一个列名的列表。如果不指定，则不使用列索引。\n",
    "  values：需要进行汇总的列名，或者是一个列名的列表。如果不指定，则使用所有数值列进行汇总。\n",
    "'''\n",
    "pivot_df"
   ]
  },
  {
   "cell_type": "markdown",
   "id": "5f4f7fcd",
   "metadata": {},
   "source": [
    "# 使用nunique构建二维交叉表统计唯一值的数量\n",
    "        \n",
    "DataFrame的unique()方法可以得到唯一值列表，而nunique()方法可以用来统计唯一值的数量。"
   ]
  },
  {
   "cell_type": "code",
   "execution_count": 62,
   "id": "83fe6f1a",
   "metadata": {},
   "outputs": [
    {
     "data": {
      "text/plain": [
       "Product      3\n",
       "Date         6\n",
       "Sales        6\n",
       "Discounts    3\n",
       "dtype: int64"
      ]
     },
     "execution_count": 62,
     "metadata": {},
     "output_type": "execute_result"
    }
   ],
   "source": [
    "# 创建一个包含销售数据的DataFrame  \n",
    "df = pd.DataFrame({'Product': ['A', 'B', 'C', 'A', 'B', 'C'],  \n",
    "                   'Date': pd.date_range('2023-01-01', periods=6),  \n",
    "                   'Sales': [10, 20, 30, 40, 50, 60],  \n",
    "                   'Discounts': [0.1, 0.2, 0.3, 0.1, 0.2, np.nan]})  \n",
    "  \n",
    "# 统计DataFrame中每列的唯一值数量  \n",
    "unique_counts = df.nunique()  \n",
    "''' 参数\n",
    "  axis：指定要使用的轴，0或'index'表示按行统计，1或'columns'表示按列统计。默认为0。\n",
    "  dropna：是否忽略NaN值。默认为True。\n",
    "'''\n",
    "\n",
    "unique_counts"
   ]
  },
  {
   "cell_type": "markdown",
   "id": "e8a907b5",
   "metadata": {},
   "source": [
    "# 使用str.cat进行拼接操作\n",
    "\n",
    "DataFrame的str.cat()方法可以用来将指定列中的字符串连接起来，并返回一个新的DataFrame"
   ]
  },
  {
   "cell_type": "code",
   "execution_count": 63,
   "id": "6122fecb",
   "metadata": {},
   "outputs": [
    {
     "data": {
      "text/html": [
       "<div>\n",
       "<style scoped>\n",
       "    .dataframe tbody tr th:only-of-type {\n",
       "        vertical-align: middle;\n",
       "    }\n",
       "\n",
       "    .dataframe tbody tr th {\n",
       "        vertical-align: top;\n",
       "    }\n",
       "\n",
       "    .dataframe thead th {\n",
       "        text-align: right;\n",
       "    }\n",
       "</style>\n",
       "<table border=\"1\" class=\"dataframe\">\n",
       "  <thead>\n",
       "    <tr style=\"text-align: right;\">\n",
       "      <th></th>\n",
       "      <th>Name</th>\n",
       "      <th>Age</th>\n",
       "      <th>Full_Name</th>\n",
       "    </tr>\n",
       "  </thead>\n",
       "  <tbody>\n",
       "    <tr>\n",
       "      <th>0</th>\n",
       "      <td>Alice</td>\n",
       "      <td>25</td>\n",
       "      <td>Alice-25</td>\n",
       "    </tr>\n",
       "    <tr>\n",
       "      <th>1</th>\n",
       "      <td>Bob</td>\n",
       "      <td>30</td>\n",
       "      <td>Bob-30</td>\n",
       "    </tr>\n",
       "    <tr>\n",
       "      <th>2</th>\n",
       "      <td>Charlie</td>\n",
       "      <td>35</td>\n",
       "      <td>Charlie-35</td>\n",
       "    </tr>\n",
       "  </tbody>\n",
       "</table>\n",
       "</div>"
      ],
      "text/plain": [
       "      Name  Age   Full_Name\n",
       "0    Alice   25    Alice-25\n",
       "1      Bob   30      Bob-30\n",
       "2  Charlie   35  Charlie-35"
      ]
     },
     "execution_count": 63,
     "metadata": {},
     "output_type": "execute_result"
    }
   ],
   "source": [
    "# 创建一个包含姓名和年龄的DataFrame  \n",
    "df = pd.DataFrame({'Name': ['Alice', 'Bob', 'Charlie'], 'Age': [25, 30, 35]})  \n",
    "  \n",
    "# 将姓名和年龄连接起来，并添加到一个新列中  \n",
    "df['Full_Name'] = df['Name'].str.cat(df['Age'].astype(str), sep='-')  \n",
    "''' 参数\n",
    "  sep：指定连接字符串的分隔符。默认为空字符串。\n",
    "  na_rep：指定用于替换缺失值的字符串。默认为空字符串。\n",
    "'''\n",
    "df"
   ]
  },
  {
   "cell_type": "markdown",
   "id": "9ad77e45",
   "metadata": {},
   "source": [
    "# 使用str.replace进行替换操作\n",
    "\n",
    "DataFrame的str.replace()方法可以用来替换指定列中的字符串"
   ]
  },
  {
   "cell_type": "code",
   "execution_count": 64,
   "id": "d4e1d41d",
   "metadata": {},
   "outputs": [
    {
     "data": {
      "text/html": [
       "<div>\n",
       "<style scoped>\n",
       "    .dataframe tbody tr th:only-of-type {\n",
       "        vertical-align: middle;\n",
       "    }\n",
       "\n",
       "    .dataframe tbody tr th {\n",
       "        vertical-align: top;\n",
       "    }\n",
       "\n",
       "    .dataframe thead th {\n",
       "        text-align: right;\n",
       "    }\n",
       "</style>\n",
       "<table border=\"1\" class=\"dataframe\">\n",
       "  <thead>\n",
       "    <tr style=\"text-align: right;\">\n",
       "      <th></th>\n",
       "      <th>Product</th>\n",
       "      <th>Price</th>\n",
       "    </tr>\n",
       "  </thead>\n",
       "  <tbody>\n",
       "    <tr>\n",
       "      <th>0</th>\n",
       "      <td>Apple iPhone 13</td>\n",
       "      <td>999</td>\n",
       "    </tr>\n",
       "    <tr>\n",
       "      <th>1</th>\n",
       "      <td>Samsung Galaxy S23</td>\n",
       "      <td>1299</td>\n",
       "    </tr>\n",
       "    <tr>\n",
       "      <th>2</th>\n",
       "      <td>Google Pixel 7</td>\n",
       "      <td>899</td>\n",
       "    </tr>\n",
       "  </tbody>\n",
       "</table>\n",
       "</div>"
      ],
      "text/plain": [
       "              Product  Price\n",
       "0     Apple iPhone 13    999\n",
       "1  Samsung Galaxy S23   1299\n",
       "2      Google Pixel 7    899"
      ]
     },
     "execution_count": 64,
     "metadata": {},
     "output_type": "execute_result"
    }
   ],
   "source": [
    "# 创建一个包含产品名称和价格的DataFrame  \n",
    "df = pd.DataFrame({'Product': ['Apple iPhone 13', 'Samsung Galaxy S23', 'Google Pixel 7'], 'Price': [999, 1299, 899]})  \n",
    "df "
   ]
  },
  {
   "cell_type": "code",
   "execution_count": 65,
   "id": "7d3ad1b4",
   "metadata": {},
   "outputs": [
    {
     "data": {
      "text/html": [
       "<div>\n",
       "<style scoped>\n",
       "    .dataframe tbody tr th:only-of-type {\n",
       "        vertical-align: middle;\n",
       "    }\n",
       "\n",
       "    .dataframe tbody tr th {\n",
       "        vertical-align: top;\n",
       "    }\n",
       "\n",
       "    .dataframe thead th {\n",
       "        text-align: right;\n",
       "    }\n",
       "</style>\n",
       "<table border=\"1\" class=\"dataframe\">\n",
       "  <thead>\n",
       "    <tr style=\"text-align: right;\">\n",
       "      <th></th>\n",
       "      <th>Product</th>\n",
       "      <th>Price</th>\n",
       "      <th>Product2</th>\n",
       "    </tr>\n",
       "  </thead>\n",
       "  <tbody>\n",
       "    <tr>\n",
       "      <th>0</th>\n",
       "      <td>Apple iPhone 13</td>\n",
       "      <td>999</td>\n",
       "      <td>Apple iPhone Pro 13</td>\n",
       "    </tr>\n",
       "    <tr>\n",
       "      <th>1</th>\n",
       "      <td>Samsung Galaxy S23</td>\n",
       "      <td>1299</td>\n",
       "      <td>Samsung Galaxy S23</td>\n",
       "    </tr>\n",
       "    <tr>\n",
       "      <th>2</th>\n",
       "      <td>Google Pixel 7</td>\n",
       "      <td>899</td>\n",
       "      <td>Google Pixel 7</td>\n",
       "    </tr>\n",
       "  </tbody>\n",
       "</table>\n",
       "</div>"
      ],
      "text/plain": [
       "              Product  Price             Product2\n",
       "0     Apple iPhone 13    999  Apple iPhone Pro 13\n",
       "1  Samsung Galaxy S23   1299   Samsung Galaxy S23\n",
       "2      Google Pixel 7    899       Google Pixel 7"
      ]
     },
     "execution_count": 65,
     "metadata": {},
     "output_type": "execute_result"
    }
   ],
   "source": [
    "# 将产品名称中的\"iPhone\"替换为\"iPhone Pro\"  \n",
    "df['Product2'] = df['Product'].str.replace('iPhone', 'iPhone Pro')  \n",
    "''' 参数\n",
    "  old_value：指定要被替换的字符串。可以是一个字符串或者一个正则表达式。\n",
    "  new_value：指定替换后的新字符串。\n",
    "  regex：是否将old_value视为正则表达式。默认为False。\n",
    "  case：是否区分大小写。默认为False。\n",
    "'''\n",
    "df"
   ]
  },
  {
   "cell_type": "markdown",
   "id": "e747904c",
   "metadata": {},
   "source": [
    "# 使用str.len进行替换操作\n",
    "        \n",
    "DataFrame的str.len()方法可以用来计算指定列中的字符串长度"
   ]
  },
  {
   "cell_type": "code",
   "execution_count": 66,
   "id": "022bc78b",
   "metadata": {},
   "outputs": [
    {
     "data": {
      "text/html": [
       "<div>\n",
       "<style scoped>\n",
       "    .dataframe tbody tr th:only-of-type {\n",
       "        vertical-align: middle;\n",
       "    }\n",
       "\n",
       "    .dataframe tbody tr th {\n",
       "        vertical-align: top;\n",
       "    }\n",
       "\n",
       "    .dataframe thead th {\n",
       "        text-align: right;\n",
       "    }\n",
       "</style>\n",
       "<table border=\"1\" class=\"dataframe\">\n",
       "  <thead>\n",
       "    <tr style=\"text-align: right;\">\n",
       "      <th></th>\n",
       "      <th>Product</th>\n",
       "      <th>Price</th>\n",
       "      <th>Product2</th>\n",
       "      <th>Product_Length</th>\n",
       "    </tr>\n",
       "  </thead>\n",
       "  <tbody>\n",
       "    <tr>\n",
       "      <th>0</th>\n",
       "      <td>Apple iPhone 13</td>\n",
       "      <td>999</td>\n",
       "      <td>Apple iPhone Pro 13</td>\n",
       "      <td>15</td>\n",
       "    </tr>\n",
       "    <tr>\n",
       "      <th>1</th>\n",
       "      <td>Samsung Galaxy S23</td>\n",
       "      <td>1299</td>\n",
       "      <td>Samsung Galaxy S23</td>\n",
       "      <td>18</td>\n",
       "    </tr>\n",
       "    <tr>\n",
       "      <th>2</th>\n",
       "      <td>Google Pixel 7</td>\n",
       "      <td>899</td>\n",
       "      <td>Google Pixel 7</td>\n",
       "      <td>14</td>\n",
       "    </tr>\n",
       "  </tbody>\n",
       "</table>\n",
       "</div>"
      ],
      "text/plain": [
       "              Product  Price             Product2  Product_Length\n",
       "0     Apple iPhone 13    999  Apple iPhone Pro 13              15\n",
       "1  Samsung Galaxy S23   1299   Samsung Galaxy S23              18\n",
       "2      Google Pixel 7    899       Google Pixel 7              14"
      ]
     },
     "execution_count": 66,
     "metadata": {},
     "output_type": "execute_result"
    }
   ],
   "source": [
    "# 计算产品名称的长度，并添加到一个新列中  \n",
    "df['Product_Length'] = df['Product'].str.len() \n",
    "df"
   ]
  },
  {
   "cell_type": "markdown",
   "id": "f2f64bb0",
   "metadata": {},
   "source": [
    "# 使用interpolate快速线性插值来填充缺失\n",
    "        \n",
    "DataFrame.interpolate()用于通过线性或指定的插值方法填充DataFrame中的NaN值。这个方法对于处理包含缺失值的数据非常有用，它可以根据已有数据推测并填充缺失值。\n",
    "\n",
    "参数：\n",
    "\n",
    "method：插值技术，可以是‘linear’, ‘time’, ‘index’, ‘values’, ‘nearest’, ‘zero’, ‘slinear’, ‘quadratic’, ‘cubic’, ‘spline’, ‘polynomial’等。\n",
    "\n",
    "axis：沿哪个轴进行插值，默认是0，表示按列插值。如果是1，表示按行插值。\n",
    "\n",
    "limit：要填充的连续NaN的最大数量。\n",
    "\n",
    "inplace：是否在原地修改DataFrame，如果是True，则不返回新的DataFrame，直接在原DataFrame上进行修改。\n",
    "\n",
    "其他参数，如limit_direction, limit_area, downcast等，用于进一步控制插值的方式。"
   ]
  },
  {
   "cell_type": "code",
   "execution_count": 2,
   "id": "345b1721",
   "metadata": {},
   "outputs": [
    {
     "data": {
      "text/html": [
       "<div>\n",
       "<style scoped>\n",
       "    .dataframe tbody tr th:only-of-type {\n",
       "        vertical-align: middle;\n",
       "    }\n",
       "\n",
       "    .dataframe tbody tr th {\n",
       "        vertical-align: top;\n",
       "    }\n",
       "\n",
       "    .dataframe thead th {\n",
       "        text-align: right;\n",
       "    }\n",
       "</style>\n",
       "<table border=\"1\" class=\"dataframe\">\n",
       "  <thead>\n",
       "    <tr style=\"text-align: right;\">\n",
       "      <th></th>\n",
       "      <th>A</th>\n",
       "      <th>B</th>\n",
       "    </tr>\n",
       "  </thead>\n",
       "  <tbody>\n",
       "    <tr>\n",
       "      <th>0</th>\n",
       "      <td>1.0</td>\n",
       "      <td>5.0</td>\n",
       "    </tr>\n",
       "    <tr>\n",
       "      <th>1</th>\n",
       "      <td>NaN</td>\n",
       "      <td>NaN</td>\n",
       "    </tr>\n",
       "    <tr>\n",
       "      <th>2</th>\n",
       "      <td>NaN</td>\n",
       "      <td>NaN</td>\n",
       "    </tr>\n",
       "    <tr>\n",
       "      <th>3</th>\n",
       "      <td>4.0</td>\n",
       "      <td>8.0</td>\n",
       "    </tr>\n",
       "  </tbody>\n",
       "</table>\n",
       "</div>"
      ],
      "text/plain": [
       "     A    B\n",
       "0  1.0  5.0\n",
       "1  NaN  NaN\n",
       "2  NaN  NaN\n",
       "3  4.0  8.0"
      ]
     },
     "execution_count": 2,
     "metadata": {},
     "output_type": "execute_result"
    }
   ],
   "source": [
    "df = pd.DataFrame({'A': [1, np.nan, np.nan, 4], 'B': [5, np.nan, np.nan, 8]})   \n",
    "df"
   ]
  },
  {
   "cell_type": "code",
   "execution_count": 3,
   "id": "9af20b19",
   "metadata": {},
   "outputs": [
    {
     "data": {
      "text/html": [
       "<div>\n",
       "<style scoped>\n",
       "    .dataframe tbody tr th:only-of-type {\n",
       "        vertical-align: middle;\n",
       "    }\n",
       "\n",
       "    .dataframe tbody tr th {\n",
       "        vertical-align: top;\n",
       "    }\n",
       "\n",
       "    .dataframe thead th {\n",
       "        text-align: right;\n",
       "    }\n",
       "</style>\n",
       "<table border=\"1\" class=\"dataframe\">\n",
       "  <thead>\n",
       "    <tr style=\"text-align: right;\">\n",
       "      <th></th>\n",
       "      <th>A</th>\n",
       "      <th>B</th>\n",
       "    </tr>\n",
       "  </thead>\n",
       "  <tbody>\n",
       "    <tr>\n",
       "      <th>0</th>\n",
       "      <td>1.0</td>\n",
       "      <td>5.0</td>\n",
       "    </tr>\n",
       "    <tr>\n",
       "      <th>1</th>\n",
       "      <td>2.0</td>\n",
       "      <td>6.0</td>\n",
       "    </tr>\n",
       "    <tr>\n",
       "      <th>2</th>\n",
       "      <td>3.0</td>\n",
       "      <td>7.0</td>\n",
       "    </tr>\n",
       "    <tr>\n",
       "      <th>3</th>\n",
       "      <td>4.0</td>\n",
       "      <td>8.0</td>\n",
       "    </tr>\n",
       "  </tbody>\n",
       "</table>\n",
       "</div>"
      ],
      "text/plain": [
       "     A    B\n",
       "0  1.0  5.0\n",
       "1  2.0  6.0\n",
       "2  3.0  7.0\n",
       "3  4.0  8.0"
      ]
     },
     "execution_count": 3,
     "metadata": {},
     "output_type": "execute_result"
    }
   ],
   "source": [
    "df_interpolated = df.interpolate(method='linear')  \n",
    "df_interpolated"
   ]
  },
  {
   "cell_type": "markdown",
   "id": "148ea73d",
   "metadata": {},
   "source": [
    "# 使用pop快速删除列\n",
    "\n",
    "DataFrame.pop() 用于移除指定的列，并返回该列的数据。这个方法非常有用，当你需要在删除列的同时，保留该列的数据以供后续使用时。\n",
    "\n",
    "参数:\n",
    "\n",
    "label: 这是你想要从DataFrame中移除的列的标签。"
   ]
  },
  {
   "cell_type": "code",
   "execution_count": 4,
   "id": "ae69ca61",
   "metadata": {},
   "outputs": [
    {
     "data": {
      "text/html": [
       "<div>\n",
       "<style scoped>\n",
       "    .dataframe tbody tr th:only-of-type {\n",
       "        vertical-align: middle;\n",
       "    }\n",
       "\n",
       "    .dataframe tbody tr th {\n",
       "        vertical-align: top;\n",
       "    }\n",
       "\n",
       "    .dataframe thead th {\n",
       "        text-align: right;\n",
       "    }\n",
       "</style>\n",
       "<table border=\"1\" class=\"dataframe\">\n",
       "  <thead>\n",
       "    <tr style=\"text-align: right;\">\n",
       "      <th></th>\n",
       "      <th>A</th>\n",
       "      <th>B</th>\n",
       "      <th>C</th>\n",
       "    </tr>\n",
       "  </thead>\n",
       "  <tbody>\n",
       "    <tr>\n",
       "      <th>0</th>\n",
       "      <td>1</td>\n",
       "      <td>5</td>\n",
       "      <td>9</td>\n",
       "    </tr>\n",
       "    <tr>\n",
       "      <th>1</th>\n",
       "      <td>2</td>\n",
       "      <td>6</td>\n",
       "      <td>10</td>\n",
       "    </tr>\n",
       "    <tr>\n",
       "      <th>2</th>\n",
       "      <td>3</td>\n",
       "      <td>7</td>\n",
       "      <td>11</td>\n",
       "    </tr>\n",
       "    <tr>\n",
       "      <th>3</th>\n",
       "      <td>4</td>\n",
       "      <td>8</td>\n",
       "      <td>12</td>\n",
       "    </tr>\n",
       "  </tbody>\n",
       "</table>\n",
       "</div>"
      ],
      "text/plain": [
       "   A  B   C\n",
       "0  1  5   9\n",
       "1  2  6  10\n",
       "2  3  7  11\n",
       "3  4  8  12"
      ]
     },
     "execution_count": 4,
     "metadata": {},
     "output_type": "execute_result"
    }
   ],
   "source": [
    "data = {  \n",
    "    'A': [1, 2, 3, 4],  \n",
    "    'B': [5, 6, 7, 8],  \n",
    "    'C': [9, 10, 11, 12]  \n",
    "}  \n",
    "  \n",
    "df = pd.DataFrame(data)\n",
    "df"
   ]
  },
  {
   "cell_type": "code",
   "execution_count": 5,
   "id": "9c75e3c9",
   "metadata": {},
   "outputs": [
    {
     "data": {
      "text/plain": [
       "0     9\n",
       "1    10\n",
       "2    11\n",
       "3    12\n",
       "Name: C, dtype: int64"
      ]
     },
     "execution_count": 5,
     "metadata": {},
     "output_type": "execute_result"
    }
   ],
   "source": [
    "df.pop('C')"
   ]
  },
  {
   "cell_type": "code",
   "execution_count": 6,
   "id": "8c99606a",
   "metadata": {},
   "outputs": [
    {
     "data": {
      "text/html": [
       "<div>\n",
       "<style scoped>\n",
       "    .dataframe tbody tr th:only-of-type {\n",
       "        vertical-align: middle;\n",
       "    }\n",
       "\n",
       "    .dataframe tbody tr th {\n",
       "        vertical-align: top;\n",
       "    }\n",
       "\n",
       "    .dataframe thead th {\n",
       "        text-align: right;\n",
       "    }\n",
       "</style>\n",
       "<table border=\"1\" class=\"dataframe\">\n",
       "  <thead>\n",
       "    <tr style=\"text-align: right;\">\n",
       "      <th></th>\n",
       "      <th>A</th>\n",
       "      <th>B</th>\n",
       "    </tr>\n",
       "  </thead>\n",
       "  <tbody>\n",
       "    <tr>\n",
       "      <th>0</th>\n",
       "      <td>1</td>\n",
       "      <td>5</td>\n",
       "    </tr>\n",
       "    <tr>\n",
       "      <th>1</th>\n",
       "      <td>2</td>\n",
       "      <td>6</td>\n",
       "    </tr>\n",
       "    <tr>\n",
       "      <th>2</th>\n",
       "      <td>3</td>\n",
       "      <td>7</td>\n",
       "    </tr>\n",
       "    <tr>\n",
       "      <th>3</th>\n",
       "      <td>4</td>\n",
       "      <td>8</td>\n",
       "    </tr>\n",
       "  </tbody>\n",
       "</table>\n",
       "</div>"
      ],
      "text/plain": [
       "   A  B\n",
       "0  1  5\n",
       "1  2  6\n",
       "2  3  7\n",
       "3  4  8"
      ]
     },
     "execution_count": 6,
     "metadata": {},
     "output_type": "execute_result"
    }
   ],
   "source": [
    "df"
   ]
  },
  {
   "cell_type": "markdown",
   "id": "f167a975",
   "metadata": {},
   "source": [
    "# 使用Align将数据完全对齐\n",
    "                \n",
    "Align 是 Pandas 中用于对齐两个或多个 DataFrame 的方法。当你有两个 DataFrame，并且你想要根据某个轴（行或列）上的标签对齐它们时，Align 是非常有用的。Align 的主要目的是确保两个 DataFrame 在指定的轴上具有相同的标签，如有必要，它将引入空值（NaN）来填充缺失的部分。\n",
    "\n",
    "参数：\n",
    "\n",
    "other：这是要与调用 DataFrame 对齐的另一个 DataFrame。\n",
    "\n",
    "axis：要对齐的轴。可以是 0 或 1，默认为 0。0 表示按照行标签对齐，1 表示按照列标签对齐。\n",
    "\n",
    "method：用于对齐的方法。可以是 'backfill' 或 'bfill'（使用下一个非空值进行填充），'pad' 或 'ffill'（使用前一个非空值进行填充）或 'nearest'（使用最近的值填充）。默认为 'pad'。\n",
    "\n",
    "limit：对于 method 参数，该参数定义了最大填充量。例如，如果 limit=1，则每个缺口最多填充一个值。\n",
    "\n",
    "fill_value：用于填充缺失值的值。如果指定了这个参数，它将覆盖 method 参数。\n",
    "\n",
    "level：在多索引 DataFrame 中，可以指定用于对齐的级别。"
   ]
  },
  {
   "cell_type": "code",
   "execution_count": 7,
   "id": "d53a507a",
   "metadata": {},
   "outputs": [
    {
     "data": {
      "text/html": [
       "<div>\n",
       "<style scoped>\n",
       "    .dataframe tbody tr th:only-of-type {\n",
       "        vertical-align: middle;\n",
       "    }\n",
       "\n",
       "    .dataframe tbody tr th {\n",
       "        vertical-align: top;\n",
       "    }\n",
       "\n",
       "    .dataframe thead th {\n",
       "        text-align: right;\n",
       "    }\n",
       "</style>\n",
       "<table border=\"1\" class=\"dataframe\">\n",
       "  <thead>\n",
       "    <tr style=\"text-align: right;\">\n",
       "      <th></th>\n",
       "      <th>A</th>\n",
       "      <th>B</th>\n",
       "      <th>C</th>\n",
       "    </tr>\n",
       "  </thead>\n",
       "  <tbody>\n",
       "    <tr>\n",
       "      <th>0</th>\n",
       "      <td>1</td>\n",
       "      <td>4</td>\n",
       "      <td>NaN</td>\n",
       "    </tr>\n",
       "    <tr>\n",
       "      <th>1</th>\n",
       "      <td>2</td>\n",
       "      <td>5</td>\n",
       "      <td>NaN</td>\n",
       "    </tr>\n",
       "    <tr>\n",
       "      <th>2</th>\n",
       "      <td>3</td>\n",
       "      <td>6</td>\n",
       "      <td>NaN</td>\n",
       "    </tr>\n",
       "  </tbody>\n",
       "</table>\n",
       "</div>"
      ],
      "text/plain": [
       "   A  B   C\n",
       "0  1  4 NaN\n",
       "1  2  5 NaN\n",
       "2  3  6 NaN"
      ]
     },
     "execution_count": 7,
     "metadata": {},
     "output_type": "execute_result"
    }
   ],
   "source": [
    "df1 = pd.DataFrame({'A': [1, 2, 3],  \n",
    "                    'B': [4, 5, 6]})  \n",
    "df2 = pd.DataFrame({'A': [1, 2, 3],  \n",
    "                    'C': [7, 8, 9]})  \n",
    "  \n",
    "# 使用 Align 方法对齐两个 DataFrame  \n",
    "df1, df2 = df1.align(df2, axis=1)  \n",
    "\n",
    "df1"
   ]
  },
  {
   "cell_type": "code",
   "execution_count": 8,
   "id": "f06f1d95",
   "metadata": {},
   "outputs": [
    {
     "data": {
      "text/html": [
       "<div>\n",
       "<style scoped>\n",
       "    .dataframe tbody tr th:only-of-type {\n",
       "        vertical-align: middle;\n",
       "    }\n",
       "\n",
       "    .dataframe tbody tr th {\n",
       "        vertical-align: top;\n",
       "    }\n",
       "\n",
       "    .dataframe thead th {\n",
       "        text-align: right;\n",
       "    }\n",
       "</style>\n",
       "<table border=\"1\" class=\"dataframe\">\n",
       "  <thead>\n",
       "    <tr style=\"text-align: right;\">\n",
       "      <th></th>\n",
       "      <th>A</th>\n",
       "      <th>B</th>\n",
       "      <th>C</th>\n",
       "    </tr>\n",
       "  </thead>\n",
       "  <tbody>\n",
       "    <tr>\n",
       "      <th>0</th>\n",
       "      <td>1</td>\n",
       "      <td>NaN</td>\n",
       "      <td>7</td>\n",
       "    </tr>\n",
       "    <tr>\n",
       "      <th>1</th>\n",
       "      <td>2</td>\n",
       "      <td>NaN</td>\n",
       "      <td>8</td>\n",
       "    </tr>\n",
       "    <tr>\n",
       "      <th>2</th>\n",
       "      <td>3</td>\n",
       "      <td>NaN</td>\n",
       "      <td>9</td>\n",
       "    </tr>\n",
       "  </tbody>\n",
       "</table>\n",
       "</div>"
      ],
      "text/plain": [
       "   A   B  C\n",
       "0  1 NaN  7\n",
       "1  2 NaN  8\n",
       "2  3 NaN  9"
      ]
     },
     "execution_count": 8,
     "metadata": {},
     "output_type": "execute_result"
    }
   ],
   "source": [
    "df2"
   ]
  },
  {
   "cell_type": "markdown",
   "id": "67a95894",
   "metadata": {},
   "source": [
    "# 使用sample随机抽样\n",
    "        \n",
    "DataFrame的sample()方法是用于从DataFrame中随机抽取样本的方法。它可以按指定的数量或比例随机选择行，返回一个新的DataFrame\n",
    "\n",
    "参数：\n",
    "n：要抽取的样本数量。可以是一个整数，表示要抽取的行数。\n",
    "\n",
    "frac：抽取样本的比例。可以是一个浮点数，表示要抽取的行数占原始DataFrame的比例。\n",
    "\n",
    "replace：是否为有放回抽样。默认为False，表示无放回抽样。\n",
    "\n",
    "weights：为每一行分配一个权重，按权重进行抽样。可以是一个列表或Series，长度与DataFrame的行数相同。\n",
    "\n",
    "random_state：随机数生成器的种子，用于可重复抽样。可以是一个整数或RandomState对象。\n",
    "\n",
    "axis：要抽样的轴，默认为0，表示抽取行。"
   ]
  },
  {
   "cell_type": "code",
   "execution_count": 9,
   "id": "4b17be74",
   "metadata": {},
   "outputs": [
    {
     "data": {
      "text/html": [
       "<div>\n",
       "<style scoped>\n",
       "    .dataframe tbody tr th:only-of-type {\n",
       "        vertical-align: middle;\n",
       "    }\n",
       "\n",
       "    .dataframe tbody tr th {\n",
       "        vertical-align: top;\n",
       "    }\n",
       "\n",
       "    .dataframe thead th {\n",
       "        text-align: right;\n",
       "    }\n",
       "</style>\n",
       "<table border=\"1\" class=\"dataframe\">\n",
       "  <thead>\n",
       "    <tr style=\"text-align: right;\">\n",
       "      <th></th>\n",
       "      <th>A</th>\n",
       "      <th>B</th>\n",
       "    </tr>\n",
       "  </thead>\n",
       "  <tbody>\n",
       "    <tr>\n",
       "      <th>0</th>\n",
       "      <td>1</td>\n",
       "      <td>a</td>\n",
       "    </tr>\n",
       "    <tr>\n",
       "      <th>1</th>\n",
       "      <td>2</td>\n",
       "      <td>b</td>\n",
       "    </tr>\n",
       "    <tr>\n",
       "      <th>2</th>\n",
       "      <td>3</td>\n",
       "      <td>c</td>\n",
       "    </tr>\n",
       "    <tr>\n",
       "      <th>3</th>\n",
       "      <td>4</td>\n",
       "      <td>d</td>\n",
       "    </tr>\n",
       "    <tr>\n",
       "      <th>4</th>\n",
       "      <td>5</td>\n",
       "      <td>e</td>\n",
       "    </tr>\n",
       "  </tbody>\n",
       "</table>\n",
       "</div>"
      ],
      "text/plain": [
       "   A  B\n",
       "0  1  a\n",
       "1  2  b\n",
       "2  3  c\n",
       "3  4  d\n",
       "4  5  e"
      ]
     },
     "execution_count": 9,
     "metadata": {},
     "output_type": "execute_result"
    }
   ],
   "source": [
    "data = {'A': [1, 2, 3, 4, 5],  \n",
    "        'B': ['a', 'b', 'c', 'd', 'e']}  \n",
    "\n",
    "df = pd.DataFrame(data)  \n",
    "df"
   ]
  },
  {
   "cell_type": "code",
   "execution_count": 10,
   "id": "ad6ce720",
   "metadata": {},
   "outputs": [
    {
     "data": {
      "text/html": [
       "<div>\n",
       "<style scoped>\n",
       "    .dataframe tbody tr th:only-of-type {\n",
       "        vertical-align: middle;\n",
       "    }\n",
       "\n",
       "    .dataframe tbody tr th {\n",
       "        vertical-align: top;\n",
       "    }\n",
       "\n",
       "    .dataframe thead th {\n",
       "        text-align: right;\n",
       "    }\n",
       "</style>\n",
       "<table border=\"1\" class=\"dataframe\">\n",
       "  <thead>\n",
       "    <tr style=\"text-align: right;\">\n",
       "      <th></th>\n",
       "      <th>A</th>\n",
       "      <th>B</th>\n",
       "    </tr>\n",
       "  </thead>\n",
       "  <tbody>\n",
       "    <tr>\n",
       "      <th>2</th>\n",
       "      <td>3</td>\n",
       "      <td>c</td>\n",
       "    </tr>\n",
       "    <tr>\n",
       "      <th>1</th>\n",
       "      <td>2</td>\n",
       "      <td>b</td>\n",
       "    </tr>\n",
       "  </tbody>\n",
       "</table>\n",
       "</div>"
      ],
      "text/plain": [
       "   A  B\n",
       "2  3  c\n",
       "1  2  b"
      ]
     },
     "execution_count": 10,
     "metadata": {},
     "output_type": "execute_result"
    }
   ],
   "source": [
    "# 随机抽取2个样本  \n",
    "sample_df = df.sample(n=2, random_state=1)  \n",
    "sample_df"
   ]
  },
  {
   "cell_type": "markdown",
   "id": "53b05e07",
   "metadata": {},
   "source": [
    "# 使用isin过滤数据\n",
    "       \n",
    "DataFrame.isin() 用于检查DataFrame中的元素是否存在于给定的值或序列中，可以当做判断条件用于数据过滤。"
   ]
  },
  {
   "cell_type": "code",
   "execution_count": 11,
   "id": "3fecdaed",
   "metadata": {},
   "outputs": [
    {
     "data": {
      "text/html": [
       "<div>\n",
       "<style scoped>\n",
       "    .dataframe tbody tr th:only-of-type {\n",
       "        vertical-align: middle;\n",
       "    }\n",
       "\n",
       "    .dataframe tbody tr th {\n",
       "        vertical-align: top;\n",
       "    }\n",
       "\n",
       "    .dataframe thead th {\n",
       "        text-align: right;\n",
       "    }\n",
       "</style>\n",
       "<table border=\"1\" class=\"dataframe\">\n",
       "  <thead>\n",
       "    <tr style=\"text-align: right;\">\n",
       "      <th></th>\n",
       "      <th>A</th>\n",
       "      <th>B</th>\n",
       "    </tr>\n",
       "  </thead>\n",
       "  <tbody>\n",
       "    <tr>\n",
       "      <th>0</th>\n",
       "      <td>1</td>\n",
       "      <td>a</td>\n",
       "    </tr>\n",
       "    <tr>\n",
       "      <th>2</th>\n",
       "      <td>3</td>\n",
       "      <td>c</td>\n",
       "    </tr>\n",
       "  </tbody>\n",
       "</table>\n",
       "</div>"
      ],
      "text/plain": [
       "   A  B\n",
       "0  1  a\n",
       "2  3  c"
      ]
     },
     "execution_count": 11,
     "metadata": {},
     "output_type": "execute_result"
    }
   ],
   "source": [
    "data = {'A': [1, 2, 3, 4, 5],  \n",
    "        'B': ['a', 'b', 'c', 'd', 'e']}  \n",
    "df = pd.DataFrame(data)  \n",
    "\n",
    "df[df['B'].isin(['a','c'])] "
   ]
  },
  {
   "cell_type": "markdown",
   "id": "8959b4f4",
   "metadata": {},
   "source": [
    "# 使用where对数据进行过滤\n",
    "\n",
    "DataFrame.where() 用于根据指定的条件选择DataFrame中的元素。这个方法会返回一个新的DataFrame，其中包含满足条件的元素，不满足条件的元素将被替换为NaN或者指定的值。\n",
    "\n",
    "参数：\n",
    "\n",
    "cond：条件。可以是布尔型的DataFrame、Series或者标量。如果为DataFrame，则其形状必须与调用者DataFrame相同。\n",
    "\n",
    "other：不满足条件时填充的值。默认为NaN。"
   ]
  },
  {
   "cell_type": "code",
   "execution_count": 12,
   "id": "550c0238",
   "metadata": {},
   "outputs": [
    {
     "data": {
      "text/html": [
       "<div>\n",
       "<style scoped>\n",
       "    .dataframe tbody tr th:only-of-type {\n",
       "        vertical-align: middle;\n",
       "    }\n",
       "\n",
       "    .dataframe tbody tr th {\n",
       "        vertical-align: top;\n",
       "    }\n",
       "\n",
       "    .dataframe thead th {\n",
       "        text-align: right;\n",
       "    }\n",
       "</style>\n",
       "<table border=\"1\" class=\"dataframe\">\n",
       "  <thead>\n",
       "    <tr style=\"text-align: right;\">\n",
       "      <th></th>\n",
       "      <th>A</th>\n",
       "      <th>B</th>\n",
       "    </tr>\n",
       "  </thead>\n",
       "  <tbody>\n",
       "    <tr>\n",
       "      <th>0</th>\n",
       "      <td>NaN</td>\n",
       "      <td>NaN</td>\n",
       "    </tr>\n",
       "    <tr>\n",
       "      <th>1</th>\n",
       "      <td>NaN</td>\n",
       "      <td>NaN</td>\n",
       "    </tr>\n",
       "    <tr>\n",
       "      <th>2</th>\n",
       "      <td>3.0</td>\n",
       "      <td>c</td>\n",
       "    </tr>\n",
       "    <tr>\n",
       "      <th>3</th>\n",
       "      <td>4.0</td>\n",
       "      <td>d</td>\n",
       "    </tr>\n",
       "    <tr>\n",
       "      <th>4</th>\n",
       "      <td>5.0</td>\n",
       "      <td>e</td>\n",
       "    </tr>\n",
       "  </tbody>\n",
       "</table>\n",
       "</div>"
      ],
      "text/plain": [
       "     A    B\n",
       "0  NaN  NaN\n",
       "1  NaN  NaN\n",
       "2  3.0    c\n",
       "3  4.0    d\n",
       "4  5.0    e"
      ]
     },
     "execution_count": 12,
     "metadata": {},
     "output_type": "execute_result"
    }
   ],
   "source": [
    "df = pd.DataFrame({  \n",
    "    'A': [1, 2, 3, 4, 5],  \n",
    "    'B': ['a', 'b', 'c', 'd', 'e']  \n",
    "})\n",
    "df.where(df['A'] > 2)"
   ]
  },
  {
   "cell_type": "markdown",
   "id": "608fd69c",
   "metadata": {},
   "source": [
    "# 使用combine合并计算数据\n",
    "        \n",
    "DataFrame.combine()方法用于在两个DataFrame之间进行元素级别的组合操作、通过一个函数合并两个DataFrame，例如，你可以使用这个函数来实现两个DataFrame的元素级别的加法、乘法等操作。\n",
    "\n",
    "参数：\n",
    "\n",
    "other：要与调用者DataFrame合并的另一个DataFrame。\n",
    "\n",
    "func：用于组合的函数。这个函数应该接受两个参数（即两个要合并的DataFrame的每一个元素），并返回一个值（即结果DataFrame的对应元素）。\n",
    "\n",
    "fill_value：用于填充结果DataFrame中的NaN值的值。这个参数是可选的。\n",
    "\n",
    "overwrite：如果为True，则结果DataFrame中的值将覆盖调用者DataFrame中的值。这个参数是可选的。"
   ]
  },
  {
   "cell_type": "code",
   "execution_count": 13,
   "id": "8810c1f0",
   "metadata": {},
   "outputs": [
    {
     "data": {
      "text/html": [
       "<div>\n",
       "<style scoped>\n",
       "    .dataframe tbody tr th:only-of-type {\n",
       "        vertical-align: middle;\n",
       "    }\n",
       "\n",
       "    .dataframe tbody tr th {\n",
       "        vertical-align: top;\n",
       "    }\n",
       "\n",
       "    .dataframe thead th {\n",
       "        text-align: right;\n",
       "    }\n",
       "</style>\n",
       "<table border=\"1\" class=\"dataframe\">\n",
       "  <thead>\n",
       "    <tr style=\"text-align: right;\">\n",
       "      <th></th>\n",
       "      <th>A</th>\n",
       "      <th>B</th>\n",
       "    </tr>\n",
       "  </thead>\n",
       "  <tbody>\n",
       "    <tr>\n",
       "      <th>0</th>\n",
       "      <td>2</td>\n",
       "      <td>5</td>\n",
       "    </tr>\n",
       "    <tr>\n",
       "      <th>1</th>\n",
       "      <td>3</td>\n",
       "      <td>6</td>\n",
       "    </tr>\n",
       "    <tr>\n",
       "      <th>2</th>\n",
       "      <td>4</td>\n",
       "      <td>7</td>\n",
       "    </tr>\n",
       "  </tbody>\n",
       "</table>\n",
       "</div>"
      ],
      "text/plain": [
       "   A  B\n",
       "0  2  5\n",
       "1  3  6\n",
       "2  4  7"
      ]
     },
     "execution_count": 13,
     "metadata": {},
     "output_type": "execute_result"
    }
   ],
   "source": [
    "df1 = pd.DataFrame({'A': [1, 2, 3], 'B': [4, 5, 6]})  \n",
    "df2 = pd.DataFrame({'A': [1, 1, 1], 'B': [1, 1, 1]})  \n",
    "  \n",
    "result = df1.combine(df2, np.add)  \n",
    "\n",
    "result"
   ]
  },
  {
   "cell_type": "markdown",
   "id": "b83c283c",
   "metadata": {},
   "source": [
    "# 使用combine_first合并数据\n",
    "\n",
    "DataFrame.combine_first()用于组合两个DataFrame，主要用于处理缺失值。当在一个DataFrame中有缺失值（NaN）时，这个方法会用另一个DataFrame中的对应值来进行填充。如果另一个DataFrame中也没有对应值，那么缺失值将保持不变。这个方法在数据清洗和处理缺失值时非常有用。\n",
    "\n",
    "参数：\n",
    "\n",
    "other：另一个DataFrame，用于填充调用者DataFrame中的缺失值。"
   ]
  },
  {
   "cell_type": "code",
   "execution_count": 14,
   "id": "fc8eaf5a",
   "metadata": {},
   "outputs": [
    {
     "data": {
      "text/html": [
       "<div>\n",
       "<style scoped>\n",
       "    .dataframe tbody tr th:only-of-type {\n",
       "        vertical-align: middle;\n",
       "    }\n",
       "\n",
       "    .dataframe tbody tr th {\n",
       "        vertical-align: top;\n",
       "    }\n",
       "\n",
       "    .dataframe thead th {\n",
       "        text-align: right;\n",
       "    }\n",
       "</style>\n",
       "<table border=\"1\" class=\"dataframe\">\n",
       "  <thead>\n",
       "    <tr style=\"text-align: right;\">\n",
       "      <th></th>\n",
       "      <th>A</th>\n",
       "      <th>B</th>\n",
       "    </tr>\n",
       "  </thead>\n",
       "  <tbody>\n",
       "    <tr>\n",
       "      <th>0</th>\n",
       "      <td>1.0</td>\n",
       "      <td>4.0</td>\n",
       "    </tr>\n",
       "    <tr>\n",
       "      <th>1</th>\n",
       "      <td>NaN</td>\n",
       "      <td>NaN</td>\n",
       "    </tr>\n",
       "    <tr>\n",
       "      <th>2</th>\n",
       "      <td>3.0</td>\n",
       "      <td>NaN</td>\n",
       "    </tr>\n",
       "  </tbody>\n",
       "</table>\n",
       "</div>"
      ],
      "text/plain": [
       "     A    B\n",
       "0  1.0  4.0\n",
       "1  NaN  NaN\n",
       "2  3.0  NaN"
      ]
     },
     "execution_count": 14,
     "metadata": {},
     "output_type": "execute_result"
    }
   ],
   "source": [
    "df1 = pd.DataFrame({'A': [1, np.nan, 3], 'B': [4, np.nan, np.nan]})  \n",
    "df2 = pd.DataFrame({'A': [np.nan, 2, np.nan], 'B': [np.nan, 5, np.nan]})\n",
    "result = df1.combine_first(df2) \n",
    "df1 "
   ]
  },
  {
   "cell_type": "code",
   "execution_count": 15,
   "id": "cf8df72d",
   "metadata": {},
   "outputs": [
    {
     "data": {
      "text/html": [
       "<div>\n",
       "<style scoped>\n",
       "    .dataframe tbody tr th:only-of-type {\n",
       "        vertical-align: middle;\n",
       "    }\n",
       "\n",
       "    .dataframe tbody tr th {\n",
       "        vertical-align: top;\n",
       "    }\n",
       "\n",
       "    .dataframe thead th {\n",
       "        text-align: right;\n",
       "    }\n",
       "</style>\n",
       "<table border=\"1\" class=\"dataframe\">\n",
       "  <thead>\n",
       "    <tr style=\"text-align: right;\">\n",
       "      <th></th>\n",
       "      <th>A</th>\n",
       "      <th>B</th>\n",
       "    </tr>\n",
       "  </thead>\n",
       "  <tbody>\n",
       "    <tr>\n",
       "      <th>0</th>\n",
       "      <td>NaN</td>\n",
       "      <td>NaN</td>\n",
       "    </tr>\n",
       "    <tr>\n",
       "      <th>1</th>\n",
       "      <td>2.0</td>\n",
       "      <td>5.0</td>\n",
       "    </tr>\n",
       "    <tr>\n",
       "      <th>2</th>\n",
       "      <td>NaN</td>\n",
       "      <td>NaN</td>\n",
       "    </tr>\n",
       "  </tbody>\n",
       "</table>\n",
       "</div>"
      ],
      "text/plain": [
       "     A    B\n",
       "0  NaN  NaN\n",
       "1  2.0  5.0\n",
       "2  NaN  NaN"
      ]
     },
     "execution_count": 15,
     "metadata": {},
     "output_type": "execute_result"
    }
   ],
   "source": [
    "df2"
   ]
  },
  {
   "cell_type": "code",
   "execution_count": 16,
   "id": "5021417b",
   "metadata": {},
   "outputs": [
    {
     "data": {
      "text/html": [
       "<div>\n",
       "<style scoped>\n",
       "    .dataframe tbody tr th:only-of-type {\n",
       "        vertical-align: middle;\n",
       "    }\n",
       "\n",
       "    .dataframe tbody tr th {\n",
       "        vertical-align: top;\n",
       "    }\n",
       "\n",
       "    .dataframe thead th {\n",
       "        text-align: right;\n",
       "    }\n",
       "</style>\n",
       "<table border=\"1\" class=\"dataframe\">\n",
       "  <thead>\n",
       "    <tr style=\"text-align: right;\">\n",
       "      <th></th>\n",
       "      <th>A</th>\n",
       "      <th>B</th>\n",
       "    </tr>\n",
       "  </thead>\n",
       "  <tbody>\n",
       "    <tr>\n",
       "      <th>0</th>\n",
       "      <td>1.0</td>\n",
       "      <td>4.0</td>\n",
       "    </tr>\n",
       "    <tr>\n",
       "      <th>1</th>\n",
       "      <td>2.0</td>\n",
       "      <td>5.0</td>\n",
       "    </tr>\n",
       "    <tr>\n",
       "      <th>2</th>\n",
       "      <td>3.0</td>\n",
       "      <td>NaN</td>\n",
       "    </tr>\n",
       "  </tbody>\n",
       "</table>\n",
       "</div>"
      ],
      "text/plain": [
       "     A    B\n",
       "0  1.0  4.0\n",
       "1  2.0  5.0\n",
       "2  3.0  NaN"
      ]
     },
     "execution_count": 16,
     "metadata": {},
     "output_type": "execute_result"
    }
   ],
   "source": [
    "result"
   ]
  },
  {
   "cell_type": "markdown",
   "id": "e3722fa2",
   "metadata": {},
   "source": [
    "# 使用update更新数据\n",
    "\n",
    "DataFrame.update()使用另一个DataFrame的非NA值更新调用者DataFrame中的值。对齐是基于索引进行的。这个方法会直接修改调用者DataFrame。\n",
    "\n",
    "参数：\n",
    "\n",
    "other：用于更新的DataFrame。\n",
    "\n",
    "join：默认为'left'，仅保留原始对象的索引和列。\n",
    "\n",
    "overwrite：布尔值，默认为True。如果为True，则使用other中的值覆盖原始DataFrame中的值。如果为False，则仅更新原始DataFrame中为NA的值。"
   ]
  },
  {
   "cell_type": "code",
   "execution_count": 17,
   "id": "766043a9",
   "metadata": {},
   "outputs": [
    {
     "data": {
      "text/html": [
       "<div>\n",
       "<style scoped>\n",
       "    .dataframe tbody tr th:only-of-type {\n",
       "        vertical-align: middle;\n",
       "    }\n",
       "\n",
       "    .dataframe tbody tr th {\n",
       "        vertical-align: top;\n",
       "    }\n",
       "\n",
       "    .dataframe thead th {\n",
       "        text-align: right;\n",
       "    }\n",
       "</style>\n",
       "<table border=\"1\" class=\"dataframe\">\n",
       "  <thead>\n",
       "    <tr style=\"text-align: right;\">\n",
       "      <th></th>\n",
       "      <th>A</th>\n",
       "      <th>B</th>\n",
       "    </tr>\n",
       "  </thead>\n",
       "  <tbody>\n",
       "    <tr>\n",
       "      <th>0</th>\n",
       "      <td>1</td>\n",
       "      <td>400</td>\n",
       "    </tr>\n",
       "    <tr>\n",
       "      <th>1</th>\n",
       "      <td>2</td>\n",
       "      <td>500</td>\n",
       "    </tr>\n",
       "    <tr>\n",
       "      <th>2</th>\n",
       "      <td>3</td>\n",
       "      <td>600</td>\n",
       "    </tr>\n",
       "  </tbody>\n",
       "</table>\n",
       "</div>"
      ],
      "text/plain": [
       "   A    B\n",
       "0  1  400\n",
       "1  2  500\n",
       "2  3  600"
      ]
     },
     "execution_count": 17,
     "metadata": {},
     "output_type": "execute_result"
    }
   ],
   "source": [
    "df = pd.DataFrame({'A': [1, 2, 3],\n",
    "                   'B': [400, 500, 600]})\n",
    "new_df = pd.DataFrame({'B': [4, np.nan, 6]})\n",
    "df"
   ]
  },
  {
   "cell_type": "code",
   "execution_count": 18,
   "id": "e9b63f35",
   "metadata": {},
   "outputs": [
    {
     "data": {
      "text/html": [
       "<div>\n",
       "<style scoped>\n",
       "    .dataframe tbody tr th:only-of-type {\n",
       "        vertical-align: middle;\n",
       "    }\n",
       "\n",
       "    .dataframe tbody tr th {\n",
       "        vertical-align: top;\n",
       "    }\n",
       "\n",
       "    .dataframe thead th {\n",
       "        text-align: right;\n",
       "    }\n",
       "</style>\n",
       "<table border=\"1\" class=\"dataframe\">\n",
       "  <thead>\n",
       "    <tr style=\"text-align: right;\">\n",
       "      <th></th>\n",
       "      <th>B</th>\n",
       "    </tr>\n",
       "  </thead>\n",
       "  <tbody>\n",
       "    <tr>\n",
       "      <th>0</th>\n",
       "      <td>4.0</td>\n",
       "    </tr>\n",
       "    <tr>\n",
       "      <th>1</th>\n",
       "      <td>NaN</td>\n",
       "    </tr>\n",
       "    <tr>\n",
       "      <th>2</th>\n",
       "      <td>6.0</td>\n",
       "    </tr>\n",
       "  </tbody>\n",
       "</table>\n",
       "</div>"
      ],
      "text/plain": [
       "     B\n",
       "0  4.0\n",
       "1  NaN\n",
       "2  6.0"
      ]
     },
     "execution_count": 18,
     "metadata": {},
     "output_type": "execute_result"
    }
   ],
   "source": [
    "new_df"
   ]
  },
  {
   "cell_type": "code",
   "execution_count": 19,
   "id": "bcc18715",
   "metadata": {},
   "outputs": [],
   "source": [
    "df.update(new_df)"
   ]
  },
  {
   "cell_type": "code",
   "execution_count": 20,
   "id": "806c228b",
   "metadata": {},
   "outputs": [
    {
     "data": {
      "text/html": [
       "<div>\n",
       "<style scoped>\n",
       "    .dataframe tbody tr th:only-of-type {\n",
       "        vertical-align: middle;\n",
       "    }\n",
       "\n",
       "    .dataframe tbody tr th {\n",
       "        vertical-align: top;\n",
       "    }\n",
       "\n",
       "    .dataframe thead th {\n",
       "        text-align: right;\n",
       "    }\n",
       "</style>\n",
       "<table border=\"1\" class=\"dataframe\">\n",
       "  <thead>\n",
       "    <tr style=\"text-align: right;\">\n",
       "      <th></th>\n",
       "      <th>A</th>\n",
       "      <th>B</th>\n",
       "    </tr>\n",
       "  </thead>\n",
       "  <tbody>\n",
       "    <tr>\n",
       "      <th>0</th>\n",
       "      <td>1</td>\n",
       "      <td>4.0</td>\n",
       "    </tr>\n",
       "    <tr>\n",
       "      <th>1</th>\n",
       "      <td>2</td>\n",
       "      <td>500.0</td>\n",
       "    </tr>\n",
       "    <tr>\n",
       "      <th>2</th>\n",
       "      <td>3</td>\n",
       "      <td>6.0</td>\n",
       "    </tr>\n",
       "  </tbody>\n",
       "</table>\n",
       "</div>"
      ],
      "text/plain": [
       "   A      B\n",
       "0  1    4.0\n",
       "1  2  500.0\n",
       "2  3    6.0"
      ]
     },
     "execution_count": 20,
     "metadata": {},
     "output_type": "execute_result"
    }
   ],
   "source": [
    "df"
   ]
  },
  {
   "cell_type": "markdown",
   "id": "c8c1c8b4",
   "metadata": {},
   "source": [
    "# 使用equals判断两个df是否等同\n",
    "\n",
    "DataFrame.equals() 用于检查两个DataFrame是否相等。这个方法会考虑DataFrame的形状、索引、列名以及元素值。如果两个DataFrame在这些方面都相同，那么这个方法将返回True，否则返回False。这个方法和下面的compare配合检验数据一致性简直无敌！\n",
    "\n",
    "参数：\n",
    "\n",
    "other：要比较的另一个DataFrame。\n",
    "\n",
    "check_dtype：布尔值，默认为True。是否检查列的数据类型。\n",
    "\n",
    "check_index_type：布尔值，默认为False。是否检查索引的类型。\n",
    "\n",
    "check_column_type：布尔值，默认为False。是否检查列名的类型。\n",
    "\n",
    "check_frame_shape：布尔值，默认为True。是否检查DataFrame的形状。\n",
    "\n",
    "check_exact：布尔值，默认为False。是否检查DataFrame完全相同，包括索引和列的顺序。"
   ]
  },
  {
   "cell_type": "code",
   "execution_count": 21,
   "id": "9256c646",
   "metadata": {},
   "outputs": [
    {
     "data": {
      "text/plain": [
       "True"
      ]
     },
     "execution_count": 21,
     "metadata": {},
     "output_type": "execute_result"
    }
   ],
   "source": [
    "df1 = pd.DataFrame({'A': [1, 2, 3], 'B': ['a', 'b', 'c']})  \n",
    "df2 = pd.DataFrame({'A': [1, 2, 3], 'B': ['a', 'b', 'c']})\n",
    "result = df1.equals(df2) \n",
    "result"
   ]
  },
  {
   "cell_type": "markdown",
   "id": "db19ce6c",
   "metadata": {},
   "source": [
    "# 使用compare对比两个df的差异\n",
    "\n",
    "DataFrame.compare() 用于比较两个DataFrame对象的差异。这个方法将会返回一个新的DataFrame，其中包含了两个DataFrame之间不同的元素。\n",
    "\n",
    "这个方法非常有用，特别是在你需要找出两个DataFrame之间的差异时，例如一个原始的DataFrame和一个经过修改后的DataFrame，通过compare()方法，你可以轻松地找出它们之间的差异。\n",
    "\n",
    "参数：\n",
    "\n",
    "other：另一个DataFrame，用于填充调用者DataFrame中的缺失值。"
   ]
  },
  {
   "cell_type": "code",
   "execution_count": 22,
   "id": "734d308f",
   "metadata": {},
   "outputs": [
    {
     "data": {
      "text/html": [
       "<div>\n",
       "<style scoped>\n",
       "    .dataframe tbody tr th:only-of-type {\n",
       "        vertical-align: middle;\n",
       "    }\n",
       "\n",
       "    .dataframe tbody tr th {\n",
       "        vertical-align: top;\n",
       "    }\n",
       "\n",
       "    .dataframe thead th {\n",
       "        text-align: right;\n",
       "    }\n",
       "</style>\n",
       "<table border=\"1\" class=\"dataframe\">\n",
       "  <thead>\n",
       "    <tr style=\"text-align: right;\">\n",
       "      <th></th>\n",
       "      <th>A</th>\n",
       "      <th>B</th>\n",
       "      <th>C</th>\n",
       "    </tr>\n",
       "  </thead>\n",
       "  <tbody>\n",
       "    <tr>\n",
       "      <th>0</th>\n",
       "      <td>1</td>\n",
       "      <td>5</td>\n",
       "      <td>9</td>\n",
       "    </tr>\n",
       "    <tr>\n",
       "      <th>1</th>\n",
       "      <td>2</td>\n",
       "      <td>6</td>\n",
       "      <td>10</td>\n",
       "    </tr>\n",
       "    <tr>\n",
       "      <th>2</th>\n",
       "      <td>3</td>\n",
       "      <td>7</td>\n",
       "      <td>11</td>\n",
       "    </tr>\n",
       "    <tr>\n",
       "      <th>3</th>\n",
       "      <td>4</td>\n",
       "      <td>8</td>\n",
       "      <td>12</td>\n",
       "    </tr>\n",
       "  </tbody>\n",
       "</table>\n",
       "</div>"
      ],
      "text/plain": [
       "   A  B   C\n",
       "0  1  5   9\n",
       "1  2  6  10\n",
       "2  3  7  11\n",
       "3  4  8  12"
      ]
     },
     "execution_count": 22,
     "metadata": {},
     "output_type": "execute_result"
    }
   ],
   "source": [
    "data1 = {  \n",
    "    'A': [1, 2, 3, 4],  \n",
    "    'B': [5, 6, 7, 8],  \n",
    "    'C': [9, 10, 11, 12]  \n",
    "}  \n",
    "  \n",
    "data2 = {  \n",
    "    'A': [1, 2, 3, 40],  \n",
    "    'B': [50, 6, 7, 8],  \n",
    "    'C': [9, 10, 11, 12]  \n",
    "}  \n",
    "  \n",
    "df1 = pd.DataFrame(data1)  \n",
    "df2 = pd.DataFrame(data2)\n",
    "\n",
    "df1"
   ]
  },
  {
   "cell_type": "code",
   "execution_count": 23,
   "id": "7d66201d",
   "metadata": {},
   "outputs": [
    {
     "data": {
      "text/html": [
       "<div>\n",
       "<style scoped>\n",
       "    .dataframe tbody tr th:only-of-type {\n",
       "        vertical-align: middle;\n",
       "    }\n",
       "\n",
       "    .dataframe tbody tr th {\n",
       "        vertical-align: top;\n",
       "    }\n",
       "\n",
       "    .dataframe thead th {\n",
       "        text-align: right;\n",
       "    }\n",
       "</style>\n",
       "<table border=\"1\" class=\"dataframe\">\n",
       "  <thead>\n",
       "    <tr style=\"text-align: right;\">\n",
       "      <th></th>\n",
       "      <th>A</th>\n",
       "      <th>B</th>\n",
       "      <th>C</th>\n",
       "    </tr>\n",
       "  </thead>\n",
       "  <tbody>\n",
       "    <tr>\n",
       "      <th>0</th>\n",
       "      <td>1</td>\n",
       "      <td>50</td>\n",
       "      <td>9</td>\n",
       "    </tr>\n",
       "    <tr>\n",
       "      <th>1</th>\n",
       "      <td>2</td>\n",
       "      <td>6</td>\n",
       "      <td>10</td>\n",
       "    </tr>\n",
       "    <tr>\n",
       "      <th>2</th>\n",
       "      <td>3</td>\n",
       "      <td>7</td>\n",
       "      <td>11</td>\n",
       "    </tr>\n",
       "    <tr>\n",
       "      <th>3</th>\n",
       "      <td>40</td>\n",
       "      <td>8</td>\n",
       "      <td>12</td>\n",
       "    </tr>\n",
       "  </tbody>\n",
       "</table>\n",
       "</div>"
      ],
      "text/plain": [
       "    A   B   C\n",
       "0   1  50   9\n",
       "1   2   6  10\n",
       "2   3   7  11\n",
       "3  40   8  12"
      ]
     },
     "execution_count": 23,
     "metadata": {},
     "output_type": "execute_result"
    }
   ],
   "source": [
    "df2"
   ]
  },
  {
   "cell_type": "code",
   "execution_count": 24,
   "id": "82f96fd4",
   "metadata": {},
   "outputs": [
    {
     "data": {
      "text/html": [
       "<div>\n",
       "<style scoped>\n",
       "    .dataframe tbody tr th:only-of-type {\n",
       "        vertical-align: middle;\n",
       "    }\n",
       "\n",
       "    .dataframe tbody tr th {\n",
       "        vertical-align: top;\n",
       "    }\n",
       "\n",
       "    .dataframe thead tr th {\n",
       "        text-align: left;\n",
       "    }\n",
       "</style>\n",
       "<table border=\"1\" class=\"dataframe\">\n",
       "  <thead>\n",
       "    <tr>\n",
       "      <th></th>\n",
       "      <th colspan=\"2\" halign=\"left\">A</th>\n",
       "      <th colspan=\"2\" halign=\"left\">B</th>\n",
       "    </tr>\n",
       "    <tr>\n",
       "      <th></th>\n",
       "      <th>self</th>\n",
       "      <th>other</th>\n",
       "      <th>self</th>\n",
       "      <th>other</th>\n",
       "    </tr>\n",
       "  </thead>\n",
       "  <tbody>\n",
       "    <tr>\n",
       "      <th>0</th>\n",
       "      <td>NaN</td>\n",
       "      <td>NaN</td>\n",
       "      <td>5.0</td>\n",
       "      <td>50.0</td>\n",
       "    </tr>\n",
       "    <tr>\n",
       "      <th>3</th>\n",
       "      <td>4.0</td>\n",
       "      <td>40.0</td>\n",
       "      <td>NaN</td>\n",
       "      <td>NaN</td>\n",
       "    </tr>\n",
       "  </tbody>\n",
       "</table>\n",
       "</div>"
      ],
      "text/plain": [
       "     A          B      \n",
       "  self other self other\n",
       "0  NaN   NaN  5.0  50.0\n",
       "3  4.0  40.0  NaN   NaN"
      ]
     },
     "execution_count": 24,
     "metadata": {},
     "output_type": "execute_result"
    }
   ],
   "source": [
    "diff = df1.compare(df2)\n",
    "diff"
   ]
  },
  {
   "cell_type": "markdown",
   "id": "e2fb466e",
   "metadata": {},
   "source": [
    "# 使用append进行拼接操作\n",
    "\n",
    "DataFrame.append()用于将新的DataFrame行附加到调用者DataFrame的末尾。这个方法返回一个新的DataFrame，包含调用者和附加的DataFrame的所有行。\n",
    "\n",
    "参数：\n",
    "\n",
    "other：要附加的DataFrame。\n",
    "\n",
    "ignore_index：布尔值，默认为False。如果为True，则重置索引。\n",
    "\n",
    "verify_integrity：布尔值，默认为False。如果为True，当新行与现有行具有相同的索引时，将引发ValueError。"
   ]
  },
  {
   "cell_type": "code",
   "execution_count": 25,
   "id": "4ac6e027",
   "metadata": {},
   "outputs": [
    {
     "data": {
      "text/html": [
       "<div>\n",
       "<style scoped>\n",
       "    .dataframe tbody tr th:only-of-type {\n",
       "        vertical-align: middle;\n",
       "    }\n",
       "\n",
       "    .dataframe tbody tr th {\n",
       "        vertical-align: top;\n",
       "    }\n",
       "\n",
       "    .dataframe thead th {\n",
       "        text-align: right;\n",
       "    }\n",
       "</style>\n",
       "<table border=\"1\" class=\"dataframe\">\n",
       "  <thead>\n",
       "    <tr style=\"text-align: right;\">\n",
       "      <th></th>\n",
       "      <th>A</th>\n",
       "      <th>B</th>\n",
       "    </tr>\n",
       "  </thead>\n",
       "  <tbody>\n",
       "    <tr>\n",
       "      <th>0</th>\n",
       "      <td>1</td>\n",
       "      <td>a</td>\n",
       "    </tr>\n",
       "    <tr>\n",
       "      <th>1</th>\n",
       "      <td>2</td>\n",
       "      <td>b</td>\n",
       "    </tr>\n",
       "    <tr>\n",
       "      <th>2</th>\n",
       "      <td>3</td>\n",
       "      <td>c</td>\n",
       "    </tr>\n",
       "    <tr>\n",
       "      <th>0</th>\n",
       "      <td>4</td>\n",
       "      <td>d</td>\n",
       "    </tr>\n",
       "    <tr>\n",
       "      <th>1</th>\n",
       "      <td>5</td>\n",
       "      <td>e</td>\n",
       "    </tr>\n",
       "    <tr>\n",
       "      <th>2</th>\n",
       "      <td>6</td>\n",
       "      <td>f</td>\n",
       "    </tr>\n",
       "  </tbody>\n",
       "</table>\n",
       "</div>"
      ],
      "text/plain": [
       "   A  B\n",
       "0  1  a\n",
       "1  2  b\n",
       "2  3  c\n",
       "0  4  d\n",
       "1  5  e\n",
       "2  6  f"
      ]
     },
     "execution_count": 25,
     "metadata": {},
     "output_type": "execute_result"
    }
   ],
   "source": [
    "df1 = pd.DataFrame({'A': [1, 2, 3], 'B': ['a', 'b', 'c']})  \n",
    "df2 = pd.DataFrame({'A': [4, 5, 6], 'B': ['d', 'e', 'f']})\n",
    "result = df1.append(df2)  \n",
    "result"
   ]
  },
  {
   "cell_type": "markdown",
   "id": "da017450",
   "metadata": {},
   "source": [
    "# 使用get_dummies进行独热编码\n",
    "\n",
    "DataFrame.get_dummies()用于将分类变量转换为虚拟/指标变量，也就是我们通常所说的\"独热编码\"。这个方法返回一个DataFrame，其中包含原始DataFrame中所有非类别列，以及每个类别列的一个或多个新的二进制列。\n",
    "\n",
    "参数：\n",
    "\n",
    "data：array-like，Series或DataFrame。要转换的数据。\n",
    "\n",
    "prefix：string，默认为None。用于追加DataFrame列名的字符串。\n",
    "\n",
    "prefix_sep：string，默认为'_'。如果附加前缀，用于分隔前缀和列名的字符串。\n",
    "\n",
    "dummy_na：bool，默认为False。如果为True，则添加一列以指示NaN，即把NaN也当作一个类别进行编码。\n",
    "\n",
    "columns：list-like，默认None。要编码的DataFrame中的列名。如果columns为None，则所有具有category dtype的列都将被转换。否则，只对指定的列进行转换。\n",
    "\n",
    "sparse：bool，默认为False。如果为True，则返回稀疏DataFrame。\n",
    "\n",
    "drop_first：bool，默认为False。如果为True，则删除每个非NaN列的第一个类别，以避免多重共线性。也就是说，对于每个类别变量，都会删除一个类别（通常是第一个），以便模型能够识别基准类别。\n",
    "\n",
    "dtype：dtype，默认np.uint8。新列的数据类型。"
   ]
  },
  {
   "cell_type": "code",
   "execution_count": 26,
   "id": "f2b9ce2b",
   "metadata": {},
   "outputs": [
    {
     "data": {
      "text/html": [
       "<div>\n",
       "<style scoped>\n",
       "    .dataframe tbody tr th:only-of-type {\n",
       "        vertical-align: middle;\n",
       "    }\n",
       "\n",
       "    .dataframe tbody tr th {\n",
       "        vertical-align: top;\n",
       "    }\n",
       "\n",
       "    .dataframe thead th {\n",
       "        text-align: right;\n",
       "    }\n",
       "</style>\n",
       "<table border=\"1\" class=\"dataframe\">\n",
       "  <thead>\n",
       "    <tr style=\"text-align: right;\">\n",
       "      <th></th>\n",
       "      <th>color</th>\n",
       "      <th>value</th>\n",
       "    </tr>\n",
       "  </thead>\n",
       "  <tbody>\n",
       "    <tr>\n",
       "      <th>0</th>\n",
       "      <td>red</td>\n",
       "      <td>1</td>\n",
       "    </tr>\n",
       "    <tr>\n",
       "      <th>1</th>\n",
       "      <td>blue</td>\n",
       "      <td>2</td>\n",
       "    </tr>\n",
       "    <tr>\n",
       "      <th>2</th>\n",
       "      <td>green</td>\n",
       "      <td>3</td>\n",
       "    </tr>\n",
       "    <tr>\n",
       "      <th>3</th>\n",
       "      <td>red</td>\n",
       "      <td>4</td>\n",
       "    </tr>\n",
       "    <tr>\n",
       "      <th>4</th>\n",
       "      <td>green</td>\n",
       "      <td>5</td>\n",
       "    </tr>\n",
       "  </tbody>\n",
       "</table>\n",
       "</div>"
      ],
      "text/plain": [
       "   color  value\n",
       "0    red      1\n",
       "1   blue      2\n",
       "2  green      3\n",
       "3    red      4\n",
       "4  green      5"
      ]
     },
     "execution_count": 26,
     "metadata": {},
     "output_type": "execute_result"
    }
   ],
   "source": [
    "df = pd.DataFrame({  \n",
    "    'color': ['red', 'blue', 'green', 'red', 'green'],  \n",
    "    'value': [1, 2, 3, 4, 5]  \n",
    "})\n",
    "df"
   ]
  },
  {
   "cell_type": "code",
   "execution_count": 27,
   "id": "1dbcc34b",
   "metadata": {},
   "outputs": [
    {
     "data": {
      "text/html": [
       "<div>\n",
       "<style scoped>\n",
       "    .dataframe tbody tr th:only-of-type {\n",
       "        vertical-align: middle;\n",
       "    }\n",
       "\n",
       "    .dataframe tbody tr th {\n",
       "        vertical-align: top;\n",
       "    }\n",
       "\n",
       "    .dataframe thead th {\n",
       "        text-align: right;\n",
       "    }\n",
       "</style>\n",
       "<table border=\"1\" class=\"dataframe\">\n",
       "  <thead>\n",
       "    <tr style=\"text-align: right;\">\n",
       "      <th></th>\n",
       "      <th>value</th>\n",
       "      <th>color_blue</th>\n",
       "      <th>color_green</th>\n",
       "      <th>color_red</th>\n",
       "    </tr>\n",
       "  </thead>\n",
       "  <tbody>\n",
       "    <tr>\n",
       "      <th>0</th>\n",
       "      <td>1</td>\n",
       "      <td>0</td>\n",
       "      <td>0</td>\n",
       "      <td>1</td>\n",
       "    </tr>\n",
       "    <tr>\n",
       "      <th>1</th>\n",
       "      <td>2</td>\n",
       "      <td>1</td>\n",
       "      <td>0</td>\n",
       "      <td>0</td>\n",
       "    </tr>\n",
       "    <tr>\n",
       "      <th>2</th>\n",
       "      <td>3</td>\n",
       "      <td>0</td>\n",
       "      <td>1</td>\n",
       "      <td>0</td>\n",
       "    </tr>\n",
       "    <tr>\n",
       "      <th>3</th>\n",
       "      <td>4</td>\n",
       "      <td>0</td>\n",
       "      <td>0</td>\n",
       "      <td>1</td>\n",
       "    </tr>\n",
       "    <tr>\n",
       "      <th>4</th>\n",
       "      <td>5</td>\n",
       "      <td>0</td>\n",
       "      <td>1</td>\n",
       "      <td>0</td>\n",
       "    </tr>\n",
       "  </tbody>\n",
       "</table>\n",
       "</div>"
      ],
      "text/plain": [
       "   value  color_blue  color_green  color_red\n",
       "0      1           0            0          1\n",
       "1      2           1            0          0\n",
       "2      3           0            1          0\n",
       "3      4           0            0          1\n",
       "4      5           0            1          0"
      ]
     },
     "execution_count": 27,
     "metadata": {},
     "output_type": "execute_result"
    }
   ],
   "source": [
    "df_dummies = pd.get_dummies(df, columns=['color'])\n",
    "df_dummies"
   ]
  },
  {
   "cell_type": "markdown",
   "id": "9dfb1758",
   "metadata": {},
   "source": [
    "# 使用prod计算乘积\n",
    "\n",
    "prod 是一个用于计算数据框（DataFrame）或系列（Series）中值的乘积的方法。在 Pandas 库中，prod 函数可用于计算指定轴（默认是列轴）上数值的乘积。这对于数据分析和处理非常有用。\n",
    "\n",
    "参数：\n",
    "\n",
    "axis：这个参数定义了你要计算乘积的轴。默认值是 0，表示计算每列的乘积。如果你设置为 1，它将计算每行的乘积。\n",
    "\n",
    "skipna：布尔值，默认为 True。如果设置为 True，则在计算乘积时将跳过 NaN 值。如果设置为 False，NaN 值将导致整个计算返回 NaN。\n",
    "\n",
    "numeric_only：布尔值，默认为 None。如果设置为 True，仅计算数字列的乘积。如果设置为 False，将计算所有列的乘积，包括非数字列。当 DataFrame 中既有数字列又有非数字列时，这个参数非常有用。\n",
    "\n",
    "**kwargs：其他关键字参数。这些参数可以直接传递给底层的 numpy.prod 函数。"
   ]
  },
  {
   "cell_type": "code",
   "execution_count": 28,
   "id": "05d10476",
   "metadata": {},
   "outputs": [
    {
     "data": {
      "text/html": [
       "<div>\n",
       "<style scoped>\n",
       "    .dataframe tbody tr th:only-of-type {\n",
       "        vertical-align: middle;\n",
       "    }\n",
       "\n",
       "    .dataframe tbody tr th {\n",
       "        vertical-align: top;\n",
       "    }\n",
       "\n",
       "    .dataframe thead th {\n",
       "        text-align: right;\n",
       "    }\n",
       "</style>\n",
       "<table border=\"1\" class=\"dataframe\">\n",
       "  <thead>\n",
       "    <tr style=\"text-align: right;\">\n",
       "      <th></th>\n",
       "      <th>A</th>\n",
       "      <th>B</th>\n",
       "      <th>C</th>\n",
       "    </tr>\n",
       "  </thead>\n",
       "  <tbody>\n",
       "    <tr>\n",
       "      <th>0</th>\n",
       "      <td>1</td>\n",
       "      <td>4</td>\n",
       "      <td>7</td>\n",
       "    </tr>\n",
       "    <tr>\n",
       "      <th>1</th>\n",
       "      <td>2</td>\n",
       "      <td>5</td>\n",
       "      <td>8</td>\n",
       "    </tr>\n",
       "    <tr>\n",
       "      <th>2</th>\n",
       "      <td>3</td>\n",
       "      <td>6</td>\n",
       "      <td>9</td>\n",
       "    </tr>\n",
       "  </tbody>\n",
       "</table>\n",
       "</div>"
      ],
      "text/plain": [
       "   A  B  C\n",
       "0  1  4  7\n",
       "1  2  5  8\n",
       "2  3  6  9"
      ]
     },
     "execution_count": 28,
     "metadata": {},
     "output_type": "execute_result"
    }
   ],
   "source": [
    "data = {'A': [1, 2, 3],  \n",
    "        'B': [4, 5, 6],  \n",
    "        'C': [7, 8, 9]}  \n",
    "df = pd.DataFrame(data)  \n",
    "df"
   ]
  },
  {
   "cell_type": "code",
   "execution_count": 29,
   "id": "3b654c8c",
   "metadata": {},
   "outputs": [
    {
     "data": {
      "text/plain": [
       "A      6\n",
       "B    120\n",
       "C    504\n",
       "dtype: int64"
      ]
     },
     "execution_count": 29,
     "metadata": {},
     "output_type": "execute_result"
    }
   ],
   "source": [
    "result = df.prod() \n",
    "result"
   ]
  },
  {
   "cell_type": "markdown",
   "id": "15993d45",
   "metadata": {},
   "source": [
    "# 使用asfreq更改时间序列数据的频率\n",
    "\n",
    "asfreq 用于更改时间序列数据的频率。这个方法在处理时间序列数据时非常有用，它可以让你将数据重采样到不同的频率，例如，从每日频率更改为每月频率，或者从每小时频率更改为每两分钟频率。\n",
    "\n",
    "asfreq 方法的基本功能是根据新的频率返回原始数据的重采样版本。如果原始数据在新频率上没有对应的值，那么返回的值将是 NaN，除非你使用了填充方法（如 method='ffill' 或 method='bfill'）来填充这些缺失的值。\n",
    "\n",
    "参数\n",
    "\n",
    "freq：用于重采样的频率。例如，'D'表示按天重采样，'M'表示按月重采样等。这个参数是必需的。\n",
    "\n",
    "method：用于插值的方法，例如'ffill'表示向前填充，'bfill'表示向后填充，'interpolate'表示线性插值等。默认是'ffill'。\n",
    "\n",
    "how：对于周期性的重采样（例如，将数据从日频率重采样到周频率），这个参数指定了如何聚合数据。可能的值包括'sum'，'mean'，'median'，'first'，'last'等。默认是'mean'。\n",
    "\n",
    "fill_value：用于填充缺失值的值。默认是NaN。\n",
    "\n",
    "limit：在向前或向后填充时，限制填充的连续NaN的最大数量。\n",
    "\n",
    "loffset：偏移量，用于调整重采样后的时间序列的频率。例如，如果设置为'2H'，则每个重采样的时间戳将增加两小时。"
   ]
  },
  {
   "cell_type": "code",
   "execution_count": 30,
   "id": "875b57be",
   "metadata": {},
   "outputs": [
    {
     "data": {
      "text/html": [
       "<div>\n",
       "<style scoped>\n",
       "    .dataframe tbody tr th:only-of-type {\n",
       "        vertical-align: middle;\n",
       "    }\n",
       "\n",
       "    .dataframe tbody tr th {\n",
       "        vertical-align: top;\n",
       "    }\n",
       "\n",
       "    .dataframe thead th {\n",
       "        text-align: right;\n",
       "    }\n",
       "</style>\n",
       "<table border=\"1\" class=\"dataframe\">\n",
       "  <thead>\n",
       "    <tr style=\"text-align: right;\">\n",
       "      <th></th>\n",
       "      <th>data</th>\n",
       "    </tr>\n",
       "    <tr>\n",
       "      <th>date</th>\n",
       "      <th></th>\n",
       "    </tr>\n",
       "  </thead>\n",
       "  <tbody>\n",
       "    <tr>\n",
       "      <th>2020-01-01</th>\n",
       "      <td>4</td>\n",
       "    </tr>\n",
       "    <tr>\n",
       "      <th>2020-01-02</th>\n",
       "      <td>69</td>\n",
       "    </tr>\n",
       "    <tr>\n",
       "      <th>2020-01-03</th>\n",
       "      <td>44</td>\n",
       "    </tr>\n",
       "    <tr>\n",
       "      <th>2020-01-04</th>\n",
       "      <td>86</td>\n",
       "    </tr>\n",
       "    <tr>\n",
       "      <th>2020-01-05</th>\n",
       "      <td>59</td>\n",
       "    </tr>\n",
       "    <tr>\n",
       "      <th>2020-01-06</th>\n",
       "      <td>63</td>\n",
       "    </tr>\n",
       "    <tr>\n",
       "      <th>2020-01-07</th>\n",
       "      <td>46</td>\n",
       "    </tr>\n",
       "    <tr>\n",
       "      <th>2020-01-08</th>\n",
       "      <td>22</td>\n",
       "    </tr>\n",
       "    <tr>\n",
       "      <th>2020-01-09</th>\n",
       "      <td>20</td>\n",
       "    </tr>\n",
       "    <tr>\n",
       "      <th>2020-01-10</th>\n",
       "      <td>47</td>\n",
       "    </tr>\n",
       "  </tbody>\n",
       "</table>\n",
       "</div>"
      ],
      "text/plain": [
       "            data\n",
       "date            \n",
       "2020-01-01     4\n",
       "2020-01-02    69\n",
       "2020-01-03    44\n",
       "2020-01-04    86\n",
       "2020-01-05    59\n",
       "2020-01-06    63\n",
       "2020-01-07    46\n",
       "2020-01-08    22\n",
       "2020-01-09    20\n",
       "2020-01-10    47"
      ]
     },
     "execution_count": 30,
     "metadata": {},
     "output_type": "execute_result"
    }
   ],
   "source": [
    "# 创建一个简单的时间序列 DataFrame  \n",
    "date_rng = pd.date_range(start='1/1/2020', end='1/10/2020', freq='D')  \n",
    "df = pd.DataFrame(date_rng, columns=['date'])  \n",
    "df['data'] = np.random.randint(0,100,size=(len(date_rng)))  \n",
    "df.set_index('date', inplace=True)  \n",
    "df"
   ]
  },
  {
   "cell_type": "code",
   "execution_count": 31,
   "id": "5911ff60",
   "metadata": {},
   "outputs": [
    {
     "data": {
      "text/html": [
       "<div>\n",
       "<style scoped>\n",
       "    .dataframe tbody tr th:only-of-type {\n",
       "        vertical-align: middle;\n",
       "    }\n",
       "\n",
       "    .dataframe tbody tr th {\n",
       "        vertical-align: top;\n",
       "    }\n",
       "\n",
       "    .dataframe thead th {\n",
       "        text-align: right;\n",
       "    }\n",
       "</style>\n",
       "<table border=\"1\" class=\"dataframe\">\n",
       "  <thead>\n",
       "    <tr style=\"text-align: right;\">\n",
       "      <th></th>\n",
       "      <th>data</th>\n",
       "    </tr>\n",
       "    <tr>\n",
       "      <th>date</th>\n",
       "      <th></th>\n",
       "    </tr>\n",
       "  </thead>\n",
       "  <tbody>\n",
       "    <tr>\n",
       "      <th>2020-01-01</th>\n",
       "      <td>4</td>\n",
       "    </tr>\n",
       "    <tr>\n",
       "      <th>2020-01-04</th>\n",
       "      <td>86</td>\n",
       "    </tr>\n",
       "    <tr>\n",
       "      <th>2020-01-07</th>\n",
       "      <td>46</td>\n",
       "    </tr>\n",
       "    <tr>\n",
       "      <th>2020-01-10</th>\n",
       "      <td>47</td>\n",
       "    </tr>\n",
       "  </tbody>\n",
       "</table>\n",
       "</div>"
      ],
      "text/plain": [
       "            data\n",
       "date            \n",
       "2020-01-01     4\n",
       "2020-01-04    86\n",
       "2020-01-07    46\n",
       "2020-01-10    47"
      ]
     },
     "execution_count": 31,
     "metadata": {},
     "output_type": "execute_result"
    }
   ],
   "source": [
    "# 使用 asfreq 方法更改数据的频率为 '3D'（每三天）  \n",
    "df_resampled = df.asfreq('3D')  \n",
    "df_resampled"
   ]
  },
  {
   "cell_type": "markdown",
   "id": "b795d601",
   "metadata": {},
   "source": [
    "# 使用memory_usage查看数据占用内存\n",
    "\n",
    "DataFrame.memory_usage()用于返回DataFrame中每列的内存使用量。这个方法可以帮助我们了解DataFrame在内存中的占用情况，特别是当处理大规模数据集时，这可以帮助我们优化数据的存储和处理。\n",
    "\n",
    "参数：\n",
    "\n",
    "index：布尔值，默认为True。如果设置为True，返回的内存使用量将包括索引。\n",
    "\n",
    "deep：布尔值，默认为False。如果设置为True，将深入检查数据，包括对象dtype元素的贡献，来估算系统级内存消耗。"
   ]
  },
  {
   "cell_type": "code",
   "execution_count": 32,
   "id": "96f0fcc0",
   "metadata": {},
   "outputs": [
    {
     "data": {
      "text/html": [
       "<div>\n",
       "<style scoped>\n",
       "    .dataframe tbody tr th:only-of-type {\n",
       "        vertical-align: middle;\n",
       "    }\n",
       "\n",
       "    .dataframe tbody tr th {\n",
       "        vertical-align: top;\n",
       "    }\n",
       "\n",
       "    .dataframe thead th {\n",
       "        text-align: right;\n",
       "    }\n",
       "</style>\n",
       "<table border=\"1\" class=\"dataframe\">\n",
       "  <thead>\n",
       "    <tr style=\"text-align: right;\">\n",
       "      <th></th>\n",
       "      <th>A</th>\n",
       "      <th>B</th>\n",
       "      <th>C</th>\n",
       "    </tr>\n",
       "  </thead>\n",
       "  <tbody>\n",
       "    <tr>\n",
       "      <th>0</th>\n",
       "      <td>1</td>\n",
       "      <td>4</td>\n",
       "      <td>p</td>\n",
       "    </tr>\n",
       "    <tr>\n",
       "      <th>1</th>\n",
       "      <td>2</td>\n",
       "      <td>5</td>\n",
       "      <td>q</td>\n",
       "    </tr>\n",
       "    <tr>\n",
       "      <th>2</th>\n",
       "      <td>3</td>\n",
       "      <td>6</td>\n",
       "      <td>r</td>\n",
       "    </tr>\n",
       "  </tbody>\n",
       "</table>\n",
       "</div>"
      ],
      "text/plain": [
       "   A  B  C\n",
       "0  1  4  p\n",
       "1  2  5  q\n",
       "2  3  6  r"
      ]
     },
     "execution_count": 32,
     "metadata": {},
     "output_type": "execute_result"
    }
   ],
   "source": [
    "data = {'A': [1, 2, 3], 'B': [4, 5, 6], 'C': ['p', 'q', 'r']}  \n",
    "df = pd.DataFrame(data)\n",
    "df"
   ]
  },
  {
   "cell_type": "code",
   "execution_count": 33,
   "id": "32f83eea",
   "metadata": {},
   "outputs": [
    {
     "data": {
      "text/plain": [
       "Index    128\n",
       "A         24\n",
       "B         24\n",
       "C        174\n",
       "dtype: int64"
      ]
     },
     "execution_count": 33,
     "metadata": {},
     "output_type": "execute_result"
    }
   ],
   "source": [
    "memory = df.memory_usage(deep=True) \n",
    "memory"
   ]
  },
  {
   "cell_type": "markdown",
   "id": "55d21eed",
   "metadata": {},
   "source": [
    "# 使用lreshape将宽表转为原始记录表\n",
    "\n",
    "lreshape 用于将长格式的 DataFrame 重塑为单条记录形式。该函数主要用于处理时间序列数据或其他具有多层索引的数据。通过 lreshape，可以将多层索引的数据转换为扁平化的表格形式，使得数据更易于分析和可视化。\n",
    "\n",
    "参数\n",
    "\n",
    "data：需要被重塑的DataFrame对象。\n",
    "\n",
    "groups：分组方式的字典或Series，提供每个索引级别的新名字。\n",
    "\n",
    "label：用于结果MultiIndex的名称。"
   ]
  },
  {
   "cell_type": "code",
   "execution_count": 34,
   "id": "f46febcd",
   "metadata": {},
   "outputs": [
    {
     "data": {
      "text/html": [
       "<div>\n",
       "<style scoped>\n",
       "    .dataframe tbody tr th:only-of-type {\n",
       "        vertical-align: middle;\n",
       "    }\n",
       "\n",
       "    .dataframe tbody tr th {\n",
       "        vertical-align: top;\n",
       "    }\n",
       "\n",
       "    .dataframe thead th {\n",
       "        text-align: right;\n",
       "    }\n",
       "</style>\n",
       "<table border=\"1\" class=\"dataframe\">\n",
       "  <thead>\n",
       "    <tr style=\"text-align: right;\">\n",
       "      <th></th>\n",
       "      <th>hr1</th>\n",
       "      <th>hr2</th>\n",
       "      <th>team</th>\n",
       "      <th>year1</th>\n",
       "      <th>year2</th>\n",
       "    </tr>\n",
       "  </thead>\n",
       "  <tbody>\n",
       "    <tr>\n",
       "      <th>0</th>\n",
       "      <td>514</td>\n",
       "      <td>545</td>\n",
       "      <td>Red Sox</td>\n",
       "      <td>2007</td>\n",
       "      <td>2008</td>\n",
       "    </tr>\n",
       "    <tr>\n",
       "      <th>1</th>\n",
       "      <td>573</td>\n",
       "      <td>526</td>\n",
       "      <td>Yankees</td>\n",
       "      <td>2007</td>\n",
       "      <td>2008</td>\n",
       "    </tr>\n",
       "  </tbody>\n",
       "</table>\n",
       "</div>"
      ],
      "text/plain": [
       "   hr1  hr2     team  year1  year2\n",
       "0  514  545  Red Sox   2007   2008\n",
       "1  573  526  Yankees   2007   2008"
      ]
     },
     "execution_count": 34,
     "metadata": {},
     "output_type": "execute_result"
    }
   ],
   "source": [
    "data = pd.DataFrame({'hr1': [514, 573], 'hr2': [545, 526],\n",
    "                      'team': ['Red Sox', 'Yankees'],\n",
    "                      'year1': [2007, 2007], 'year2': [2008, 2008]})\n",
    "data"
   ]
  },
  {
   "cell_type": "code",
   "execution_count": 35,
   "id": "c7519171",
   "metadata": {},
   "outputs": [
    {
     "data": {
      "text/html": [
       "<div>\n",
       "<style scoped>\n",
       "    .dataframe tbody tr th:only-of-type {\n",
       "        vertical-align: middle;\n",
       "    }\n",
       "\n",
       "    .dataframe tbody tr th {\n",
       "        vertical-align: top;\n",
       "    }\n",
       "\n",
       "    .dataframe thead th {\n",
       "        text-align: right;\n",
       "    }\n",
       "</style>\n",
       "<table border=\"1\" class=\"dataframe\">\n",
       "  <thead>\n",
       "    <tr style=\"text-align: right;\">\n",
       "      <th></th>\n",
       "      <th>team</th>\n",
       "      <th>year</th>\n",
       "      <th>hr</th>\n",
       "    </tr>\n",
       "  </thead>\n",
       "  <tbody>\n",
       "    <tr>\n",
       "      <th>0</th>\n",
       "      <td>Red Sox</td>\n",
       "      <td>2007</td>\n",
       "      <td>514</td>\n",
       "    </tr>\n",
       "    <tr>\n",
       "      <th>1</th>\n",
       "      <td>Yankees</td>\n",
       "      <td>2007</td>\n",
       "      <td>573</td>\n",
       "    </tr>\n",
       "    <tr>\n",
       "      <th>2</th>\n",
       "      <td>Red Sox</td>\n",
       "      <td>2008</td>\n",
       "      <td>545</td>\n",
       "    </tr>\n",
       "    <tr>\n",
       "      <th>3</th>\n",
       "      <td>Yankees</td>\n",
       "      <td>2008</td>\n",
       "      <td>526</td>\n",
       "    </tr>\n",
       "  </tbody>\n",
       "</table>\n",
       "</div>"
      ],
      "text/plain": [
       "      team  year   hr\n",
       "0  Red Sox  2007  514\n",
       "1  Yankees  2007  573\n",
       "2  Red Sox  2008  545\n",
       "3  Yankees  2008  526"
      ]
     },
     "execution_count": 35,
     "metadata": {},
     "output_type": "execute_result"
    }
   ],
   "source": [
    "pd.lreshape(data, {'year': ['year1', 'year2'], 'hr': ['hr1', 'hr2']})"
   ]
  },
  {
   "cell_type": "markdown",
   "id": "7b9a8795",
   "metadata": {},
   "source": [
    "# 使用wide_to_long将宽表转为原始记录表\n",
    "\n",
    "wide_to_long 是 Pandas 中一个用于将数据从宽格式转换为长格式的函数。在数据处理和分析中，我们经常需要在这两种格式之间进行转换。宽格式是指每个观测值都有单独的行，而长格式则是指每个变量都有单独的列。wide_to_long 函数的基本思想是通过堆叠几个列来创建一个更长的数据框，这在某些统计分析和数据清理任务中很有用。\n",
    "参数：\n",
    "df：输入的宽格式 DataFrame。\n",
    "\n",
    "stubnames：需要被堆叠的列的列名前缀。\n",
    "\n",
    "i：在宽格式中作为标识符的列名。\n",
    "\n",
    "j：在长格式中表示变量的列名。"
   ]
  },
  {
   "cell_type": "code",
   "execution_count": 36,
   "id": "b9b53536",
   "metadata": {},
   "outputs": [
    {
     "data": {
      "text/html": [
       "<div>\n",
       "<style scoped>\n",
       "    .dataframe tbody tr th:only-of-type {\n",
       "        vertical-align: middle;\n",
       "    }\n",
       "\n",
       "    .dataframe tbody tr th {\n",
       "        vertical-align: top;\n",
       "    }\n",
       "\n",
       "    .dataframe thead th {\n",
       "        text-align: right;\n",
       "    }\n",
       "</style>\n",
       "<table border=\"1\" class=\"dataframe\">\n",
       "  <thead>\n",
       "    <tr style=\"text-align: right;\">\n",
       "      <th></th>\n",
       "      <th>id</th>\n",
       "      <th>value1</th>\n",
       "      <th>value2</th>\n",
       "    </tr>\n",
       "  </thead>\n",
       "  <tbody>\n",
       "    <tr>\n",
       "      <th>0</th>\n",
       "      <td>1</td>\n",
       "      <td>10</td>\n",
       "      <td>100</td>\n",
       "    </tr>\n",
       "    <tr>\n",
       "      <th>1</th>\n",
       "      <td>2</td>\n",
       "      <td>20</td>\n",
       "      <td>200</td>\n",
       "    </tr>\n",
       "    <tr>\n",
       "      <th>2</th>\n",
       "      <td>3</td>\n",
       "      <td>30</td>\n",
       "      <td>300</td>\n",
       "    </tr>\n",
       "  </tbody>\n",
       "</table>\n",
       "</div>"
      ],
      "text/plain": [
       "   id  value1  value2\n",
       "0   1      10     100\n",
       "1   2      20     200\n",
       "2   3      30     300"
      ]
     },
     "execution_count": 36,
     "metadata": {},
     "output_type": "execute_result"
    }
   ],
   "source": [
    "# 创建一个宽格式的 DataFrame  \n",
    "data = {'id': [1, 2, 3],  \n",
    "        'value1': [10, 20, 30],  \n",
    "        'value2': [100, 200, 300]}  \n",
    "df = pd.DataFrame(data) \n",
    "df"
   ]
  },
  {
   "cell_type": "code",
   "execution_count": 37,
   "id": "e18ff095",
   "metadata": {},
   "outputs": [
    {
     "data": {
      "text/html": [
       "<div>\n",
       "<style scoped>\n",
       "    .dataframe tbody tr th:only-of-type {\n",
       "        vertical-align: middle;\n",
       "    }\n",
       "\n",
       "    .dataframe tbody tr th {\n",
       "        vertical-align: top;\n",
       "    }\n",
       "\n",
       "    .dataframe thead th {\n",
       "        text-align: right;\n",
       "    }\n",
       "</style>\n",
       "<table border=\"1\" class=\"dataframe\">\n",
       "  <thead>\n",
       "    <tr style=\"text-align: right;\">\n",
       "      <th></th>\n",
       "      <th></th>\n",
       "      <th>value</th>\n",
       "    </tr>\n",
       "    <tr>\n",
       "      <th>id</th>\n",
       "      <th>time</th>\n",
       "      <th></th>\n",
       "    </tr>\n",
       "  </thead>\n",
       "  <tbody>\n",
       "    <tr>\n",
       "      <th>1</th>\n",
       "      <th>1</th>\n",
       "      <td>10</td>\n",
       "    </tr>\n",
       "    <tr>\n",
       "      <th>2</th>\n",
       "      <th>1</th>\n",
       "      <td>20</td>\n",
       "    </tr>\n",
       "    <tr>\n",
       "      <th>3</th>\n",
       "      <th>1</th>\n",
       "      <td>30</td>\n",
       "    </tr>\n",
       "    <tr>\n",
       "      <th>1</th>\n",
       "      <th>2</th>\n",
       "      <td>100</td>\n",
       "    </tr>\n",
       "    <tr>\n",
       "      <th>2</th>\n",
       "      <th>2</th>\n",
       "      <td>200</td>\n",
       "    </tr>\n",
       "    <tr>\n",
       "      <th>3</th>\n",
       "      <th>2</th>\n",
       "      <td>300</td>\n",
       "    </tr>\n",
       "  </tbody>\n",
       "</table>\n",
       "</div>"
      ],
      "text/plain": [
       "         value\n",
       "id time       \n",
       "1  1        10\n",
       "2  1        20\n",
       "3  1        30\n",
       "1  2       100\n",
       "2  2       200\n",
       "3  2       300"
      ]
     },
     "execution_count": 37,
     "metadata": {},
     "output_type": "execute_result"
    }
   ],
   "source": [
    "# 使用 wide_to_long 函数转换为长格式  \n",
    "df_long = pd.wide_to_long(df, ['value'], i='id', j='time') \n",
    "df_long"
   ]
  },
  {
   "cell_type": "code",
   "execution_count": null,
   "id": "ce097c95",
   "metadata": {},
   "outputs": [],
   "source": []
  }
 ],
 "metadata": {
  "kernelspec": {
   "display_name": "Python 3",
   "language": "python",
   "name": "python3"
  },
  "language_info": {
   "codemirror_mode": {
    "name": "ipython",
    "version": 3
   },
   "file_extension": ".py",
   "mimetype": "text/x-python",
   "name": "python",
   "nbconvert_exporter": "python",
   "pygments_lexer": "ipython3",
   "version": "3.8.8"
  }
 },
 "nbformat": 4,
 "nbformat_minor": 5
}
